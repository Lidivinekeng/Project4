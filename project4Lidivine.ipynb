{
 "cells": [
  {
   "cell_type": "markdown",
   "id": "6ec35eb1",
   "metadata": {},
   "source": [
    "# Prepare Chicago Crime Data for a GitHub Repository"
   ]
  },
  {
   "cell_type": "markdown",
   "id": "30284ecf",
   "metadata": {},
   "source": [
    "- Original Notebook Source: https://github.com/coding-dojo-data-science/preparing-chicago-crime-data\n",
    "- Updated 11/17/22"
   ]
  },
  {
   "cell_type": "markdown",
   "id": "8a7f3b6a",
   "metadata": {},
   "source": [
    ">- This notebook will process a \"Crimes - 2001 to Preset.csv\" crime file in your Downloads folder and save it as smaller .csv's in a new \"Data/Chicago/\" folder inside this notebook's folder/repo."
   ]
  },
  {
   "cell_type": "markdown",
   "id": "9c338d8e",
   "metadata": {},
   "source": [
    "# INSTRUCTIONS"
   ]
  },
  {
   "cell_type": "markdown",
   "id": "6509f0da",
   "metadata": {},
   "source": [
    "- 1) Go to the Chicago Data Portal's page for [\"Crimes - 2001 to Preset\"](https://data.cityofchicago.org/Public-Safety/Crimes-2001-to-Present/ijzp-q8t2).\n",
    "\n",
    "- 2) Click on the Export button on the top right and select CSV. \n",
    "    - Save the file to your Downloads folder instead of your repository. **The file is too big for a repository.**\n",
    "    \n",
    "    \n",
    "    \n",
    "- 3) Wait for the full file to download. \n",
    "    - It is very large (over >1.7GB and may take several minutes to fully download.)\n",
    "    \n",
    "    \n",
    "- 4) Once the download is complete, change `RAW_FILE` variable below to match the filepath to the downloaded file."
   ]
  },
  {
   "cell_type": "markdown",
   "id": "4627fa5b",
   "metadata": {},
   "source": [
    "## 🚨 Set the correct `RAW_FILE` path"
   ]
  },
  {
   "cell_type": "markdown",
   "id": "dc0efd42",
   "metadata": {},
   "source": [
    "- The cell below will attempt to check your Downloads folder for any file with a name that contains \"Crimes_-_2001_to_Present\".\n",
    "    - If you know the file path already, you can skip the next cell and just manually set the RAW_FILE variable in the following code cell."
   ]
  },
  {
   "cell_type": "code",
   "execution_count": 1,
   "id": "14eefd0c",
   "metadata": {
    "ExecuteTime": {
     "end_time": "2023-07-13T18:39:06.113262Z",
     "start_time": "2023-07-13T18:39:06.097636Z"
    }
   },
   "outputs": [
    {
     "name": "stdout",
     "output_type": "stream",
     "text": [
      "- Your Downloads folder is 'C:\\Users\\lidiv\\Downloads/'\n",
      "\n"
     ]
    }
   ],
   "source": [
    "## Run the cell below to attempt to programmatically find your crime file\n",
    "import os,glob\n",
    "\n",
    "## Getting the home folder from environment variables\n",
    "home_folder = os.environ['HOME']\n",
    "# print(\"- Your Home Folder is: \" + home_folder)\n",
    "\n",
    "## Check for downloads folder\n",
    "if 'Downloads' in os.listdir(home_folder):\n",
    "    \n",
    "    \n",
    "    # Print the Downloads folder path\n",
    "    dl_folder = os.path.abspath(os.path.join(home_folder,'Downloads'))\n",
    "    print(f\"- Your Downloads folder is '{dl_folder}/'\\n\")\n",
    "    \n",
    "    ## checking for crime files using glob\n",
    "    crime_files = sorted(glob.glob(r'C:\\Users\\lidiv\\Downloads/Crimes_-_2001_to_Present.csv',recursive=True))\n",
    "    \n",
    "    # If more than \n",
    "    if len(crime_files)==1:\n",
    "        RAW_FILE = crime_files[0]\n",
    "        \n",
    "    elif len(crime_files)>1:\n",
    "        print('[i] The following files were found:')\n",
    "        \n",
    "        for i, fname in enumerate(crime_files):\n",
    "            print(f\"\\tcrime_files[{i}] = '{fname}'\")\n",
    "        print(f'\\n- Please fill in the RAW_FILE variable in the code cell below with the correct filepath.')\n",
    "\n",
    "else:\n",
    "    print(f'[!] Could not programmatically find your downloads folder.')\n",
    "    print('- Try using Finder (on Mac) or File Explorer (Windows) to navigate to your Downloads folder.')\n"
   ]
  },
  {
   "cell_type": "markdown",
   "id": "54c15186",
   "metadata": {},
   "source": [
    "<span style=\"color:red\"> **IF THE CODE ABOVE DID NOT FIND YOUR DOWNLOADED FILE, UNCOMMENT AND CHANGE THE `\"YOUR FILEPATH HERE\"` VARIABLE ONLY IN THE CELL BELOW**"
   ]
  },
  {
   "cell_type": "code",
   "execution_count": 2,
   "id": "3c1267af",
   "metadata": {
    "ExecuteTime": {
     "end_time": "2023-07-13T18:39:06.128855Z",
     "start_time": "2023-07-13T18:39:06.113262Z"
    }
   },
   "outputs": [],
   "source": [
    "## (Required) MAKE SURE TO CHANGE THIS VARIABLE TO MATCH YOUR LOCAL FILE NAME\n",
    "##RAW_FILE = r\"YOUR FILEPATH HERE\")"
   ]
  },
  {
   "cell_type": "markdown",
   "id": "640ac578",
   "metadata": {},
   "source": [
    "<span style=\"color:red\"> **DO NOT CHANGE ANYTHING IN THE CELL BELOW**"
   ]
  },
  {
   "cell_type": "code",
   "execution_count": 3,
   "id": "12758206",
   "metadata": {
    "ExecuteTime": {
     "end_time": "2023-07-13T18:39:06.144512Z",
     "start_time": "2023-07-13T18:39:06.128855Z"
    }
   },
   "outputs": [
    {
     "data": {
      "text/plain": [
       "'C:\\\\Users\\\\lidiv\\\\Downloads/Crimes_-_2001_to_Present.csv'"
      ]
     },
     "execution_count": 3,
     "metadata": {},
     "output_type": "execute_result"
    }
   ],
   "source": [
    "## DO NOT CHANGE THIS CELL\n",
    "if RAW_FILE == r\"YOUR FILEPATH HERE\":\n",
    "\traise Exception(\"You must update the RAW_FILE variable in the previous cell to match your local filepath.\")\n",
    "\t\n",
    "RAW_FILE"
   ]
  },
  {
   "cell_type": "code",
   "execution_count": 4,
   "id": "f400f29a",
   "metadata": {
    "ExecuteTime": {
     "end_time": "2023-07-13T18:39:06.159778Z",
     "start_time": "2023-07-13T18:39:06.144512Z"
    }
   },
   "outputs": [],
   "source": [
    "## (Optional) SET THE FOLDER FOR FINAL FILES\n",
    "OUTPUT_FOLDER = 'Data/Chicago/'\n",
    "os.makedirs(OUTPUT_FOLDER, exist_ok=True)"
   ]
  },
  {
   "cell_type": "markdown",
   "id": "894c80f3",
   "metadata": {},
   "source": [
    "# 🔄 Full Workflow"
   ]
  },
  {
   "cell_type": "markdown",
   "id": "b6fefbd7",
   "metadata": {},
   "source": [
    "- Now that your RAW_FILE variable is set either:\n",
    "    - On the toolbar, click on the Kernel menu > \"Restart and Run All\".\n",
    "    - OR click on this cell first, then on the toolbar click on the \"Cell\" menu > \"Run All Below\""
   ]
  },
  {
   "cell_type": "code",
   "execution_count": 5,
   "id": "0a19b6d3",
   "metadata": {
    "ExecuteTime": {
     "end_time": "2023-07-13T18:39:37.603136Z",
     "start_time": "2023-07-13T18:39:06.161469Z"
    }
   },
   "outputs": [
    {
     "data": {
      "text/html": [
       "<div>\n",
       "<style scoped>\n",
       "    .dataframe tbody tr th:only-of-type {\n",
       "        vertical-align: middle;\n",
       "    }\n",
       "\n",
       "    .dataframe tbody tr th {\n",
       "        vertical-align: top;\n",
       "    }\n",
       "\n",
       "    .dataframe thead th {\n",
       "        text-align: right;\n",
       "    }\n",
       "</style>\n",
       "<table border=\"1\" class=\"dataframe\">\n",
       "  <thead>\n",
       "    <tr style=\"text-align: right;\">\n",
       "      <th></th>\n",
       "      <th>ID</th>\n",
       "      <th>Case Number</th>\n",
       "      <th>Date</th>\n",
       "      <th>Block</th>\n",
       "      <th>IUCR</th>\n",
       "      <th>Primary Type</th>\n",
       "      <th>Description</th>\n",
       "      <th>Location Description</th>\n",
       "      <th>Arrest</th>\n",
       "      <th>Domestic</th>\n",
       "      <th>...</th>\n",
       "      <th>Ward</th>\n",
       "      <th>Community Area</th>\n",
       "      <th>FBI Code</th>\n",
       "      <th>X Coordinate</th>\n",
       "      <th>Y Coordinate</th>\n",
       "      <th>Year</th>\n",
       "      <th>Updated On</th>\n",
       "      <th>Latitude</th>\n",
       "      <th>Longitude</th>\n",
       "      <th>Location</th>\n",
       "    </tr>\n",
       "  </thead>\n",
       "  <tbody>\n",
       "    <tr>\n",
       "      <th>0</th>\n",
       "      <td>11037294</td>\n",
       "      <td>JA371270</td>\n",
       "      <td>03/18/2015 12:00:00 PM</td>\n",
       "      <td>0000X W WACKER DR</td>\n",
       "      <td>1153</td>\n",
       "      <td>DECEPTIVE PRACTICE</td>\n",
       "      <td>FINANCIAL IDENTITY THEFT OVER $ 300</td>\n",
       "      <td>BANK</td>\n",
       "      <td>False</td>\n",
       "      <td>False</td>\n",
       "      <td>...</td>\n",
       "      <td>42.0</td>\n",
       "      <td>32.0</td>\n",
       "      <td>11</td>\n",
       "      <td>NaN</td>\n",
       "      <td>NaN</td>\n",
       "      <td>2015</td>\n",
       "      <td>08/01/2017 03:52:26 PM</td>\n",
       "      <td>NaN</td>\n",
       "      <td>NaN</td>\n",
       "      <td>NaN</td>\n",
       "    </tr>\n",
       "    <tr>\n",
       "      <th>1</th>\n",
       "      <td>11646293</td>\n",
       "      <td>JC213749</td>\n",
       "      <td>12/20/2018 03:00:00 PM</td>\n",
       "      <td>023XX N LOCKWOOD AVE</td>\n",
       "      <td>1154</td>\n",
       "      <td>DECEPTIVE PRACTICE</td>\n",
       "      <td>FINANCIAL IDENTITY THEFT $300 AND UNDER</td>\n",
       "      <td>APARTMENT</td>\n",
       "      <td>False</td>\n",
       "      <td>False</td>\n",
       "      <td>...</td>\n",
       "      <td>36.0</td>\n",
       "      <td>19.0</td>\n",
       "      <td>11</td>\n",
       "      <td>NaN</td>\n",
       "      <td>NaN</td>\n",
       "      <td>2018</td>\n",
       "      <td>04/06/2019 04:04:43 PM</td>\n",
       "      <td>NaN</td>\n",
       "      <td>NaN</td>\n",
       "      <td>NaN</td>\n",
       "    </tr>\n",
       "    <tr>\n",
       "      <th>2</th>\n",
       "      <td>11645836</td>\n",
       "      <td>JC212333</td>\n",
       "      <td>05/01/2016 12:25:00 AM</td>\n",
       "      <td>055XX S ROCKWELL ST</td>\n",
       "      <td>1153</td>\n",
       "      <td>DECEPTIVE PRACTICE</td>\n",
       "      <td>FINANCIAL IDENTITY THEFT OVER $ 300</td>\n",
       "      <td>NaN</td>\n",
       "      <td>False</td>\n",
       "      <td>False</td>\n",
       "      <td>...</td>\n",
       "      <td>15.0</td>\n",
       "      <td>63.0</td>\n",
       "      <td>11</td>\n",
       "      <td>NaN</td>\n",
       "      <td>NaN</td>\n",
       "      <td>2016</td>\n",
       "      <td>04/06/2019 04:04:43 PM</td>\n",
       "      <td>NaN</td>\n",
       "      <td>NaN</td>\n",
       "      <td>NaN</td>\n",
       "    </tr>\n",
       "    <tr>\n",
       "      <th>3</th>\n",
       "      <td>11645959</td>\n",
       "      <td>JC211511</td>\n",
       "      <td>12/20/2018 04:00:00 PM</td>\n",
       "      <td>045XX N ALBANY AVE</td>\n",
       "      <td>2820</td>\n",
       "      <td>OTHER OFFENSE</td>\n",
       "      <td>TELEPHONE THREAT</td>\n",
       "      <td>RESIDENCE</td>\n",
       "      <td>False</td>\n",
       "      <td>False</td>\n",
       "      <td>...</td>\n",
       "      <td>33.0</td>\n",
       "      <td>14.0</td>\n",
       "      <td>08A</td>\n",
       "      <td>NaN</td>\n",
       "      <td>NaN</td>\n",
       "      <td>2018</td>\n",
       "      <td>04/06/2019 04:04:43 PM</td>\n",
       "      <td>NaN</td>\n",
       "      <td>NaN</td>\n",
       "      <td>NaN</td>\n",
       "    </tr>\n",
       "    <tr>\n",
       "      <th>4</th>\n",
       "      <td>11645601</td>\n",
       "      <td>JC212935</td>\n",
       "      <td>06/01/2014 12:01:00 AM</td>\n",
       "      <td>087XX S SANGAMON ST</td>\n",
       "      <td>1153</td>\n",
       "      <td>DECEPTIVE PRACTICE</td>\n",
       "      <td>FINANCIAL IDENTITY THEFT OVER $ 300</td>\n",
       "      <td>RESIDENCE</td>\n",
       "      <td>False</td>\n",
       "      <td>False</td>\n",
       "      <td>...</td>\n",
       "      <td>21.0</td>\n",
       "      <td>71.0</td>\n",
       "      <td>11</td>\n",
       "      <td>NaN</td>\n",
       "      <td>NaN</td>\n",
       "      <td>2014</td>\n",
       "      <td>04/06/2019 04:04:43 PM</td>\n",
       "      <td>NaN</td>\n",
       "      <td>NaN</td>\n",
       "      <td>NaN</td>\n",
       "    </tr>\n",
       "    <tr>\n",
       "      <th>...</th>\n",
       "      <td>...</td>\n",
       "      <td>...</td>\n",
       "      <td>...</td>\n",
       "      <td>...</td>\n",
       "      <td>...</td>\n",
       "      <td>...</td>\n",
       "      <td>...</td>\n",
       "      <td>...</td>\n",
       "      <td>...</td>\n",
       "      <td>...</td>\n",
       "      <td>...</td>\n",
       "      <td>...</td>\n",
       "      <td>...</td>\n",
       "      <td>...</td>\n",
       "      <td>...</td>\n",
       "      <td>...</td>\n",
       "      <td>...</td>\n",
       "      <td>...</td>\n",
       "      <td>...</td>\n",
       "      <td>...</td>\n",
       "      <td>...</td>\n",
       "    </tr>\n",
       "    <tr>\n",
       "      <th>7945416</th>\n",
       "      <td>12131776</td>\n",
       "      <td>JD327752</td>\n",
       "      <td>08/10/2020 08:30:00 PM</td>\n",
       "      <td>066XX S SACRAMENTO AVE</td>\n",
       "      <td>0620</td>\n",
       "      <td>BURGLARY</td>\n",
       "      <td>UNLAWFUL ENTRY</td>\n",
       "      <td>APARTMENT</td>\n",
       "      <td>False</td>\n",
       "      <td>False</td>\n",
       "      <td>...</td>\n",
       "      <td>17.0</td>\n",
       "      <td>66.0</td>\n",
       "      <td>05</td>\n",
       "      <td>1157527.0</td>\n",
       "      <td>1860392.0</td>\n",
       "      <td>2020</td>\n",
       "      <td>08/17/2020 03:41:32 PM</td>\n",
       "      <td>41.772671</td>\n",
       "      <td>-87.698104</td>\n",
       "      <td>(41.772671069, -87.698104059)</td>\n",
       "    </tr>\n",
       "    <tr>\n",
       "      <th>7945417</th>\n",
       "      <td>12082414</td>\n",
       "      <td>JD269218</td>\n",
       "      <td>06/18/2020 09:00:00 PM</td>\n",
       "      <td>093XX S DR MARTIN LUTHER KING JR DR</td>\n",
       "      <td>0820</td>\n",
       "      <td>THEFT</td>\n",
       "      <td>$500 AND UNDER</td>\n",
       "      <td>RESIDENCE</td>\n",
       "      <td>False</td>\n",
       "      <td>False</td>\n",
       "      <td>...</td>\n",
       "      <td>9.0</td>\n",
       "      <td>49.0</td>\n",
       "      <td>06</td>\n",
       "      <td>1180558.0</td>\n",
       "      <td>1843036.0</td>\n",
       "      <td>2020</td>\n",
       "      <td>06/25/2020 03:41:40 PM</td>\n",
       "      <td>41.724546</td>\n",
       "      <td>-87.614211</td>\n",
       "      <td>(41.724546436, -87.614210743)</td>\n",
       "    </tr>\n",
       "    <tr>\n",
       "      <th>7945418</th>\n",
       "      <td>12118237</td>\n",
       "      <td>JD311791</td>\n",
       "      <td>07/27/2020 03:02:00 PM</td>\n",
       "      <td>033XX W POLK ST</td>\n",
       "      <td>0486</td>\n",
       "      <td>BATTERY</td>\n",
       "      <td>DOMESTIC BATTERY SIMPLE</td>\n",
       "      <td>APARTMENT</td>\n",
       "      <td>False</td>\n",
       "      <td>True</td>\n",
       "      <td>...</td>\n",
       "      <td>24.0</td>\n",
       "      <td>27.0</td>\n",
       "      <td>08B</td>\n",
       "      <td>1154169.0</td>\n",
       "      <td>1896171.0</td>\n",
       "      <td>2020</td>\n",
       "      <td>08/03/2020 03:41:51 PM</td>\n",
       "      <td>41.870921</td>\n",
       "      <td>-87.709461</td>\n",
       "      <td>(41.870920735, -87.709461362)</td>\n",
       "    </tr>\n",
       "    <tr>\n",
       "      <th>7945419</th>\n",
       "      <td>12142591</td>\n",
       "      <td>JD340297</td>\n",
       "      <td>08/14/2020 03:00:00 PM</td>\n",
       "      <td>023XX W ROSEMONT AVE</td>\n",
       "      <td>0910</td>\n",
       "      <td>MOTOR VEHICLE THEFT</td>\n",
       "      <td>AUTOMOBILE</td>\n",
       "      <td>STREET</td>\n",
       "      <td>False</td>\n",
       "      <td>False</td>\n",
       "      <td>...</td>\n",
       "      <td>50.0</td>\n",
       "      <td>2.0</td>\n",
       "      <td>07</td>\n",
       "      <td>1159419.0</td>\n",
       "      <td>1941765.0</td>\n",
       "      <td>2020</td>\n",
       "      <td>08/26/2020 03:40:41 PM</td>\n",
       "      <td>41.995927</td>\n",
       "      <td>-87.688929</td>\n",
       "      <td>(41.995927389, -87.688928533)</td>\n",
       "    </tr>\n",
       "    <tr>\n",
       "      <th>7945420</th>\n",
       "      <td>12002171</td>\n",
       "      <td>JD177406</td>\n",
       "      <td>03/06/2020 02:00:00 PM</td>\n",
       "      <td>033XX N LAKEWOOD AVE</td>\n",
       "      <td>1150</td>\n",
       "      <td>DECEPTIVE PRACTICE</td>\n",
       "      <td>CREDIT CARD FRAUD</td>\n",
       "      <td>APARTMENT</td>\n",
       "      <td>False</td>\n",
       "      <td>False</td>\n",
       "      <td>...</td>\n",
       "      <td>44.0</td>\n",
       "      <td>6.0</td>\n",
       "      <td>11</td>\n",
       "      <td>1167040.0</td>\n",
       "      <td>1922212.0</td>\n",
       "      <td>2020</td>\n",
       "      <td>03/13/2020 03:41:29 PM</td>\n",
       "      <td>41.942112</td>\n",
       "      <td>-87.661459</td>\n",
       "      <td>(41.942112495, -87.661458579)</td>\n",
       "    </tr>\n",
       "  </tbody>\n",
       "</table>\n",
       "<p>7945421 rows × 22 columns</p>\n",
       "</div>"
      ],
      "text/plain": [
       "               ID Case Number                    Date  \\\n",
       "0        11037294    JA371270  03/18/2015 12:00:00 PM   \n",
       "1        11646293    JC213749  12/20/2018 03:00:00 PM   \n",
       "2        11645836    JC212333  05/01/2016 12:25:00 AM   \n",
       "3        11645959    JC211511  12/20/2018 04:00:00 PM   \n",
       "4        11645601    JC212935  06/01/2014 12:01:00 AM   \n",
       "...           ...         ...                     ...   \n",
       "7945416  12131776    JD327752  08/10/2020 08:30:00 PM   \n",
       "7945417  12082414    JD269218  06/18/2020 09:00:00 PM   \n",
       "7945418  12118237    JD311791  07/27/2020 03:02:00 PM   \n",
       "7945419  12142591    JD340297  08/14/2020 03:00:00 PM   \n",
       "7945420  12002171    JD177406  03/06/2020 02:00:00 PM   \n",
       "\n",
       "                                       Block  IUCR         Primary Type  \\\n",
       "0                          0000X W WACKER DR  1153   DECEPTIVE PRACTICE   \n",
       "1                       023XX N LOCKWOOD AVE  1154   DECEPTIVE PRACTICE   \n",
       "2                        055XX S ROCKWELL ST  1153   DECEPTIVE PRACTICE   \n",
       "3                         045XX N ALBANY AVE  2820        OTHER OFFENSE   \n",
       "4                        087XX S SANGAMON ST  1153   DECEPTIVE PRACTICE   \n",
       "...                                      ...   ...                  ...   \n",
       "7945416               066XX S SACRAMENTO AVE  0620             BURGLARY   \n",
       "7945417  093XX S DR MARTIN LUTHER KING JR DR  0820                THEFT   \n",
       "7945418                      033XX W POLK ST  0486              BATTERY   \n",
       "7945419                 023XX W ROSEMONT AVE  0910  MOTOR VEHICLE THEFT   \n",
       "7945420                 033XX N LAKEWOOD AVE  1150   DECEPTIVE PRACTICE   \n",
       "\n",
       "                                     Description Location Description  Arrest  \\\n",
       "0            FINANCIAL IDENTITY THEFT OVER $ 300                 BANK   False   \n",
       "1        FINANCIAL IDENTITY THEFT $300 AND UNDER            APARTMENT   False   \n",
       "2            FINANCIAL IDENTITY THEFT OVER $ 300                  NaN   False   \n",
       "3                               TELEPHONE THREAT            RESIDENCE   False   \n",
       "4            FINANCIAL IDENTITY THEFT OVER $ 300            RESIDENCE   False   \n",
       "...                                          ...                  ...     ...   \n",
       "7945416                           UNLAWFUL ENTRY            APARTMENT   False   \n",
       "7945417                           $500 AND UNDER            RESIDENCE   False   \n",
       "7945418                  DOMESTIC BATTERY SIMPLE            APARTMENT   False   \n",
       "7945419                               AUTOMOBILE               STREET   False   \n",
       "7945420                        CREDIT CARD FRAUD            APARTMENT   False   \n",
       "\n",
       "         Domestic  ...  Ward  Community Area  FBI Code  X Coordinate  \\\n",
       "0           False  ...  42.0            32.0        11           NaN   \n",
       "1           False  ...  36.0            19.0        11           NaN   \n",
       "2           False  ...  15.0            63.0        11           NaN   \n",
       "3           False  ...  33.0            14.0       08A           NaN   \n",
       "4           False  ...  21.0            71.0        11           NaN   \n",
       "...           ...  ...   ...             ...       ...           ...   \n",
       "7945416     False  ...  17.0            66.0        05     1157527.0   \n",
       "7945417     False  ...   9.0            49.0        06     1180558.0   \n",
       "7945418      True  ...  24.0            27.0       08B     1154169.0   \n",
       "7945419     False  ...  50.0             2.0        07     1159419.0   \n",
       "7945420     False  ...  44.0             6.0        11     1167040.0   \n",
       "\n",
       "        Y Coordinate  Year              Updated On   Latitude  Longitude  \\\n",
       "0                NaN  2015  08/01/2017 03:52:26 PM        NaN        NaN   \n",
       "1                NaN  2018  04/06/2019 04:04:43 PM        NaN        NaN   \n",
       "2                NaN  2016  04/06/2019 04:04:43 PM        NaN        NaN   \n",
       "3                NaN  2018  04/06/2019 04:04:43 PM        NaN        NaN   \n",
       "4                NaN  2014  04/06/2019 04:04:43 PM        NaN        NaN   \n",
       "...              ...   ...                     ...        ...        ...   \n",
       "7945416    1860392.0  2020  08/17/2020 03:41:32 PM  41.772671 -87.698104   \n",
       "7945417    1843036.0  2020  06/25/2020 03:41:40 PM  41.724546 -87.614211   \n",
       "7945418    1896171.0  2020  08/03/2020 03:41:51 PM  41.870921 -87.709461   \n",
       "7945419    1941765.0  2020  08/26/2020 03:40:41 PM  41.995927 -87.688929   \n",
       "7945420    1922212.0  2020  03/13/2020 03:41:29 PM  41.942112 -87.661459   \n",
       "\n",
       "                              Location  \n",
       "0                                  NaN  \n",
       "1                                  NaN  \n",
       "2                                  NaN  \n",
       "3                                  NaN  \n",
       "4                                  NaN  \n",
       "...                                ...  \n",
       "7945416  (41.772671069, -87.698104059)  \n",
       "7945417  (41.724546436, -87.614210743)  \n",
       "7945418  (41.870920735, -87.709461362)  \n",
       "7945419  (41.995927389, -87.688928533)  \n",
       "7945420  (41.942112495, -87.661458579)  \n",
       "\n",
       "[7945421 rows x 22 columns]"
      ]
     },
     "execution_count": 5,
     "metadata": {},
     "output_type": "execute_result"
    }
   ],
   "source": [
    "import pandas as pd\n",
    "\n",
    "chicago_full = pd.read_csv(RAW_FILE)\n",
    "chicago_full"
   ]
  },
  {
   "cell_type": "code",
   "execution_count": 6,
   "id": "13ea2508",
   "metadata": {
    "ExecuteTime": {
     "end_time": "2023-07-13T18:40:10.714159Z",
     "start_time": "2023-07-13T18:39:37.606100Z"
    }
   },
   "outputs": [
    {
     "data": {
      "text/html": [
       "<div>\n",
       "<style scoped>\n",
       "    .dataframe tbody tr th:only-of-type {\n",
       "        vertical-align: middle;\n",
       "    }\n",
       "\n",
       "    .dataframe tbody tr th {\n",
       "        vertical-align: top;\n",
       "    }\n",
       "\n",
       "    .dataframe thead th {\n",
       "        text-align: right;\n",
       "    }\n",
       "</style>\n",
       "<table border=\"1\" class=\"dataframe\">\n",
       "  <thead>\n",
       "    <tr style=\"text-align: right;\">\n",
       "      <th></th>\n",
       "      <th>ID</th>\n",
       "      <th>Case Number</th>\n",
       "      <th>Date</th>\n",
       "      <th>Block</th>\n",
       "      <th>IUCR</th>\n",
       "      <th>Primary Type</th>\n",
       "      <th>Description</th>\n",
       "      <th>Location Description</th>\n",
       "      <th>Arrest</th>\n",
       "      <th>Domestic</th>\n",
       "      <th>...</th>\n",
       "      <th>Community Area</th>\n",
       "      <th>FBI Code</th>\n",
       "      <th>X Coordinate</th>\n",
       "      <th>Y Coordinate</th>\n",
       "      <th>Year</th>\n",
       "      <th>Updated On</th>\n",
       "      <th>Latitude</th>\n",
       "      <th>Longitude</th>\n",
       "      <th>Location</th>\n",
       "      <th>Datetime</th>\n",
       "    </tr>\n",
       "  </thead>\n",
       "  <tbody>\n",
       "    <tr>\n",
       "      <th>2173249</th>\n",
       "      <td>1319931</td>\n",
       "      <td>G001079</td>\n",
       "      <td>01/01/2001 01:00:00 PM</td>\n",
       "      <td>060XX S ARTESIAN AV</td>\n",
       "      <td>0460</td>\n",
       "      <td>BATTERY</td>\n",
       "      <td>SIMPLE</td>\n",
       "      <td>RESIDENCE</td>\n",
       "      <td>False</td>\n",
       "      <td>True</td>\n",
       "      <td>...</td>\n",
       "      <td>NaN</td>\n",
       "      <td>08B</td>\n",
       "      <td>1161114.0</td>\n",
       "      <td>1864508.0</td>\n",
       "      <td>2001</td>\n",
       "      <td>09/07/2021 03:41:02 PM</td>\n",
       "      <td>41.783892</td>\n",
       "      <td>-87.684841</td>\n",
       "      <td>(41.783892488, -87.684841225)</td>\n",
       "      <td>2001-01-01 01:00:00</td>\n",
       "    </tr>\n",
       "    <tr>\n",
       "      <th>2175168</th>\n",
       "      <td>1326041</td>\n",
       "      <td>G021012</td>\n",
       "      <td>01/01/2001 01:00:00 AM</td>\n",
       "      <td>048XX W HUTCHINSON ST</td>\n",
       "      <td>0460</td>\n",
       "      <td>BATTERY</td>\n",
       "      <td>SIMPLE</td>\n",
       "      <td>RESIDENCE</td>\n",
       "      <td>False</td>\n",
       "      <td>False</td>\n",
       "      <td>...</td>\n",
       "      <td>NaN</td>\n",
       "      <td>08B</td>\n",
       "      <td>1143134.0</td>\n",
       "      <td>1927772.0</td>\n",
       "      <td>2001</td>\n",
       "      <td>08/17/2015 03:03:40 PM</td>\n",
       "      <td>41.957850</td>\n",
       "      <td>-87.749185</td>\n",
       "      <td>(41.957850185, -87.749184996)</td>\n",
       "      <td>2001-01-01 01:00:00</td>\n",
       "    </tr>\n",
       "    <tr>\n",
       "      <th>2208394</th>\n",
       "      <td>1310717</td>\n",
       "      <td>G001093</td>\n",
       "      <td>01/01/2001 01:00:00 AM</td>\n",
       "      <td>071XX N WOLCOTT AV</td>\n",
       "      <td>1320</td>\n",
       "      <td>CRIMINAL DAMAGE</td>\n",
       "      <td>TO VEHICLE</td>\n",
       "      <td>STREET</td>\n",
       "      <td>False</td>\n",
       "      <td>False</td>\n",
       "      <td>...</td>\n",
       "      <td>NaN</td>\n",
       "      <td>14</td>\n",
       "      <td>1162335.0</td>\n",
       "      <td>1947787.0</td>\n",
       "      <td>2001</td>\n",
       "      <td>08/17/2015 03:03:40 PM</td>\n",
       "      <td>42.012391</td>\n",
       "      <td>-87.678032</td>\n",
       "      <td>(42.0123912, -87.678032389)</td>\n",
       "      <td>2001-01-01 01:00:00</td>\n",
       "    </tr>\n",
       "    <tr>\n",
       "      <th>2221591</th>\n",
       "      <td>1427622</td>\n",
       "      <td>G150373</td>\n",
       "      <td>01/01/2001 01:00:00 PM</td>\n",
       "      <td>045XX W SCHUBERT AV</td>\n",
       "      <td>2825</td>\n",
       "      <td>OTHER OFFENSE</td>\n",
       "      <td>HARASSMENT BY TELEPHONE</td>\n",
       "      <td>RESIDENCE</td>\n",
       "      <td>False</td>\n",
       "      <td>False</td>\n",
       "      <td>...</td>\n",
       "      <td>NaN</td>\n",
       "      <td>26</td>\n",
       "      <td>1145750.0</td>\n",
       "      <td>1917534.0</td>\n",
       "      <td>2001</td>\n",
       "      <td>08/17/2015 03:03:40 PM</td>\n",
       "      <td>41.929707</td>\n",
       "      <td>-87.739828</td>\n",
       "      <td>(41.929706879, -87.73982819)</td>\n",
       "      <td>2001-01-01 01:00:00</td>\n",
       "    </tr>\n",
       "    <tr>\n",
       "      <th>2165871</th>\n",
       "      <td>1323691</td>\n",
       "      <td>G010990</td>\n",
       "      <td>01/01/2001 01:00:00 AM</td>\n",
       "      <td>025XX W ROOSEVELT RD</td>\n",
       "      <td>143A</td>\n",
       "      <td>WEAPONS VIOLATION</td>\n",
       "      <td>UNLAWFUL POSS OF HANDGUN</td>\n",
       "      <td>STREET</td>\n",
       "      <td>False</td>\n",
       "      <td>False</td>\n",
       "      <td>...</td>\n",
       "      <td>NaN</td>\n",
       "      <td>15</td>\n",
       "      <td>1159886.0</td>\n",
       "      <td>1894673.0</td>\n",
       "      <td>2001</td>\n",
       "      <td>08/17/2015 03:03:40 PM</td>\n",
       "      <td>41.866694</td>\n",
       "      <td>-87.688513</td>\n",
       "      <td>(41.86669414, -87.688513488)</td>\n",
       "      <td>2001-01-01 01:00:00</td>\n",
       "    </tr>\n",
       "    <tr>\n",
       "      <th>...</th>\n",
       "      <td>...</td>\n",
       "      <td>...</td>\n",
       "      <td>...</td>\n",
       "      <td>...</td>\n",
       "      <td>...</td>\n",
       "      <td>...</td>\n",
       "      <td>...</td>\n",
       "      <td>...</td>\n",
       "      <td>...</td>\n",
       "      <td>...</td>\n",
       "      <td>...</td>\n",
       "      <td>...</td>\n",
       "      <td>...</td>\n",
       "      <td>...</td>\n",
       "      <td>...</td>\n",
       "      <td>...</td>\n",
       "      <td>...</td>\n",
       "      <td>...</td>\n",
       "      <td>...</td>\n",
       "      <td>...</td>\n",
       "      <td>...</td>\n",
       "    </tr>\n",
       "    <tr>\n",
       "      <th>161372</th>\n",
       "      <td>13285161</td>\n",
       "      <td>JG512780</td>\n",
       "      <td>11/21/2023 12:00:00 AM</td>\n",
       "      <td>016XX N HALSTED ST</td>\n",
       "      <td>0486</td>\n",
       "      <td>BATTERY</td>\n",
       "      <td>DOMESTIC BATTERY SIMPLE</td>\n",
       "      <td>APARTMENT</td>\n",
       "      <td>False</td>\n",
       "      <td>True</td>\n",
       "      <td>...</td>\n",
       "      <td>7.0</td>\n",
       "      <td>08B</td>\n",
       "      <td>1170717.0</td>\n",
       "      <td>1910915.0</td>\n",
       "      <td>2023</td>\n",
       "      <td>11/28/2023 03:41:41 PM</td>\n",
       "      <td>41.911033</td>\n",
       "      <td>-87.648276</td>\n",
       "      <td>(41.911033117, -87.648275815)</td>\n",
       "      <td>2023-11-21 12:00:00</td>\n",
       "    </tr>\n",
       "    <tr>\n",
       "      <th>161258</th>\n",
       "      <td>13290668</td>\n",
       "      <td>JG520193</td>\n",
       "      <td>11/21/2023 12:00:00 AM</td>\n",
       "      <td>092XX S JEFFERY AVE</td>\n",
       "      <td>0610</td>\n",
       "      <td>BURGLARY</td>\n",
       "      <td>FORCIBLE ENTRY</td>\n",
       "      <td>RESIDENCE</td>\n",
       "      <td>False</td>\n",
       "      <td>False</td>\n",
       "      <td>...</td>\n",
       "      <td>48.0</td>\n",
       "      <td>05</td>\n",
       "      <td>NaN</td>\n",
       "      <td>NaN</td>\n",
       "      <td>2023</td>\n",
       "      <td>11/28/2023 03:41:41 PM</td>\n",
       "      <td>NaN</td>\n",
       "      <td>NaN</td>\n",
       "      <td>NaN</td>\n",
       "      <td>2023-11-21 12:00:00</td>\n",
       "    </tr>\n",
       "    <tr>\n",
       "      <th>160803</th>\n",
       "      <td>13285329</td>\n",
       "      <td>JG514059</td>\n",
       "      <td>11/21/2023 12:00:00 AM</td>\n",
       "      <td>061XX N OVERHILL AVE</td>\n",
       "      <td>1120</td>\n",
       "      <td>DECEPTIVE PRACTICE</td>\n",
       "      <td>FORGERY</td>\n",
       "      <td>RESIDENCE</td>\n",
       "      <td>False</td>\n",
       "      <td>False</td>\n",
       "      <td>...</td>\n",
       "      <td>10.0</td>\n",
       "      <td>10</td>\n",
       "      <td>1124056.0</td>\n",
       "      <td>1940258.0</td>\n",
       "      <td>2023</td>\n",
       "      <td>11/28/2023 03:41:41 PM</td>\n",
       "      <td>41.992449</td>\n",
       "      <td>-87.819048</td>\n",
       "      <td>(41.992448577, -87.819048128)</td>\n",
       "      <td>2023-11-21 12:00:00</td>\n",
       "    </tr>\n",
       "    <tr>\n",
       "      <th>160922</th>\n",
       "      <td>13283954</td>\n",
       "      <td>JG512330</td>\n",
       "      <td>11/21/2023 12:00:00 AM</td>\n",
       "      <td>034XX W GRENSHAW ST</td>\n",
       "      <td>0610</td>\n",
       "      <td>BURGLARY</td>\n",
       "      <td>FORCIBLE ENTRY</td>\n",
       "      <td>APARTMENT</td>\n",
       "      <td>False</td>\n",
       "      <td>False</td>\n",
       "      <td>...</td>\n",
       "      <td>29.0</td>\n",
       "      <td>05</td>\n",
       "      <td>1153649.0</td>\n",
       "      <td>1894846.0</td>\n",
       "      <td>2023</td>\n",
       "      <td>11/28/2023 03:41:41 PM</td>\n",
       "      <td>41.867295</td>\n",
       "      <td>-87.711406</td>\n",
       "      <td>(41.867295145, -87.711405722)</td>\n",
       "      <td>2023-11-21 12:00:00</td>\n",
       "    </tr>\n",
       "    <tr>\n",
       "      <th>160728</th>\n",
       "      <td>13284277</td>\n",
       "      <td>JG512728</td>\n",
       "      <td>11/21/2023 12:00:00 AM</td>\n",
       "      <td>001XX E ERIE ST</td>\n",
       "      <td>0460</td>\n",
       "      <td>BATTERY</td>\n",
       "      <td>SIMPLE</td>\n",
       "      <td>STREET</td>\n",
       "      <td>False</td>\n",
       "      <td>False</td>\n",
       "      <td>...</td>\n",
       "      <td>8.0</td>\n",
       "      <td>08B</td>\n",
       "      <td>1177116.0</td>\n",
       "      <td>1904805.0</td>\n",
       "      <td>2023</td>\n",
       "      <td>11/28/2023 03:41:41 PM</td>\n",
       "      <td>41.894124</td>\n",
       "      <td>-87.624954</td>\n",
       "      <td>(41.894124351, -87.624953707)</td>\n",
       "      <td>2023-11-21 12:00:00</td>\n",
       "    </tr>\n",
       "  </tbody>\n",
       "</table>\n",
       "<p>7945421 rows × 23 columns</p>\n",
       "</div>"
      ],
      "text/plain": [
       "               ID Case Number                    Date                  Block  \\\n",
       "2173249   1319931     G001079  01/01/2001 01:00:00 PM    060XX S ARTESIAN AV   \n",
       "2175168   1326041     G021012  01/01/2001 01:00:00 AM  048XX W HUTCHINSON ST   \n",
       "2208394   1310717     G001093  01/01/2001 01:00:00 AM     071XX N WOLCOTT AV   \n",
       "2221591   1427622     G150373  01/01/2001 01:00:00 PM    045XX W SCHUBERT AV   \n",
       "2165871   1323691     G010990  01/01/2001 01:00:00 AM   025XX W ROOSEVELT RD   \n",
       "...           ...         ...                     ...                    ...   \n",
       "161372   13285161    JG512780  11/21/2023 12:00:00 AM     016XX N HALSTED ST   \n",
       "161258   13290668    JG520193  11/21/2023 12:00:00 AM    092XX S JEFFERY AVE   \n",
       "160803   13285329    JG514059  11/21/2023 12:00:00 AM   061XX N OVERHILL AVE   \n",
       "160922   13283954    JG512330  11/21/2023 12:00:00 AM    034XX W GRENSHAW ST   \n",
       "160728   13284277    JG512728  11/21/2023 12:00:00 AM        001XX E ERIE ST   \n",
       "\n",
       "         IUCR        Primary Type               Description  \\\n",
       "2173249  0460             BATTERY                    SIMPLE   \n",
       "2175168  0460             BATTERY                    SIMPLE   \n",
       "2208394  1320     CRIMINAL DAMAGE                TO VEHICLE   \n",
       "2221591  2825       OTHER OFFENSE   HARASSMENT BY TELEPHONE   \n",
       "2165871  143A   WEAPONS VIOLATION  UNLAWFUL POSS OF HANDGUN   \n",
       "...       ...                 ...                       ...   \n",
       "161372   0486             BATTERY   DOMESTIC BATTERY SIMPLE   \n",
       "161258   0610            BURGLARY            FORCIBLE ENTRY   \n",
       "160803   1120  DECEPTIVE PRACTICE                   FORGERY   \n",
       "160922   0610            BURGLARY            FORCIBLE ENTRY   \n",
       "160728   0460             BATTERY                    SIMPLE   \n",
       "\n",
       "        Location Description  Arrest  Domestic  ...  Community Area  FBI Code  \\\n",
       "2173249            RESIDENCE   False      True  ...             NaN       08B   \n",
       "2175168            RESIDENCE   False     False  ...             NaN       08B   \n",
       "2208394               STREET   False     False  ...             NaN        14   \n",
       "2221591            RESIDENCE   False     False  ...             NaN        26   \n",
       "2165871               STREET   False     False  ...             NaN        15   \n",
       "...                      ...     ...       ...  ...             ...       ...   \n",
       "161372             APARTMENT   False      True  ...             7.0       08B   \n",
       "161258             RESIDENCE   False     False  ...            48.0        05   \n",
       "160803             RESIDENCE   False     False  ...            10.0        10   \n",
       "160922             APARTMENT   False     False  ...            29.0        05   \n",
       "160728                STREET   False     False  ...             8.0       08B   \n",
       "\n",
       "         X Coordinate  Y Coordinate  Year              Updated On   Latitude  \\\n",
       "2173249     1161114.0     1864508.0  2001  09/07/2021 03:41:02 PM  41.783892   \n",
       "2175168     1143134.0     1927772.0  2001  08/17/2015 03:03:40 PM  41.957850   \n",
       "2208394     1162335.0     1947787.0  2001  08/17/2015 03:03:40 PM  42.012391   \n",
       "2221591     1145750.0     1917534.0  2001  08/17/2015 03:03:40 PM  41.929707   \n",
       "2165871     1159886.0     1894673.0  2001  08/17/2015 03:03:40 PM  41.866694   \n",
       "...               ...           ...   ...                     ...        ...   \n",
       "161372      1170717.0     1910915.0  2023  11/28/2023 03:41:41 PM  41.911033   \n",
       "161258            NaN           NaN  2023  11/28/2023 03:41:41 PM        NaN   \n",
       "160803      1124056.0     1940258.0  2023  11/28/2023 03:41:41 PM  41.992449   \n",
       "160922      1153649.0     1894846.0  2023  11/28/2023 03:41:41 PM  41.867295   \n",
       "160728      1177116.0     1904805.0  2023  11/28/2023 03:41:41 PM  41.894124   \n",
       "\n",
       "         Longitude                       Location            Datetime  \n",
       "2173249 -87.684841  (41.783892488, -87.684841225) 2001-01-01 01:00:00  \n",
       "2175168 -87.749185  (41.957850185, -87.749184996) 2001-01-01 01:00:00  \n",
       "2208394 -87.678032    (42.0123912, -87.678032389) 2001-01-01 01:00:00  \n",
       "2221591 -87.739828   (41.929706879, -87.73982819) 2001-01-01 01:00:00  \n",
       "2165871 -87.688513   (41.86669414, -87.688513488) 2001-01-01 01:00:00  \n",
       "...            ...                            ...                 ...  \n",
       "161372  -87.648276  (41.911033117, -87.648275815) 2023-11-21 12:00:00  \n",
       "161258         NaN                            NaN 2023-11-21 12:00:00  \n",
       "160803  -87.819048  (41.992448577, -87.819048128) 2023-11-21 12:00:00  \n",
       "160922  -87.711406  (41.867295145, -87.711405722) 2023-11-21 12:00:00  \n",
       "160728  -87.624954  (41.894124351, -87.624953707) 2023-11-21 12:00:00  \n",
       "\n",
       "[7945421 rows x 23 columns]"
      ]
     },
     "execution_count": 6,
     "metadata": {},
     "output_type": "execute_result"
    }
   ],
   "source": [
    "# this cell can take up to 1 min to run\n",
    "date_format = \"%m/%d/%Y %H:%M:%S %p\"\n",
    "\n",
    "chicago_full['Datetime'] = pd.to_datetime(chicago_full['Date'], format=date_format)\n",
    "chicago_full = chicago_full.sort_values('Datetime')\n",
    "chicago_full"
   ]
  },
  {
   "cell_type": "markdown",
   "id": "1d5375bd",
   "metadata": {},
   "source": [
    "## Separate the Full Dataset by Years"
   ]
  },
  {
   "cell_type": "code",
   "execution_count": 7,
   "id": "dad9de53",
   "metadata": {
    "ExecuteTime": {
     "end_time": "2023-07-13T18:40:11.180018Z",
     "start_time": "2023-07-13T18:40:10.716168Z"
    }
   },
   "outputs": [
    {
     "data": {
      "text/plain": [
       "2173249    2001\n",
       "2175168    2001\n",
       "2208394    2001\n",
       "2221591    2001\n",
       "2165871    2001\n",
       "           ... \n",
       "161372     2023\n",
       "161258     2023\n",
       "160803     2023\n",
       "160922     2023\n",
       "160728     2023\n",
       "Name: Datetime, Length: 7945421, dtype: int64"
      ]
     },
     "execution_count": 7,
     "metadata": {},
     "output_type": "execute_result"
    }
   ],
   "source": [
    "chicago_full['Datetime'].dt.year"
   ]
  },
  {
   "cell_type": "code",
   "execution_count": 8,
   "id": "387c9dac",
   "metadata": {
    "ExecuteTime": {
     "end_time": "2023-07-13T18:40:14.503394Z",
     "start_time": "2023-07-13T18:40:11.180018Z"
    }
   },
   "outputs": [
    {
     "data": {
      "text/plain": [
       "2002    486809\n",
       "2001    485898\n",
       "2003    475987\n",
       "2004    469427\n",
       "2005    453774\n",
       "2006    448179\n",
       "2007    437090\n",
       "2008    427187\n",
       "2009    392829\n",
       "2010    370518\n",
       "2011    351998\n",
       "2012    336327\n",
       "2013    307544\n",
       "2014    275805\n",
       "2016    269850\n",
       "2017    269115\n",
       "2018    268931\n",
       "2015    264810\n",
       "2019    261389\n",
       "2022    239056\n",
       "2023    231679\n",
       "2020    212255\n",
       "2021    208964\n",
       "Name: Year, dtype: int64"
      ]
     },
     "execution_count": 8,
     "metadata": {},
     "output_type": "execute_result"
    }
   ],
   "source": [
    "# save the years for every crime\n",
    "chicago_full[\"Year\"] = chicago_full['Datetime'].dt.year.astype(str)\n",
    "chicago_full[\"Year\"].value_counts()"
   ]
  },
  {
   "cell_type": "code",
   "execution_count": 9,
   "id": "6417fc0d",
   "metadata": {
    "ExecuteTime": {
     "end_time": "2023-07-13T18:40:14.519321Z",
     "start_time": "2023-07-13T18:40:14.503394Z"
    }
   },
   "outputs": [],
   "source": [
    "## Dropping unneeded columns to reduce file size\n",
    "drop_cols = [\"X Coordinate\",\"Y Coordinate\", \"Community Area\",\"FBI Code\",\n",
    "             \"Case Number\",\"Updated On\",'Block','Location','IUCR']"
   ]
  },
  {
   "cell_type": "code",
   "execution_count": 10,
   "id": "e90d0318",
   "metadata": {
    "ExecuteTime": {
     "end_time": "2023-07-13T18:40:16.159650Z",
     "start_time": "2023-07-13T18:40:14.522767Z"
    }
   },
   "outputs": [
    {
     "data": {
      "text/html": [
       "<div>\n",
       "<style scoped>\n",
       "    .dataframe tbody tr th:only-of-type {\n",
       "        vertical-align: middle;\n",
       "    }\n",
       "\n",
       "    .dataframe tbody tr th {\n",
       "        vertical-align: top;\n",
       "    }\n",
       "\n",
       "    .dataframe thead th {\n",
       "        text-align: right;\n",
       "    }\n",
       "</style>\n",
       "<table border=\"1\" class=\"dataframe\">\n",
       "  <thead>\n",
       "    <tr style=\"text-align: right;\">\n",
       "      <th></th>\n",
       "      <th>ID</th>\n",
       "      <th>Date</th>\n",
       "      <th>Primary Type</th>\n",
       "      <th>Description</th>\n",
       "      <th>Location Description</th>\n",
       "      <th>Arrest</th>\n",
       "      <th>Domestic</th>\n",
       "      <th>Beat</th>\n",
       "      <th>District</th>\n",
       "      <th>Ward</th>\n",
       "      <th>Year</th>\n",
       "      <th>Latitude</th>\n",
       "      <th>Longitude</th>\n",
       "    </tr>\n",
       "    <tr>\n",
       "      <th>Datetime</th>\n",
       "      <th></th>\n",
       "      <th></th>\n",
       "      <th></th>\n",
       "      <th></th>\n",
       "      <th></th>\n",
       "      <th></th>\n",
       "      <th></th>\n",
       "      <th></th>\n",
       "      <th></th>\n",
       "      <th></th>\n",
       "      <th></th>\n",
       "      <th></th>\n",
       "      <th></th>\n",
       "    </tr>\n",
       "  </thead>\n",
       "  <tbody>\n",
       "    <tr>\n",
       "      <th>2001-01-01 01:00:00</th>\n",
       "      <td>1319931</td>\n",
       "      <td>01/01/2001 01:00:00 PM</td>\n",
       "      <td>BATTERY</td>\n",
       "      <td>SIMPLE</td>\n",
       "      <td>RESIDENCE</td>\n",
       "      <td>False</td>\n",
       "      <td>True</td>\n",
       "      <td>825</td>\n",
       "      <td>8.0</td>\n",
       "      <td>NaN</td>\n",
       "      <td>2001</td>\n",
       "      <td>41.783892</td>\n",
       "      <td>-87.684841</td>\n",
       "    </tr>\n",
       "    <tr>\n",
       "      <th>2001-01-01 01:00:00</th>\n",
       "      <td>1326041</td>\n",
       "      <td>01/01/2001 01:00:00 AM</td>\n",
       "      <td>BATTERY</td>\n",
       "      <td>SIMPLE</td>\n",
       "      <td>RESIDENCE</td>\n",
       "      <td>False</td>\n",
       "      <td>False</td>\n",
       "      <td>1624</td>\n",
       "      <td>16.0</td>\n",
       "      <td>NaN</td>\n",
       "      <td>2001</td>\n",
       "      <td>41.957850</td>\n",
       "      <td>-87.749185</td>\n",
       "    </tr>\n",
       "    <tr>\n",
       "      <th>2001-01-01 01:00:00</th>\n",
       "      <td>1310717</td>\n",
       "      <td>01/01/2001 01:00:00 AM</td>\n",
       "      <td>CRIMINAL DAMAGE</td>\n",
       "      <td>TO VEHICLE</td>\n",
       "      <td>STREET</td>\n",
       "      <td>False</td>\n",
       "      <td>False</td>\n",
       "      <td>2424</td>\n",
       "      <td>24.0</td>\n",
       "      <td>NaN</td>\n",
       "      <td>2001</td>\n",
       "      <td>42.012391</td>\n",
       "      <td>-87.678032</td>\n",
       "    </tr>\n",
       "    <tr>\n",
       "      <th>2001-01-01 01:00:00</th>\n",
       "      <td>1427622</td>\n",
       "      <td>01/01/2001 01:00:00 PM</td>\n",
       "      <td>OTHER OFFENSE</td>\n",
       "      <td>HARASSMENT BY TELEPHONE</td>\n",
       "      <td>RESIDENCE</td>\n",
       "      <td>False</td>\n",
       "      <td>False</td>\n",
       "      <td>2521</td>\n",
       "      <td>25.0</td>\n",
       "      <td>NaN</td>\n",
       "      <td>2001</td>\n",
       "      <td>41.929707</td>\n",
       "      <td>-87.739828</td>\n",
       "    </tr>\n",
       "    <tr>\n",
       "      <th>2001-01-01 01:00:00</th>\n",
       "      <td>1323691</td>\n",
       "      <td>01/01/2001 01:00:00 AM</td>\n",
       "      <td>WEAPONS VIOLATION</td>\n",
       "      <td>UNLAWFUL POSS OF HANDGUN</td>\n",
       "      <td>STREET</td>\n",
       "      <td>False</td>\n",
       "      <td>False</td>\n",
       "      <td>1135</td>\n",
       "      <td>11.0</td>\n",
       "      <td>NaN</td>\n",
       "      <td>2001</td>\n",
       "      <td>41.866694</td>\n",
       "      <td>-87.688513</td>\n",
       "    </tr>\n",
       "    <tr>\n",
       "      <th>...</th>\n",
       "      <td>...</td>\n",
       "      <td>...</td>\n",
       "      <td>...</td>\n",
       "      <td>...</td>\n",
       "      <td>...</td>\n",
       "      <td>...</td>\n",
       "      <td>...</td>\n",
       "      <td>...</td>\n",
       "      <td>...</td>\n",
       "      <td>...</td>\n",
       "      <td>...</td>\n",
       "      <td>...</td>\n",
       "      <td>...</td>\n",
       "    </tr>\n",
       "    <tr>\n",
       "      <th>2023-11-21 12:00:00</th>\n",
       "      <td>13285161</td>\n",
       "      <td>11/21/2023 12:00:00 AM</td>\n",
       "      <td>BATTERY</td>\n",
       "      <td>DOMESTIC BATTERY SIMPLE</td>\n",
       "      <td>APARTMENT</td>\n",
       "      <td>False</td>\n",
       "      <td>True</td>\n",
       "      <td>1813</td>\n",
       "      <td>18.0</td>\n",
       "      <td>43.0</td>\n",
       "      <td>2023</td>\n",
       "      <td>41.911033</td>\n",
       "      <td>-87.648276</td>\n",
       "    </tr>\n",
       "    <tr>\n",
       "      <th>2023-11-21 12:00:00</th>\n",
       "      <td>13290668</td>\n",
       "      <td>11/21/2023 12:00:00 AM</td>\n",
       "      <td>BURGLARY</td>\n",
       "      <td>FORCIBLE ENTRY</td>\n",
       "      <td>RESIDENCE</td>\n",
       "      <td>False</td>\n",
       "      <td>False</td>\n",
       "      <td>413</td>\n",
       "      <td>4.0</td>\n",
       "      <td>8.0</td>\n",
       "      <td>2023</td>\n",
       "      <td>NaN</td>\n",
       "      <td>NaN</td>\n",
       "    </tr>\n",
       "    <tr>\n",
       "      <th>2023-11-21 12:00:00</th>\n",
       "      <td>13285329</td>\n",
       "      <td>11/21/2023 12:00:00 AM</td>\n",
       "      <td>DECEPTIVE PRACTICE</td>\n",
       "      <td>FORGERY</td>\n",
       "      <td>RESIDENCE</td>\n",
       "      <td>False</td>\n",
       "      <td>False</td>\n",
       "      <td>1612</td>\n",
       "      <td>16.0</td>\n",
       "      <td>41.0</td>\n",
       "      <td>2023</td>\n",
       "      <td>41.992449</td>\n",
       "      <td>-87.819048</td>\n",
       "    </tr>\n",
       "    <tr>\n",
       "      <th>2023-11-21 12:00:00</th>\n",
       "      <td>13283954</td>\n",
       "      <td>11/21/2023 12:00:00 AM</td>\n",
       "      <td>BURGLARY</td>\n",
       "      <td>FORCIBLE ENTRY</td>\n",
       "      <td>APARTMENT</td>\n",
       "      <td>False</td>\n",
       "      <td>False</td>\n",
       "      <td>1133</td>\n",
       "      <td>11.0</td>\n",
       "      <td>24.0</td>\n",
       "      <td>2023</td>\n",
       "      <td>41.867295</td>\n",
       "      <td>-87.711406</td>\n",
       "    </tr>\n",
       "    <tr>\n",
       "      <th>2023-11-21 12:00:00</th>\n",
       "      <td>13284277</td>\n",
       "      <td>11/21/2023 12:00:00 AM</td>\n",
       "      <td>BATTERY</td>\n",
       "      <td>SIMPLE</td>\n",
       "      <td>STREET</td>\n",
       "      <td>False</td>\n",
       "      <td>False</td>\n",
       "      <td>1834</td>\n",
       "      <td>18.0</td>\n",
       "      <td>42.0</td>\n",
       "      <td>2023</td>\n",
       "      <td>41.894124</td>\n",
       "      <td>-87.624954</td>\n",
       "    </tr>\n",
       "  </tbody>\n",
       "</table>\n",
       "<p>7945421 rows × 13 columns</p>\n",
       "</div>"
      ],
      "text/plain": [
       "                           ID                    Date        Primary Type  \\\n",
       "Datetime                                                                    \n",
       "2001-01-01 01:00:00   1319931  01/01/2001 01:00:00 PM             BATTERY   \n",
       "2001-01-01 01:00:00   1326041  01/01/2001 01:00:00 AM             BATTERY   \n",
       "2001-01-01 01:00:00   1310717  01/01/2001 01:00:00 AM     CRIMINAL DAMAGE   \n",
       "2001-01-01 01:00:00   1427622  01/01/2001 01:00:00 PM       OTHER OFFENSE   \n",
       "2001-01-01 01:00:00   1323691  01/01/2001 01:00:00 AM   WEAPONS VIOLATION   \n",
       "...                       ...                     ...                 ...   \n",
       "2023-11-21 12:00:00  13285161  11/21/2023 12:00:00 AM             BATTERY   \n",
       "2023-11-21 12:00:00  13290668  11/21/2023 12:00:00 AM            BURGLARY   \n",
       "2023-11-21 12:00:00  13285329  11/21/2023 12:00:00 AM  DECEPTIVE PRACTICE   \n",
       "2023-11-21 12:00:00  13283954  11/21/2023 12:00:00 AM            BURGLARY   \n",
       "2023-11-21 12:00:00  13284277  11/21/2023 12:00:00 AM             BATTERY   \n",
       "\n",
       "                                  Description Location Description  Arrest  \\\n",
       "Datetime                                                                     \n",
       "2001-01-01 01:00:00                    SIMPLE            RESIDENCE   False   \n",
       "2001-01-01 01:00:00                    SIMPLE            RESIDENCE   False   \n",
       "2001-01-01 01:00:00                TO VEHICLE               STREET   False   \n",
       "2001-01-01 01:00:00   HARASSMENT BY TELEPHONE            RESIDENCE   False   \n",
       "2001-01-01 01:00:00  UNLAWFUL POSS OF HANDGUN               STREET   False   \n",
       "...                                       ...                  ...     ...   \n",
       "2023-11-21 12:00:00   DOMESTIC BATTERY SIMPLE            APARTMENT   False   \n",
       "2023-11-21 12:00:00            FORCIBLE ENTRY            RESIDENCE   False   \n",
       "2023-11-21 12:00:00                   FORGERY            RESIDENCE   False   \n",
       "2023-11-21 12:00:00            FORCIBLE ENTRY            APARTMENT   False   \n",
       "2023-11-21 12:00:00                    SIMPLE               STREET   False   \n",
       "\n",
       "                     Domestic  Beat  District  Ward  Year   Latitude  \\\n",
       "Datetime                                                               \n",
       "2001-01-01 01:00:00      True   825       8.0   NaN  2001  41.783892   \n",
       "2001-01-01 01:00:00     False  1624      16.0   NaN  2001  41.957850   \n",
       "2001-01-01 01:00:00     False  2424      24.0   NaN  2001  42.012391   \n",
       "2001-01-01 01:00:00     False  2521      25.0   NaN  2001  41.929707   \n",
       "2001-01-01 01:00:00     False  1135      11.0   NaN  2001  41.866694   \n",
       "...                       ...   ...       ...   ...   ...        ...   \n",
       "2023-11-21 12:00:00      True  1813      18.0  43.0  2023  41.911033   \n",
       "2023-11-21 12:00:00     False   413       4.0   8.0  2023        NaN   \n",
       "2023-11-21 12:00:00     False  1612      16.0  41.0  2023  41.992449   \n",
       "2023-11-21 12:00:00     False  1133      11.0  24.0  2023  41.867295   \n",
       "2023-11-21 12:00:00     False  1834      18.0  42.0  2023  41.894124   \n",
       "\n",
       "                     Longitude  \n",
       "Datetime                        \n",
       "2001-01-01 01:00:00 -87.684841  \n",
       "2001-01-01 01:00:00 -87.749185  \n",
       "2001-01-01 01:00:00 -87.678032  \n",
       "2001-01-01 01:00:00 -87.739828  \n",
       "2001-01-01 01:00:00 -87.688513  \n",
       "...                        ...  \n",
       "2023-11-21 12:00:00 -87.648276  \n",
       "2023-11-21 12:00:00        NaN  \n",
       "2023-11-21 12:00:00 -87.819048  \n",
       "2023-11-21 12:00:00 -87.711406  \n",
       "2023-11-21 12:00:00 -87.624954  \n",
       "\n",
       "[7945421 rows x 13 columns]"
      ]
     },
     "execution_count": 10,
     "metadata": {},
     "output_type": "execute_result"
    }
   ],
   "source": [
    "# save final df\n",
    "chicago_final = chicago_full.drop(columns=drop_cols)\n",
    "chicago_final = chicago_final.set_index('Datetime')\n",
    "chicago_final"
   ]
  },
  {
   "cell_type": "code",
   "execution_count": 11,
   "id": "832f341c",
   "metadata": {
    "ExecuteTime": {
     "end_time": "2023-07-13T18:40:16.676218Z",
     "start_time": "2023-07-13T18:40:16.160647Z"
    }
   },
   "outputs": [
    {
     "data": {
      "text/plain": [
       "array(['2001', '2002', '2003', '2004', '2005', '2006', '2007', '2008',\n",
       "       '2009', '2010', '2011', '2012', '2013', '2014', '2015', '2016',\n",
       "       '2017', '2018', '2019', '2020', '2021', '2022', '2023'],\n",
       "      dtype=object)"
      ]
     },
     "execution_count": 11,
     "metadata": {},
     "output_type": "execute_result"
    }
   ],
   "source": [
    "# unique # of year bins\n",
    "year_bins = chicago_final['Year'].astype(str).unique()\n",
    "year_bins"
   ]
  },
  {
   "cell_type": "code",
   "execution_count": 12,
   "id": "bb26f899",
   "metadata": {
    "ExecuteTime": {
     "end_time": "2023-07-13T18:40:16.691273Z",
     "start_time": "2023-07-13T18:40:16.677451Z"
    }
   },
   "outputs": [],
   "source": [
    "FINAL_DROP = ['Year']"
   ]
  },
  {
   "cell_type": "code",
   "execution_count": 13,
   "id": "b76d5d31",
   "metadata": {
    "ExecuteTime": {
     "end_time": "2023-07-13T18:41:02.815825Z",
     "start_time": "2023-07-13T18:40:16.693258Z"
    }
   },
   "outputs": [
    {
     "name": "stdout",
     "output_type": "stream",
     "text": [
      "[i] Saving .csv's to Data/Chicago/\n",
      "- Succesfully saved Data/Chicago/Chicago-Crime_2001.csv\n",
      "- Succesfully saved Data/Chicago/Chicago-Crime_2002.csv\n",
      "- Succesfully saved Data/Chicago/Chicago-Crime_2003.csv\n",
      "- Succesfully saved Data/Chicago/Chicago-Crime_2004.csv\n",
      "- Succesfully saved Data/Chicago/Chicago-Crime_2005.csv\n",
      "- Succesfully saved Data/Chicago/Chicago-Crime_2006.csv\n",
      "- Succesfully saved Data/Chicago/Chicago-Crime_2007.csv\n",
      "- Succesfully saved Data/Chicago/Chicago-Crime_2008.csv\n",
      "- Succesfully saved Data/Chicago/Chicago-Crime_2009.csv\n",
      "- Succesfully saved Data/Chicago/Chicago-Crime_2010.csv\n",
      "- Succesfully saved Data/Chicago/Chicago-Crime_2011.csv\n",
      "- Succesfully saved Data/Chicago/Chicago-Crime_2012.csv\n",
      "- Succesfully saved Data/Chicago/Chicago-Crime_2013.csv\n",
      "- Succesfully saved Data/Chicago/Chicago-Crime_2014.csv\n",
      "- Succesfully saved Data/Chicago/Chicago-Crime_2015.csv\n",
      "- Succesfully saved Data/Chicago/Chicago-Crime_2016.csv\n",
      "- Succesfully saved Data/Chicago/Chicago-Crime_2017.csv\n",
      "- Succesfully saved Data/Chicago/Chicago-Crime_2018.csv\n",
      "- Succesfully saved Data/Chicago/Chicago-Crime_2019.csv\n",
      "- Succesfully saved Data/Chicago/Chicago-Crime_2020.csv\n",
      "- Succesfully saved Data/Chicago/Chicago-Crime_2021.csv\n",
      "- Succesfully saved Data/Chicago/Chicago-Crime_2022.csv\n",
      "- Succesfully saved Data/Chicago/Chicago-Crime_2023.csv\n"
     ]
    }
   ],
   "source": [
    "## set save location \n",
    "\n",
    "os.makedirs(OUTPUT_FOLDER, exist_ok=True)\n",
    "print(f\"[i] Saving .csv's to {OUTPUT_FOLDER}\")\n",
    "## loop through years\n",
    "for year in year_bins:\n",
    "    \n",
    "    ## save temp slices of dfs to save.\n",
    "    temp_df = chicago_final.loc[year]\n",
    "    temp_df = temp_df.sort_index()\n",
    "    temp_df = temp_df.reset_index(drop=True)\n",
    "    temp_df = temp_df.drop(columns=FINAL_DROP)\n",
    "\n",
    "    # save as csv to output folder\n",
    "    fname_temp = f\"{OUTPUT_FOLDER}Chicago-Crime_{year}.csv\"#.gz\n",
    "    temp_df.to_csv(fname_temp,index=False)\n",
    "\n",
    "    print(f\"- Succesfully saved {fname_temp}\")"
   ]
  },
  {
   "cell_type": "code",
   "execution_count": 14,
   "id": "3737c458",
   "metadata": {
    "ExecuteTime": {
     "end_time": "2023-07-13T18:41:02.831494Z",
     "start_time": "2023-07-13T18:41:02.815825Z"
    }
   },
   "outputs": [
    {
     "data": {
      "text/plain": [
       "['Data/Chicago\\\\Chicago-Crime_2001.csv',\n",
       " 'Data/Chicago\\\\Chicago-Crime_2002.csv',\n",
       " 'Data/Chicago\\\\Chicago-Crime_2003.csv',\n",
       " 'Data/Chicago\\\\Chicago-Crime_2004.csv',\n",
       " 'Data/Chicago\\\\Chicago-Crime_2005.csv',\n",
       " 'Data/Chicago\\\\Chicago-Crime_2006.csv',\n",
       " 'Data/Chicago\\\\Chicago-Crime_2007.csv',\n",
       " 'Data/Chicago\\\\Chicago-Crime_2008.csv',\n",
       " 'Data/Chicago\\\\Chicago-Crime_2009.csv',\n",
       " 'Data/Chicago\\\\Chicago-Crime_2010.csv',\n",
       " 'Data/Chicago\\\\Chicago-Crime_2011.csv',\n",
       " 'Data/Chicago\\\\Chicago-Crime_2012.csv',\n",
       " 'Data/Chicago\\\\Chicago-Crime_2013.csv',\n",
       " 'Data/Chicago\\\\Chicago-Crime_2014.csv',\n",
       " 'Data/Chicago\\\\Chicago-Crime_2015.csv',\n",
       " 'Data/Chicago\\\\Chicago-Crime_2016.csv',\n",
       " 'Data/Chicago\\\\Chicago-Crime_2017.csv',\n",
       " 'Data/Chicago\\\\Chicago-Crime_2018.csv',\n",
       " 'Data/Chicago\\\\Chicago-Crime_2019.csv',\n",
       " 'Data/Chicago\\\\Chicago-Crime_2020.csv',\n",
       " 'Data/Chicago\\\\Chicago-Crime_2021.csv',\n",
       " 'Data/Chicago\\\\Chicago-Crime_2022.csv',\n",
       " 'Data/Chicago\\\\Chicago-Crime_2023.csv']"
      ]
     },
     "execution_count": 14,
     "metadata": {},
     "output_type": "execute_result"
    }
   ],
   "source": [
    "saved_files = sorted(glob.glob(OUTPUT_FOLDER+'*.*csv'))\n",
    "saved_files"
   ]
  },
  {
   "cell_type": "code",
   "execution_count": 15,
   "id": "949a0499",
   "metadata": {
    "ExecuteTime": {
     "end_time": "2023-07-13T18:41:02.850778Z",
     "start_time": "2023-07-13T18:41:02.833915Z"
    }
   },
   "outputs": [
    {
     "name": "stdout",
     "output_type": "stream",
     "text": [
      "Source URL: \n",
      "- https://data.cityofchicago.org/Public-Safety/Crimes-2001-to-Present/ijzp-q8t2\n",
      "- Filtered for years 2000-Present.\n",
      "\n",
      "Downloaded 07/18/2022\n",
      "- Files are split into 1 year per file.\n",
      "\n",
      "EXAMPLE USAGE:\n",
      ">> import glob\n",
      ">> import pandas as pd\n",
      ">> folder = \"Data/Chicago/\"\n",
      ">> crime_files = sorted(glob.glob(folder+\"*.csv\"))\n",
      ">> df = pd.concat([pd.read_csv(f) for f in crime_files])\n",
      "\n"
     ]
    }
   ],
   "source": [
    "## create a README.txt for the zip files\n",
    "readme = \"\"\"Source URL: \n",
    "- https://data.cityofchicago.org/Public-Safety/Crimes-2001-to-Present/ijzp-q8t2\n",
    "- Filtered for years 2000-Present.\n",
    "\n",
    "Downloaded 07/18/2022\n",
    "- Files are split into 1 year per file.\n",
    "\n",
    "EXAMPLE USAGE:\n",
    ">> import glob\n",
    ">> import pandas as pd\n",
    ">> folder = \"Data/Chicago/\"\n",
    ">> crime_files = sorted(glob.glob(folder+\"*.csv\"))\n",
    ">> df = pd.concat([pd.read_csv(f) for f in crime_files])\n",
    "\"\"\"\n",
    "print(readme)\n",
    "\n",
    "\n",
    "with open(f\"{OUTPUT_FOLDER}README.txt\",'w') as f:\n",
    "    f.write(readme)"
   ]
  },
  {
   "cell_type": "markdown",
   "id": "c5302540",
   "metadata": {},
   "source": [
    "## Confirmation"
   ]
  },
  {
   "cell_type": "markdown",
   "id": "4bc8e8ed",
   "metadata": {},
   "source": [
    "- Follow the example usage above to test if your files were created successfully."
   ]
  },
  {
   "cell_type": "code",
   "execution_count": 16,
   "id": "23f44c51",
   "metadata": {
    "ExecuteTime": {
     "end_time": "2023-07-13T18:41:03.084274Z",
     "start_time": "2023-07-13T18:41:02.852773Z"
    },
    "scrolled": false
   },
   "outputs": [
    {
     "data": {
      "text/html": [
       "<div>\n",
       "<style scoped>\n",
       "    .dataframe tbody tr th:only-of-type {\n",
       "        vertical-align: middle;\n",
       "    }\n",
       "\n",
       "    .dataframe tbody tr th {\n",
       "        vertical-align: top;\n",
       "    }\n",
       "\n",
       "    .dataframe thead th {\n",
       "        text-align: right;\n",
       "    }\n",
       "</style>\n",
       "<table border=\"1\" class=\"dataframe\">\n",
       "  <thead>\n",
       "    <tr style=\"text-align: right;\">\n",
       "      <th></th>\n",
       "      <th>ID</th>\n",
       "      <th>Date</th>\n",
       "      <th>Primary Type</th>\n",
       "      <th>Description</th>\n",
       "      <th>Location Description</th>\n",
       "      <th>Arrest</th>\n",
       "      <th>Domestic</th>\n",
       "      <th>Beat</th>\n",
       "      <th>District</th>\n",
       "      <th>Ward</th>\n",
       "      <th>Latitude</th>\n",
       "      <th>Longitude</th>\n",
       "    </tr>\n",
       "  </thead>\n",
       "  <tbody>\n",
       "    <tr>\n",
       "      <th>0</th>\n",
       "      <td>1319931</td>\n",
       "      <td>01/01/2001 01:00:00 PM</td>\n",
       "      <td>BATTERY</td>\n",
       "      <td>SIMPLE</td>\n",
       "      <td>RESIDENCE</td>\n",
       "      <td>False</td>\n",
       "      <td>True</td>\n",
       "      <td>825</td>\n",
       "      <td>8.0</td>\n",
       "      <td>NaN</td>\n",
       "      <td>41.783892</td>\n",
       "      <td>-87.684841</td>\n",
       "    </tr>\n",
       "    <tr>\n",
       "      <th>1</th>\n",
       "      <td>1326041</td>\n",
       "      <td>01/01/2001 01:00:00 AM</td>\n",
       "      <td>BATTERY</td>\n",
       "      <td>SIMPLE</td>\n",
       "      <td>RESIDENCE</td>\n",
       "      <td>False</td>\n",
       "      <td>False</td>\n",
       "      <td>1624</td>\n",
       "      <td>16.0</td>\n",
       "      <td>NaN</td>\n",
       "      <td>41.957850</td>\n",
       "      <td>-87.749185</td>\n",
       "    </tr>\n",
       "    <tr>\n",
       "      <th>2</th>\n",
       "      <td>1310717</td>\n",
       "      <td>01/01/2001 01:00:00 AM</td>\n",
       "      <td>CRIMINAL DAMAGE</td>\n",
       "      <td>TO VEHICLE</td>\n",
       "      <td>STREET</td>\n",
       "      <td>False</td>\n",
       "      <td>False</td>\n",
       "      <td>2424</td>\n",
       "      <td>24.0</td>\n",
       "      <td>NaN</td>\n",
       "      <td>42.012391</td>\n",
       "      <td>-87.678032</td>\n",
       "    </tr>\n",
       "    <tr>\n",
       "      <th>3</th>\n",
       "      <td>1427622</td>\n",
       "      <td>01/01/2001 01:00:00 PM</td>\n",
       "      <td>OTHER OFFENSE</td>\n",
       "      <td>HARASSMENT BY TELEPHONE</td>\n",
       "      <td>RESIDENCE</td>\n",
       "      <td>False</td>\n",
       "      <td>False</td>\n",
       "      <td>2521</td>\n",
       "      <td>25.0</td>\n",
       "      <td>NaN</td>\n",
       "      <td>41.929707</td>\n",
       "      <td>-87.739828</td>\n",
       "    </tr>\n",
       "    <tr>\n",
       "      <th>4</th>\n",
       "      <td>1323691</td>\n",
       "      <td>01/01/2001 01:00:00 AM</td>\n",
       "      <td>WEAPONS VIOLATION</td>\n",
       "      <td>UNLAWFUL POSS OF HANDGUN</td>\n",
       "      <td>STREET</td>\n",
       "      <td>False</td>\n",
       "      <td>False</td>\n",
       "      <td>1135</td>\n",
       "      <td>11.0</td>\n",
       "      <td>NaN</td>\n",
       "      <td>41.866694</td>\n",
       "      <td>-87.688513</td>\n",
       "    </tr>\n",
       "    <tr>\n",
       "      <th>...</th>\n",
       "      <td>...</td>\n",
       "      <td>...</td>\n",
       "      <td>...</td>\n",
       "      <td>...</td>\n",
       "      <td>...</td>\n",
       "      <td>...</td>\n",
       "      <td>...</td>\n",
       "      <td>...</td>\n",
       "      <td>...</td>\n",
       "      <td>...</td>\n",
       "      <td>...</td>\n",
       "      <td>...</td>\n",
       "    </tr>\n",
       "    <tr>\n",
       "      <th>0</th>\n",
       "      <td>12940500</td>\n",
       "      <td>01/01/2023 01:00:00 PM</td>\n",
       "      <td>MOTOR VEHICLE THEFT</td>\n",
       "      <td>AUTOMOBILE</td>\n",
       "      <td>STREET</td>\n",
       "      <td>False</td>\n",
       "      <td>False</td>\n",
       "      <td>821</td>\n",
       "      <td>8.0</td>\n",
       "      <td>14.0</td>\n",
       "      <td>41.810540</td>\n",
       "      <td>-87.708698</td>\n",
       "    </tr>\n",
       "    <tr>\n",
       "      <th>1</th>\n",
       "      <td>12939417</td>\n",
       "      <td>01/01/2023 01:00:00 AM</td>\n",
       "      <td>CRIMINAL DAMAGE</td>\n",
       "      <td>TO VEHICLE</td>\n",
       "      <td>STREET</td>\n",
       "      <td>False</td>\n",
       "      <td>False</td>\n",
       "      <td>734</td>\n",
       "      <td>7.0</td>\n",
       "      <td>17.0</td>\n",
       "      <td>41.760449</td>\n",
       "      <td>-87.657918</td>\n",
       "    </tr>\n",
       "    <tr>\n",
       "      <th>2</th>\n",
       "      <td>12938695</td>\n",
       "      <td>01/01/2023 01:00:00 AM</td>\n",
       "      <td>BATTERY</td>\n",
       "      <td>SIMPLE</td>\n",
       "      <td>STREET</td>\n",
       "      <td>False</td>\n",
       "      <td>False</td>\n",
       "      <td>122</td>\n",
       "      <td>1.0</td>\n",
       "      <td>42.0</td>\n",
       "      <td>41.880688</td>\n",
       "      <td>-87.631561</td>\n",
       "    </tr>\n",
       "    <tr>\n",
       "      <th>3</th>\n",
       "      <td>12940477</td>\n",
       "      <td>01/01/2023 01:00:00 AM</td>\n",
       "      <td>ROBBERY</td>\n",
       "      <td>ARMED - KNIFE / CUTTING INSTRUMENT</td>\n",
       "      <td>STREET</td>\n",
       "      <td>False</td>\n",
       "      <td>False</td>\n",
       "      <td>922</td>\n",
       "      <td>9.0</td>\n",
       "      <td>15.0</td>\n",
       "      <td>41.810238</td>\n",
       "      <td>-87.685881</td>\n",
       "    </tr>\n",
       "    <tr>\n",
       "      <th>4</th>\n",
       "      <td>12938564</td>\n",
       "      <td>01/01/2023 01:00:00 AM</td>\n",
       "      <td>CRIMINAL DAMAGE</td>\n",
       "      <td>TO VEHICLE</td>\n",
       "      <td>STREET</td>\n",
       "      <td>False</td>\n",
       "      <td>False</td>\n",
       "      <td>835</td>\n",
       "      <td>8.0</td>\n",
       "      <td>18.0</td>\n",
       "      <td>41.750153</td>\n",
       "      <td>-87.679372</td>\n",
       "    </tr>\n",
       "  </tbody>\n",
       "</table>\n",
       "<p>115 rows × 12 columns</p>\n",
       "</div>"
      ],
      "text/plain": [
       "          ID                    Date         Primary Type  \\\n",
       "0    1319931  01/01/2001 01:00:00 PM              BATTERY   \n",
       "1    1326041  01/01/2001 01:00:00 AM              BATTERY   \n",
       "2    1310717  01/01/2001 01:00:00 AM      CRIMINAL DAMAGE   \n",
       "3    1427622  01/01/2001 01:00:00 PM        OTHER OFFENSE   \n",
       "4    1323691  01/01/2001 01:00:00 AM    WEAPONS VIOLATION   \n",
       "..       ...                     ...                  ...   \n",
       "0   12940500  01/01/2023 01:00:00 PM  MOTOR VEHICLE THEFT   \n",
       "1   12939417  01/01/2023 01:00:00 AM      CRIMINAL DAMAGE   \n",
       "2   12938695  01/01/2023 01:00:00 AM              BATTERY   \n",
       "3   12940477  01/01/2023 01:00:00 AM              ROBBERY   \n",
       "4   12938564  01/01/2023 01:00:00 AM      CRIMINAL DAMAGE   \n",
       "\n",
       "                           Description Location Description  Arrest  Domestic  \\\n",
       "0                               SIMPLE            RESIDENCE   False      True   \n",
       "1                               SIMPLE            RESIDENCE   False     False   \n",
       "2                           TO VEHICLE               STREET   False     False   \n",
       "3              HARASSMENT BY TELEPHONE            RESIDENCE   False     False   \n",
       "4             UNLAWFUL POSS OF HANDGUN               STREET   False     False   \n",
       "..                                 ...                  ...     ...       ...   \n",
       "0                           AUTOMOBILE               STREET   False     False   \n",
       "1                           TO VEHICLE               STREET   False     False   \n",
       "2                               SIMPLE               STREET   False     False   \n",
       "3   ARMED - KNIFE / CUTTING INSTRUMENT               STREET   False     False   \n",
       "4                           TO VEHICLE               STREET   False     False   \n",
       "\n",
       "    Beat  District  Ward   Latitude  Longitude  \n",
       "0    825       8.0   NaN  41.783892 -87.684841  \n",
       "1   1624      16.0   NaN  41.957850 -87.749185  \n",
       "2   2424      24.0   NaN  42.012391 -87.678032  \n",
       "3   2521      25.0   NaN  41.929707 -87.739828  \n",
       "4   1135      11.0   NaN  41.866694 -87.688513  \n",
       "..   ...       ...   ...        ...        ...  \n",
       "0    821       8.0  14.0  41.810540 -87.708698  \n",
       "1    734       7.0  17.0  41.760449 -87.657918  \n",
       "2    122       1.0  42.0  41.880688 -87.631561  \n",
       "3    922       9.0  15.0  41.810238 -87.685881  \n",
       "4    835       8.0  18.0  41.750153 -87.679372  \n",
       "\n",
       "[115 rows x 12 columns]"
      ]
     },
     "execution_count": 16,
     "metadata": {},
     "output_type": "execute_result"
    }
   ],
   "source": [
    "# get list of files from folder\n",
    "crime_files = sorted(glob.glob(OUTPUT_FOLDER+\"*.csv\"))\n",
    "df = pd.concat([pd.read_csv(f, nrows=5) for f in crime_files])\n",
    "df"
   ]
  },
  {
   "cell_type": "code",
   "execution_count": 17,
   "id": "9552508d",
   "metadata": {
    "ExecuteTime": {
     "end_time": "2023-07-13T18:41:03.099901Z",
     "start_time": "2023-07-13T18:41:03.084274Z"
    },
    "scrolled": true
   },
   "outputs": [
    {
     "data": {
      "text/plain": [
       "2001    5\n",
       "2002    5\n",
       "2003    5\n",
       "2004    5\n",
       "2005    5\n",
       "2006    5\n",
       "2007    5\n",
       "2008    5\n",
       "2009    5\n",
       "2010    5\n",
       "2011    5\n",
       "2012    5\n",
       "2013    5\n",
       "2014    5\n",
       "2015    5\n",
       "2016    5\n",
       "2017    5\n",
       "2018    5\n",
       "2019    5\n",
       "2020    5\n",
       "2021    5\n",
       "2022    5\n",
       "2023    5\n",
       "Name: Date, dtype: int64"
      ]
     },
     "execution_count": 17,
     "metadata": {},
     "output_type": "execute_result"
    }
   ],
   "source": [
    "years = df['Date'].map(lambda x: x.split()[0].split('/')[-1])\n",
    "years.value_counts().sort_index()"
   ]
  },
  {
   "cell_type": "markdown",
   "id": "999fe20a",
   "metadata": {},
   "source": [
    "## Summary"
   ]
  },
  {
   "cell_type": "markdown",
   "id": "cda0d418",
   "metadata": {},
   "source": [
    "- The chicago crime dataset has now been saved to your repository as csv files. \n",
    "- You should save your notebook, commit your work and push to GitHub using GitHub desktop."
   ]
  },
  {
   "cell_type": "code",
   "execution_count": 18,
   "id": "0f0781da",
   "metadata": {},
   "outputs": [],
   "source": [
    "import pandas as pd\n",
    "import numpy as np\n",
    "import matplotlib as mpl\n",
    "import matplotlib.pyplot as plt\n",
    "import seaborn as sns\n",
    "\n",
    "from sklearn.metrics import mean_absolute_error, mean_squared_error, r2_score\n",
    "from sklearn import set_config\n",
    "\n",
    "from pmdarima.model_selection import train_test_split\n",
    "from pmdarima.arima.utils import ndiffs\n",
    "\n",
    "import statsmodels.tsa.api as tsa"
   ]
  },
  {
   "cell_type": "markdown",
   "id": "59b3f606",
   "metadata": {},
   "source": [
    "## Topic 1) How do crime rates differ between police districts?\n",
    "- Which district has the most crimes? Which has the least?"
   ]
  },
  {
   "cell_type": "code",
   "execution_count": 19,
   "id": "46f5d635",
   "metadata": {},
   "outputs": [
    {
     "data": {
      "text/html": [
       "<div>\n",
       "<style scoped>\n",
       "    .dataframe tbody tr th:only-of-type {\n",
       "        vertical-align: middle;\n",
       "    }\n",
       "\n",
       "    .dataframe tbody tr th {\n",
       "        vertical-align: top;\n",
       "    }\n",
       "\n",
       "    .dataframe thead th {\n",
       "        text-align: right;\n",
       "    }\n",
       "</style>\n",
       "<table border=\"1\" class=\"dataframe\">\n",
       "  <thead>\n",
       "    <tr style=\"text-align: right;\">\n",
       "      <th></th>\n",
       "      <th>Date</th>\n",
       "      <th>Primary Type</th>\n",
       "      <th>Description</th>\n",
       "      <th>Location Description</th>\n",
       "      <th>Arrest</th>\n",
       "      <th>Domestic</th>\n",
       "      <th>Beat</th>\n",
       "      <th>District</th>\n",
       "      <th>Ward</th>\n",
       "      <th>Latitude</th>\n",
       "      <th>Longitude</th>\n",
       "    </tr>\n",
       "    <tr>\n",
       "      <th>ID</th>\n",
       "      <th></th>\n",
       "      <th></th>\n",
       "      <th></th>\n",
       "      <th></th>\n",
       "      <th></th>\n",
       "      <th></th>\n",
       "      <th></th>\n",
       "      <th></th>\n",
       "      <th></th>\n",
       "      <th></th>\n",
       "      <th></th>\n",
       "    </tr>\n",
       "  </thead>\n",
       "  <tbody>\n",
       "    <tr>\n",
       "      <th>1319931</th>\n",
       "      <td>01/01/2001 01:00:00 PM</td>\n",
       "      <td>BATTERY</td>\n",
       "      <td>SIMPLE</td>\n",
       "      <td>RESIDENCE</td>\n",
       "      <td>False</td>\n",
       "      <td>True</td>\n",
       "      <td>825</td>\n",
       "      <td>8.0</td>\n",
       "      <td>NaN</td>\n",
       "      <td>41.783892</td>\n",
       "      <td>-87.684841</td>\n",
       "    </tr>\n",
       "    <tr>\n",
       "      <th>1326041</th>\n",
       "      <td>01/01/2001 01:00:00 AM</td>\n",
       "      <td>BATTERY</td>\n",
       "      <td>SIMPLE</td>\n",
       "      <td>RESIDENCE</td>\n",
       "      <td>False</td>\n",
       "      <td>False</td>\n",
       "      <td>1624</td>\n",
       "      <td>16.0</td>\n",
       "      <td>NaN</td>\n",
       "      <td>41.957850</td>\n",
       "      <td>-87.749185</td>\n",
       "    </tr>\n",
       "    <tr>\n",
       "      <th>1310717</th>\n",
       "      <td>01/01/2001 01:00:00 AM</td>\n",
       "      <td>CRIMINAL DAMAGE</td>\n",
       "      <td>TO VEHICLE</td>\n",
       "      <td>STREET</td>\n",
       "      <td>False</td>\n",
       "      <td>False</td>\n",
       "      <td>2424</td>\n",
       "      <td>24.0</td>\n",
       "      <td>NaN</td>\n",
       "      <td>42.012391</td>\n",
       "      <td>-87.678032</td>\n",
       "    </tr>\n",
       "    <tr>\n",
       "      <th>1427622</th>\n",
       "      <td>01/01/2001 01:00:00 PM</td>\n",
       "      <td>OTHER OFFENSE</td>\n",
       "      <td>HARASSMENT BY TELEPHONE</td>\n",
       "      <td>RESIDENCE</td>\n",
       "      <td>False</td>\n",
       "      <td>False</td>\n",
       "      <td>2521</td>\n",
       "      <td>25.0</td>\n",
       "      <td>NaN</td>\n",
       "      <td>41.929707</td>\n",
       "      <td>-87.739828</td>\n",
       "    </tr>\n",
       "    <tr>\n",
       "      <th>1323691</th>\n",
       "      <td>01/01/2001 01:00:00 AM</td>\n",
       "      <td>WEAPONS VIOLATION</td>\n",
       "      <td>UNLAWFUL POSS OF HANDGUN</td>\n",
       "      <td>STREET</td>\n",
       "      <td>False</td>\n",
       "      <td>False</td>\n",
       "      <td>1135</td>\n",
       "      <td>11.0</td>\n",
       "      <td>NaN</td>\n",
       "      <td>41.866694</td>\n",
       "      <td>-87.688513</td>\n",
       "    </tr>\n",
       "    <tr>\n",
       "      <th>...</th>\n",
       "      <td>...</td>\n",
       "      <td>...</td>\n",
       "      <td>...</td>\n",
       "      <td>...</td>\n",
       "      <td>...</td>\n",
       "      <td>...</td>\n",
       "      <td>...</td>\n",
       "      <td>...</td>\n",
       "      <td>...</td>\n",
       "      <td>...</td>\n",
       "      <td>...</td>\n",
       "    </tr>\n",
       "    <tr>\n",
       "      <th>12940500</th>\n",
       "      <td>01/01/2023 01:00:00 PM</td>\n",
       "      <td>MOTOR VEHICLE THEFT</td>\n",
       "      <td>AUTOMOBILE</td>\n",
       "      <td>STREET</td>\n",
       "      <td>False</td>\n",
       "      <td>False</td>\n",
       "      <td>821</td>\n",
       "      <td>8.0</td>\n",
       "      <td>14.0</td>\n",
       "      <td>41.810540</td>\n",
       "      <td>-87.708698</td>\n",
       "    </tr>\n",
       "    <tr>\n",
       "      <th>12939417</th>\n",
       "      <td>01/01/2023 01:00:00 AM</td>\n",
       "      <td>CRIMINAL DAMAGE</td>\n",
       "      <td>TO VEHICLE</td>\n",
       "      <td>STREET</td>\n",
       "      <td>False</td>\n",
       "      <td>False</td>\n",
       "      <td>734</td>\n",
       "      <td>7.0</td>\n",
       "      <td>17.0</td>\n",
       "      <td>41.760449</td>\n",
       "      <td>-87.657918</td>\n",
       "    </tr>\n",
       "    <tr>\n",
       "      <th>12938695</th>\n",
       "      <td>01/01/2023 01:00:00 AM</td>\n",
       "      <td>BATTERY</td>\n",
       "      <td>SIMPLE</td>\n",
       "      <td>STREET</td>\n",
       "      <td>False</td>\n",
       "      <td>False</td>\n",
       "      <td>122</td>\n",
       "      <td>1.0</td>\n",
       "      <td>42.0</td>\n",
       "      <td>41.880688</td>\n",
       "      <td>-87.631561</td>\n",
       "    </tr>\n",
       "    <tr>\n",
       "      <th>12940477</th>\n",
       "      <td>01/01/2023 01:00:00 AM</td>\n",
       "      <td>ROBBERY</td>\n",
       "      <td>ARMED - KNIFE / CUTTING INSTRUMENT</td>\n",
       "      <td>STREET</td>\n",
       "      <td>False</td>\n",
       "      <td>False</td>\n",
       "      <td>922</td>\n",
       "      <td>9.0</td>\n",
       "      <td>15.0</td>\n",
       "      <td>41.810238</td>\n",
       "      <td>-87.685881</td>\n",
       "    </tr>\n",
       "    <tr>\n",
       "      <th>12938564</th>\n",
       "      <td>01/01/2023 01:00:00 AM</td>\n",
       "      <td>CRIMINAL DAMAGE</td>\n",
       "      <td>TO VEHICLE</td>\n",
       "      <td>STREET</td>\n",
       "      <td>False</td>\n",
       "      <td>False</td>\n",
       "      <td>835</td>\n",
       "      <td>8.0</td>\n",
       "      <td>18.0</td>\n",
       "      <td>41.750153</td>\n",
       "      <td>-87.679372</td>\n",
       "    </tr>\n",
       "  </tbody>\n",
       "</table>\n",
       "<p>115 rows × 11 columns</p>\n",
       "</div>"
      ],
      "text/plain": [
       "                            Date         Primary Type  \\\n",
       "ID                                                      \n",
       "1319931   01/01/2001 01:00:00 PM              BATTERY   \n",
       "1326041   01/01/2001 01:00:00 AM              BATTERY   \n",
       "1310717   01/01/2001 01:00:00 AM      CRIMINAL DAMAGE   \n",
       "1427622   01/01/2001 01:00:00 PM        OTHER OFFENSE   \n",
       "1323691   01/01/2001 01:00:00 AM    WEAPONS VIOLATION   \n",
       "...                          ...                  ...   \n",
       "12940500  01/01/2023 01:00:00 PM  MOTOR VEHICLE THEFT   \n",
       "12939417  01/01/2023 01:00:00 AM      CRIMINAL DAMAGE   \n",
       "12938695  01/01/2023 01:00:00 AM              BATTERY   \n",
       "12940477  01/01/2023 01:00:00 AM              ROBBERY   \n",
       "12938564  01/01/2023 01:00:00 AM      CRIMINAL DAMAGE   \n",
       "\n",
       "                                 Description Location Description  Arrest  \\\n",
       "ID                                                                          \n",
       "1319931                               SIMPLE            RESIDENCE   False   \n",
       "1326041                               SIMPLE            RESIDENCE   False   \n",
       "1310717                           TO VEHICLE               STREET   False   \n",
       "1427622              HARASSMENT BY TELEPHONE            RESIDENCE   False   \n",
       "1323691             UNLAWFUL POSS OF HANDGUN               STREET   False   \n",
       "...                                      ...                  ...     ...   \n",
       "12940500                          AUTOMOBILE               STREET   False   \n",
       "12939417                          TO VEHICLE               STREET   False   \n",
       "12938695                              SIMPLE               STREET   False   \n",
       "12940477  ARMED - KNIFE / CUTTING INSTRUMENT               STREET   False   \n",
       "12938564                          TO VEHICLE               STREET   False   \n",
       "\n",
       "          Domestic  Beat  District  Ward   Latitude  Longitude  \n",
       "ID                                                              \n",
       "1319931       True   825       8.0   NaN  41.783892 -87.684841  \n",
       "1326041      False  1624      16.0   NaN  41.957850 -87.749185  \n",
       "1310717      False  2424      24.0   NaN  42.012391 -87.678032  \n",
       "1427622      False  2521      25.0   NaN  41.929707 -87.739828  \n",
       "1323691      False  1135      11.0   NaN  41.866694 -87.688513  \n",
       "...            ...   ...       ...   ...        ...        ...  \n",
       "12940500     False   821       8.0  14.0  41.810540 -87.708698  \n",
       "12939417     False   734       7.0  17.0  41.760449 -87.657918  \n",
       "12938695     False   122       1.0  42.0  41.880688 -87.631561  \n",
       "12940477     False   922       9.0  15.0  41.810238 -87.685881  \n",
       "12938564     False   835       8.0  18.0  41.750153 -87.679372  \n",
       "\n",
       "[115 rows x 11 columns]"
      ]
     },
     "execution_count": 19,
     "metadata": {},
     "output_type": "execute_result"
    }
   ],
   "source": [
    "df1 = df.set_index('ID')\n",
    "df1"
   ]
  },
  {
   "cell_type": "code",
   "execution_count": 20,
   "id": "dcdc3725",
   "metadata": {},
   "outputs": [
    {
     "data": {
      "text/plain": [
       "District\n",
       "8.0     12\n",
       "6.0     10\n",
       "4.0      8\n",
       "25.0     7\n",
       "19.0     7\n",
       "16.0     6\n",
       "3.0      6\n",
       "9.0      6\n",
       "18.0     6\n",
       "2.0      6\n",
       "24.0     5\n",
       "1.0      5\n",
       "14.0     5\n",
       "7.0      5\n",
       "17.0     4\n",
       "22.0     4\n",
       "11.0     3\n",
       "10.0     3\n",
       "12.0     3\n",
       "15.0     2\n",
       "20.0     2\n",
       "dtype: int64"
      ]
     },
     "execution_count": 20,
     "metadata": {},
     "output_type": "execute_result"
    }
   ],
   "source": [
    "district_crime_counts = df1.groupby('District').size().sort_values(ascending=False)\n",
    "district_crime_counts"
   ]
  },
  {
   "cell_type": "code",
   "execution_count": 21,
   "id": "b24910f7",
   "metadata": {},
   "outputs": [
    {
     "data": {
      "text/plain": [
       "12"
      ]
     },
     "execution_count": 21,
     "metadata": {},
     "output_type": "execute_result"
    }
   ],
   "source": [
    "max_district_crime_counts_value = district_crime_counts.max()\n",
    "max_district_crime_counts_value"
   ]
  },
  {
   "cell_type": "code",
   "execution_count": 22,
   "id": "c948e4a3",
   "metadata": {},
   "outputs": [
    {
     "data": {
      "text/plain": [
       "8.0"
      ]
     },
     "execution_count": 22,
     "metadata": {},
     "output_type": "execute_result"
    }
   ],
   "source": [
    "max_district_crime_counts_id = district_crime_counts.idxmax()\n",
    "max_district_crime_counts_id"
   ]
  },
  {
   "cell_type": "code",
   "execution_count": 23,
   "id": "df1e080f",
   "metadata": {},
   "outputs": [
    {
     "data": {
      "text/plain": [
       "2"
      ]
     },
     "execution_count": 23,
     "metadata": {},
     "output_type": "execute_result"
    }
   ],
   "source": [
    "min_district_crime_counts_value = district_crime_counts.min()\n",
    "min_district_crime_counts_value"
   ]
  },
  {
   "cell_type": "code",
   "execution_count": 24,
   "id": "376a7d6b",
   "metadata": {},
   "outputs": [
    {
     "data": {
      "text/plain": [
       "15.0"
      ]
     },
     "execution_count": 24,
     "metadata": {},
     "output_type": "execute_result"
    }
   ],
   "source": [
    "min_district_crime_counts_id = district_crime_counts.idxmin()\n",
    "min_district_crime_counts_id"
   ]
  },
  {
   "cell_type": "code",
   "execution_count": 25,
   "id": "b6bb89e5",
   "metadata": {
    "scrolled": true
   },
   "outputs": [
    {
     "data": {
      "image/png": "[encoded data removed]",
      "text/plain": [
       "<Figure size 1200x300 with 1 Axes>"
      ]
     },
     "metadata": {},
     "output_type": "display_data"
    }
   ],
   "source": [
    "# Plot \n",
    "fig, ax = plt.subplots(figsize=(12, 3))\n",
    "district_crime_counts.plot(ax=ax, title=\"district crimes count \", ylabel=\"Inches\")\n",
    "\n",
    "\n",
    "\n",
    "# Add a vertical line at the date of max and min\n",
    "ax.axvline(x=max_district_crime_counts_id, color='red', linestyle='--', label=f'most crimes\\n({max_district_crime_counts_id}, {max_district_crime_counts_value:.2f} Inches)')\n",
    "\n",
    "ax.axvline(x=min_district_crime_counts_id, color='green', linestyle='--', label=f'least crimes\\n({min_district_crime_counts_id}, {min_district_crime_counts_value:.2f} Inches)')\n",
    "ax.legend()\n",
    "\n",
    "\n",
    "# Show the plot\n",
    "\n",
    "plt.show()"
   ]
  },
  {
   "cell_type": "code",
   "execution_count": 26,
   "id": "3c204ef7",
   "metadata": {},
   "outputs": [
    {
     "data": {
      "image/png": "[encoded data removed]",
      "text/plain": [
       "<Figure size 640x480 with 1 Axes>"
      ]
     },
     "metadata": {},
     "output_type": "display_data"
    }
   ],
   "source": [
    "district_crime_counts.plot(kind='bar', title='Crime Rates by Police District');\n"
   ]
  },
  {
   "cell_type": "markdown",
   "id": "0958ea44",
   "metadata": {},
   "source": [
    "## Topic 2: Crime Rates Over 20 Years"
   ]
  },
  {
   "cell_type": "code",
   "execution_count": 27,
   "id": "49402553",
   "metadata": {},
   "outputs": [
    {
     "data": {
      "text/plain": [
       "0   2001-01-01 13:00:00\n",
       "1   2001-01-01 01:00:00\n",
       "2   2001-01-01 01:00:00\n",
       "3   2001-01-01 13:00:00\n",
       "4   2001-01-01 01:00:00\n",
       "            ...        \n",
       "0   2023-01-01 13:00:00\n",
       "1   2023-01-01 01:00:00\n",
       "2   2023-01-01 01:00:00\n",
       "3   2023-01-01 01:00:00\n",
       "4   2023-01-01 01:00:00\n",
       "Name: Date, Length: 115, dtype: datetime64[ns]"
      ]
     },
     "execution_count": 27,
     "metadata": {},
     "output_type": "execute_result"
    }
   ],
   "source": [
    "df['Date'] = pd.to_datetime(df['Date'], format='%m/%d/%Y %I:%M:%S %p')\n",
    "df['Date']"
   ]
  },
  {
   "cell_type": "code",
   "execution_count": 28,
   "id": "b5168185",
   "metadata": {},
   "outputs": [
    {
     "data": {
      "text/html": [
       "<div>\n",
       "<style scoped>\n",
       "    .dataframe tbody tr th:only-of-type {\n",
       "        vertical-align: middle;\n",
       "    }\n",
       "\n",
       "    .dataframe tbody tr th {\n",
       "        vertical-align: top;\n",
       "    }\n",
       "\n",
       "    .dataframe thead th {\n",
       "        text-align: right;\n",
       "    }\n",
       "</style>\n",
       "<table border=\"1\" class=\"dataframe\">\n",
       "  <thead>\n",
       "    <tr style=\"text-align: right;\">\n",
       "      <th></th>\n",
       "      <th>ID</th>\n",
       "      <th>Primary Type</th>\n",
       "      <th>Description</th>\n",
       "      <th>Location Description</th>\n",
       "      <th>Arrest</th>\n",
       "      <th>Domestic</th>\n",
       "      <th>Beat</th>\n",
       "      <th>District</th>\n",
       "      <th>Ward</th>\n",
       "      <th>Latitude</th>\n",
       "      <th>Longitude</th>\n",
       "    </tr>\n",
       "    <tr>\n",
       "      <th>Date</th>\n",
       "      <th></th>\n",
       "      <th></th>\n",
       "      <th></th>\n",
       "      <th></th>\n",
       "      <th></th>\n",
       "      <th></th>\n",
       "      <th></th>\n",
       "      <th></th>\n",
       "      <th></th>\n",
       "      <th></th>\n",
       "      <th></th>\n",
       "    </tr>\n",
       "  </thead>\n",
       "  <tbody>\n",
       "    <tr>\n",
       "      <th>2001-01-01 13:00:00</th>\n",
       "      <td>1319931</td>\n",
       "      <td>BATTERY</td>\n",
       "      <td>SIMPLE</td>\n",
       "      <td>RESIDENCE</td>\n",
       "      <td>False</td>\n",
       "      <td>True</td>\n",
       "      <td>825</td>\n",
       "      <td>8.0</td>\n",
       "      <td>NaN</td>\n",
       "      <td>41.783892</td>\n",
       "      <td>-87.684841</td>\n",
       "    </tr>\n",
       "    <tr>\n",
       "      <th>2001-01-01 01:00:00</th>\n",
       "      <td>1326041</td>\n",
       "      <td>BATTERY</td>\n",
       "      <td>SIMPLE</td>\n",
       "      <td>RESIDENCE</td>\n",
       "      <td>False</td>\n",
       "      <td>False</td>\n",
       "      <td>1624</td>\n",
       "      <td>16.0</td>\n",
       "      <td>NaN</td>\n",
       "      <td>41.957850</td>\n",
       "      <td>-87.749185</td>\n",
       "    </tr>\n",
       "    <tr>\n",
       "      <th>2001-01-01 01:00:00</th>\n",
       "      <td>1310717</td>\n",
       "      <td>CRIMINAL DAMAGE</td>\n",
       "      <td>TO VEHICLE</td>\n",
       "      <td>STREET</td>\n",
       "      <td>False</td>\n",
       "      <td>False</td>\n",
       "      <td>2424</td>\n",
       "      <td>24.0</td>\n",
       "      <td>NaN</td>\n",
       "      <td>42.012391</td>\n",
       "      <td>-87.678032</td>\n",
       "    </tr>\n",
       "    <tr>\n",
       "      <th>2001-01-01 13:00:00</th>\n",
       "      <td>1427622</td>\n",
       "      <td>OTHER OFFENSE</td>\n",
       "      <td>HARASSMENT BY TELEPHONE</td>\n",
       "      <td>RESIDENCE</td>\n",
       "      <td>False</td>\n",
       "      <td>False</td>\n",
       "      <td>2521</td>\n",
       "      <td>25.0</td>\n",
       "      <td>NaN</td>\n",
       "      <td>41.929707</td>\n",
       "      <td>-87.739828</td>\n",
       "    </tr>\n",
       "    <tr>\n",
       "      <th>2001-01-01 01:00:00</th>\n",
       "      <td>1323691</td>\n",
       "      <td>WEAPONS VIOLATION</td>\n",
       "      <td>UNLAWFUL POSS OF HANDGUN</td>\n",
       "      <td>STREET</td>\n",
       "      <td>False</td>\n",
       "      <td>False</td>\n",
       "      <td>1135</td>\n",
       "      <td>11.0</td>\n",
       "      <td>NaN</td>\n",
       "      <td>41.866694</td>\n",
       "      <td>-87.688513</td>\n",
       "    </tr>\n",
       "    <tr>\n",
       "      <th>...</th>\n",
       "      <td>...</td>\n",
       "      <td>...</td>\n",
       "      <td>...</td>\n",
       "      <td>...</td>\n",
       "      <td>...</td>\n",
       "      <td>...</td>\n",
       "      <td>...</td>\n",
       "      <td>...</td>\n",
       "      <td>...</td>\n",
       "      <td>...</td>\n",
       "      <td>...</td>\n",
       "    </tr>\n",
       "    <tr>\n",
       "      <th>2023-01-01 13:00:00</th>\n",
       "      <td>12940500</td>\n",
       "      <td>MOTOR VEHICLE THEFT</td>\n",
       "      <td>AUTOMOBILE</td>\n",
       "      <td>STREET</td>\n",
       "      <td>False</td>\n",
       "      <td>False</td>\n",
       "      <td>821</td>\n",
       "      <td>8.0</td>\n",
       "      <td>14.0</td>\n",
       "      <td>41.810540</td>\n",
       "      <td>-87.708698</td>\n",
       "    </tr>\n",
       "    <tr>\n",
       "      <th>2023-01-01 01:00:00</th>\n",
       "      <td>12939417</td>\n",
       "      <td>CRIMINAL DAMAGE</td>\n",
       "      <td>TO VEHICLE</td>\n",
       "      <td>STREET</td>\n",
       "      <td>False</td>\n",
       "      <td>False</td>\n",
       "      <td>734</td>\n",
       "      <td>7.0</td>\n",
       "      <td>17.0</td>\n",
       "      <td>41.760449</td>\n",
       "      <td>-87.657918</td>\n",
       "    </tr>\n",
       "    <tr>\n",
       "      <th>2023-01-01 01:00:00</th>\n",
       "      <td>12938695</td>\n",
       "      <td>BATTERY</td>\n",
       "      <td>SIMPLE</td>\n",
       "      <td>STREET</td>\n",
       "      <td>False</td>\n",
       "      <td>False</td>\n",
       "      <td>122</td>\n",
       "      <td>1.0</td>\n",
       "      <td>42.0</td>\n",
       "      <td>41.880688</td>\n",
       "      <td>-87.631561</td>\n",
       "    </tr>\n",
       "    <tr>\n",
       "      <th>2023-01-01 01:00:00</th>\n",
       "      <td>12940477</td>\n",
       "      <td>ROBBERY</td>\n",
       "      <td>ARMED - KNIFE / CUTTING INSTRUMENT</td>\n",
       "      <td>STREET</td>\n",
       "      <td>False</td>\n",
       "      <td>False</td>\n",
       "      <td>922</td>\n",
       "      <td>9.0</td>\n",
       "      <td>15.0</td>\n",
       "      <td>41.810238</td>\n",
       "      <td>-87.685881</td>\n",
       "    </tr>\n",
       "    <tr>\n",
       "      <th>2023-01-01 01:00:00</th>\n",
       "      <td>12938564</td>\n",
       "      <td>CRIMINAL DAMAGE</td>\n",
       "      <td>TO VEHICLE</td>\n",
       "      <td>STREET</td>\n",
       "      <td>False</td>\n",
       "      <td>False</td>\n",
       "      <td>835</td>\n",
       "      <td>8.0</td>\n",
       "      <td>18.0</td>\n",
       "      <td>41.750153</td>\n",
       "      <td>-87.679372</td>\n",
       "    </tr>\n",
       "  </tbody>\n",
       "</table>\n",
       "<p>115 rows × 11 columns</p>\n",
       "</div>"
      ],
      "text/plain": [
       "                           ID         Primary Type  \\\n",
       "Date                                                 \n",
       "2001-01-01 13:00:00   1319931              BATTERY   \n",
       "2001-01-01 01:00:00   1326041              BATTERY   \n",
       "2001-01-01 01:00:00   1310717      CRIMINAL DAMAGE   \n",
       "2001-01-01 13:00:00   1427622        OTHER OFFENSE   \n",
       "2001-01-01 01:00:00   1323691    WEAPONS VIOLATION   \n",
       "...                       ...                  ...   \n",
       "2023-01-01 13:00:00  12940500  MOTOR VEHICLE THEFT   \n",
       "2023-01-01 01:00:00  12939417      CRIMINAL DAMAGE   \n",
       "2023-01-01 01:00:00  12938695              BATTERY   \n",
       "2023-01-01 01:00:00  12940477              ROBBERY   \n",
       "2023-01-01 01:00:00  12938564      CRIMINAL DAMAGE   \n",
       "\n",
       "                                            Description Location Description  \\\n",
       "Date                                                                           \n",
       "2001-01-01 13:00:00                              SIMPLE            RESIDENCE   \n",
       "2001-01-01 01:00:00                              SIMPLE            RESIDENCE   \n",
       "2001-01-01 01:00:00                          TO VEHICLE               STREET   \n",
       "2001-01-01 13:00:00             HARASSMENT BY TELEPHONE            RESIDENCE   \n",
       "2001-01-01 01:00:00            UNLAWFUL POSS OF HANDGUN               STREET   \n",
       "...                                                 ...                  ...   \n",
       "2023-01-01 13:00:00                          AUTOMOBILE               STREET   \n",
       "2023-01-01 01:00:00                          TO VEHICLE               STREET   \n",
       "2023-01-01 01:00:00                              SIMPLE               STREET   \n",
       "2023-01-01 01:00:00  ARMED - KNIFE / CUTTING INSTRUMENT               STREET   \n",
       "2023-01-01 01:00:00                          TO VEHICLE               STREET   \n",
       "\n",
       "                     Arrest  Domestic  Beat  District  Ward   Latitude  \\\n",
       "Date                                                                     \n",
       "2001-01-01 13:00:00   False      True   825       8.0   NaN  41.783892   \n",
       "2001-01-01 01:00:00   False     False  1624      16.0   NaN  41.957850   \n",
       "2001-01-01 01:00:00   False     False  2424      24.0   NaN  42.012391   \n",
       "2001-01-01 13:00:00   False     False  2521      25.0   NaN  41.929707   \n",
       "2001-01-01 01:00:00   False     False  1135      11.0   NaN  41.866694   \n",
       "...                     ...       ...   ...       ...   ...        ...   \n",
       "2023-01-01 13:00:00   False     False   821       8.0  14.0  41.810540   \n",
       "2023-01-01 01:00:00   False     False   734       7.0  17.0  41.760449   \n",
       "2023-01-01 01:00:00   False     False   122       1.0  42.0  41.880688   \n",
       "2023-01-01 01:00:00   False     False   922       9.0  15.0  41.810238   \n",
       "2023-01-01 01:00:00   False     False   835       8.0  18.0  41.750153   \n",
       "\n",
       "                     Longitude  \n",
       "Date                            \n",
       "2001-01-01 13:00:00 -87.684841  \n",
       "2001-01-01 01:00:00 -87.749185  \n",
       "2001-01-01 01:00:00 -87.678032  \n",
       "2001-01-01 13:00:00 -87.739828  \n",
       "2001-01-01 01:00:00 -87.688513  \n",
       "...                        ...  \n",
       "2023-01-01 13:00:00 -87.708698  \n",
       "2023-01-01 01:00:00 -87.657918  \n",
       "2023-01-01 01:00:00 -87.631561  \n",
       "2023-01-01 01:00:00 -87.685881  \n",
       "2023-01-01 01:00:00 -87.679372  \n",
       "\n",
       "[115 rows x 11 columns]"
      ]
     },
     "execution_count": 28,
     "metadata": {},
     "output_type": "execute_result"
    }
   ],
   "source": [
    "df2 = df.set_index('Date')\n",
    "df2"
   ]
  },
  {
   "cell_type": "code",
   "execution_count": 29,
   "id": "13c0d2ef",
   "metadata": {},
   "outputs": [
    {
     "data": {
      "text/plain": [
       "Date\n",
       "2001-01-01 01:00:00    3\n",
       "2001-01-01 13:00:00    2\n",
       "2002-01-01 01:00:00    4\n",
       "2002-01-01 13:00:00    1\n",
       "2003-01-01 01:00:00    3\n",
       "2003-01-01 13:00:00    2\n",
       "2004-01-01 01:00:00    3\n",
       "2004-01-01 13:00:00    2\n",
       "2005-01-01 01:00:00    3\n",
       "2005-01-01 13:00:00    2\n",
       "2006-01-01 01:00:00    2\n",
       "2006-01-01 13:00:00    3\n",
       "2007-01-01 01:00:00    5\n",
       "2008-01-01 01:00:00    2\n",
       "2008-01-01 13:00:00    3\n",
       "2009-01-01 01:00:00    3\n",
       "2009-01-01 13:00:00    2\n",
       "2010-01-01 01:00:00    4\n",
       "2010-01-01 13:00:00    1\n",
       "2011-01-01 01:00:00    5\n",
       "2012-01-01 01:00:00    4\n",
       "2012-01-01 13:00:00    1\n",
       "2013-01-01 01:00:00    5\n",
       "2014-01-01 01:00:00    4\n",
       "2014-01-01 13:00:00    1\n",
       "2015-01-01 01:00:00    3\n",
       "2015-01-01 13:00:00    2\n",
       "2016-01-01 01:00:00    3\n",
       "2016-01-01 13:00:00    2\n",
       "2017-01-01 01:00:00    4\n",
       "2017-01-01 13:00:00    1\n",
       "2018-01-01 01:00:00    3\n",
       "2018-01-01 13:00:00    2\n",
       "2019-01-01 01:00:00    1\n",
       "2019-01-01 13:00:00    4\n",
       "2020-01-01 01:00:00    2\n",
       "2020-01-01 13:00:00    3\n",
       "2021-01-01 01:00:00    1\n",
       "2021-01-01 13:00:00    4\n",
       "2022-01-01 01:00:00    3\n",
       "2022-01-01 13:00:00    2\n",
       "2023-01-01 01:00:00    4\n",
       "2023-01-01 13:00:00    1\n",
       "dtype: int64"
      ]
     },
     "execution_count": 29,
     "metadata": {},
     "output_type": "execute_result"
    }
   ],
   "source": [
    "# Calculate and visualize total number of crimes over 20 years\n",
    "total_crimes_by_year = df.groupby('Date').size()\n",
    "\n",
    "total_crimes_by_year"
   ]
  },
  {
   "cell_type": "code",
   "execution_count": 30,
   "id": "d2584ac6",
   "metadata": {},
   "outputs": [
    {
     "data": {
      "image/png": "[encoded data removed]",
      "text/plain": [
       "<Figure size 640x480 with 1 Axes>"
      ]
     },
     "metadata": {},
     "output_type": "display_data"
    }
   ],
   "source": [
    "total_crimes_by_year.plot(kind='line', title='Total Crimes Over 20 Years');"
   ]
  },
  {
   "cell_type": "markdown",
   "id": "971becbf",
   "metadata": {},
   "source": [
    "### Topic 3) How did the COVID-19 Pandemic affect overall crime trends in Chicago?"
   ]
  },
  {
   "cell_type": "code",
   "execution_count": 31,
   "id": "ff035627",
   "metadata": {},
   "outputs": [
    {
     "data": {
      "text/plain": [
       "Date\n",
       "2001-01-01    5\n",
       "2001-01-02    0\n",
       "2001-01-03    0\n",
       "2001-01-04    0\n",
       "2001-01-05    0\n",
       "             ..\n",
       "2022-12-28    0\n",
       "2022-12-29    0\n",
       "2022-12-30    0\n",
       "2022-12-31    0\n",
       "2023-01-01    5\n",
       "Freq: D, Length: 8036, dtype: int64"
      ]
     },
     "execution_count": 31,
     "metadata": {},
     "output_type": "execute_result"
    }
   ],
   "source": [
    "# Resample data on a daily basis\n",
    "daily_data = df2.resample('D').size()\n",
    "\n",
    "daily_data"
   ]
  },
  {
   "cell_type": "code",
   "execution_count": 32,
   "id": "50775abe",
   "metadata": {},
   "outputs": [
    {
     "data": {
      "text/plain": [
       "Date\n",
       "2018-01-01    5\n",
       "2018-01-02    0\n",
       "2018-01-03    0\n",
       "2018-01-04    0\n",
       "2018-01-05    0\n",
       "             ..\n",
       "2019-12-27    0\n",
       "2019-12-28    0\n",
       "2019-12-29    0\n",
       "2019-12-30    0\n",
       "2019-12-31    0\n",
       "Freq: D, Length: 730, dtype: int64"
      ]
     },
     "execution_count": 32,
     "metadata": {},
     "output_type": "execute_result"
    }
   ],
   "source": [
    "# Create subsets for periods before, during, and after the pandemic\n",
    "pre_pandemic = daily_data['2018-01-01':'2019-12-31']\n",
    "pre_pandemic\n",
    "\n"
   ]
  },
  {
   "cell_type": "code",
   "execution_count": 33,
   "id": "2c5509f7",
   "metadata": {},
   "outputs": [
    {
     "data": {
      "text/plain": [
       "Date\n",
       "2020-01-01    5\n",
       "2020-01-02    0\n",
       "2020-01-03    0\n",
       "2020-01-04    0\n",
       "2020-01-05    0\n",
       "             ..\n",
       "2021-12-27    0\n",
       "2021-12-28    0\n",
       "2021-12-29    0\n",
       "2021-12-30    0\n",
       "2021-12-31    0\n",
       "Freq: D, Length: 731, dtype: int64"
      ]
     },
     "execution_count": 33,
     "metadata": {},
     "output_type": "execute_result"
    }
   ],
   "source": [
    "pandemic = daily_data['2020-01-01':'2021-12-31']\n",
    "pandemic"
   ]
  },
  {
   "cell_type": "code",
   "execution_count": 34,
   "id": "da7c0d1f",
   "metadata": {},
   "outputs": [
    {
     "data": {
      "text/plain": [
       "Date\n",
       "2022-01-01    5\n",
       "2022-01-02    0\n",
       "2022-01-03    0\n",
       "2022-01-04    0\n",
       "2022-01-05    0\n",
       "             ..\n",
       "2022-12-28    0\n",
       "2022-12-29    0\n",
       "2022-12-30    0\n",
       "2022-12-31    0\n",
       "2023-01-01    5\n",
       "Freq: D, Length: 366, dtype: int64"
      ]
     },
     "execution_count": 34,
     "metadata": {},
     "output_type": "execute_result"
    }
   ],
   "source": [
    "post_pandemic = daily_data['2022-01-01':]\n",
    "post_pandemic"
   ]
  },
  {
   "cell_type": "code",
   "execution_count": 35,
   "id": "9078c2bd",
   "metadata": {},
   "outputs": [
    {
     "data": {
      "image/png": "[encoded data removed]",
      "text/plain": [
       "<Figure size 640x480 with 1 Axes>"
      ]
     },
     "metadata": {},
     "output_type": "display_data"
    }
   ],
   "source": [
    "# Plot overall crime trends for the three periods with rolling means\n",
    "# Add xticks for better visualization\n",
    "pre_pandemic.rolling(window=30).mean().plot(label='Pre-Pandemic')\n",
    "pandemic.rolling(window=30).mean().plot(label='Pandemic')\n",
    "post_pandemic.rolling(window=30).mean().plot(label='Post-Pandemic')\n",
    "plt.legend()\n",
    "plt.title('Impact of COVID-19 on Crime Trends')\n",
    "plt.show()"
   ]
  },
  {
   "cell_type": "markdown",
   "id": "935293a9",
   "metadata": {},
   "source": [
    "### Topic 4) What are the seasonal cycles of Crime in Chicago?"
   ]
  },
  {
   "cell_type": "markdown",
   "id": "e0e345d5",
   "metadata": {},
   "source": [
    "#### monthly"
   ]
  },
  {
   "cell_type": "code",
   "execution_count": 36,
   "id": "4b6cd775",
   "metadata": {
    "scrolled": true
   },
   "outputs": [
    {
     "data": {
      "text/plain": [
       "Date\n",
       "2001-01-31    5\n",
       "2001-02-28    0\n",
       "2001-03-31    0\n",
       "2001-04-30    0\n",
       "2001-05-31    0\n",
       "             ..\n",
       "2022-09-30    0\n",
       "2022-10-31    0\n",
       "2022-11-30    0\n",
       "2022-12-31    0\n",
       "2023-01-31    5\n",
       "Freq: M, Length: 265, dtype: int64"
      ]
     },
     "execution_count": 36,
     "metadata": {},
     "output_type": "execute_result"
    }
   ],
   "source": [
    "# Resample data into monthly, daily, and hourly versions\n",
    "monthly_data = df2.resample('M').size()\n",
    "monthly_data "
   ]
  },
  {
   "cell_type": "code",
   "execution_count": 37,
   "id": "d7c36df9",
   "metadata": {},
   "outputs": [],
   "source": [
    "\n",
    "from statsmodels.tsa.seasonal import seasonal_decompose"
   ]
  },
  {
   "cell_type": "code",
   "execution_count": 38,
   "id": "e8c87d3a",
   "metadata": {},
   "outputs": [],
   "source": [
    "# Decompose data\n",
    "decomposition = seasonal_decompose(monthly_data)\n"
   ]
  },
  {
   "cell_type": "code",
   "execution_count": 39,
   "id": "97785b83",
   "metadata": {
    "scrolled": true
   },
   "outputs": [
    {
     "data": {
      "image/png": "[encoded data removed]",
      "text/plain": [
       "<Figure size 1200x1000 with 4 Axes>"
      ]
     },
     "metadata": {},
     "output_type": "display_data"
    }
   ],
   "source": [
    "# Create subplots with a larger figure size\n",
    "fig, (ax1, ax2, ax3, ax4) = plt.subplots(4, 1, figsize=(12, 10))\n",
    "\n",
    "# Plot original data\n",
    "ax1.plot(monthly_data, label='Original')\n",
    "ax1.legend()\n",
    "\n",
    "# Plot trend component\n",
    "ax2.plot(decomposition.trend, label='Trend')\n",
    "ax2.legend()\n",
    "\n",
    "# Plot seasonal component\n",
    "ax3.plot(decomposition.seasonal, label='Seasonal')\n",
    "ax3.legend()\n",
    "\n",
    "# Plot residual component\n",
    "ax4.plot(decomposition.resid, label='Residual')\n",
    "ax4.legend()\n",
    "\n",
    "plt.suptitle('Monthly Seasonal Decomposition')\n",
    "plt.show()"
   ]
  },
  {
   "cell_type": "code",
   "execution_count": 40,
   "id": "76b160e1",
   "metadata": {
    "scrolled": true
   },
   "outputs": [
    {
     "name": "stdout",
     "output_type": "stream",
     "text": [
      "Seasonal Period: January 2001\n"
     ]
    }
   ],
   "source": [
    "# Seasonal period\n",
    "seasonal_period_index = decomposition.seasonal.idxmax()\n",
    "seasonal_period = seasonal_period_index.strftime(\"%B %Y\")\n",
    "print(f\"Seasonal Period: {seasonal_period}\")\n"
   ]
  },
  {
   "cell_type": "code",
   "execution_count": 41,
   "id": "e5031a4a",
   "metadata": {},
   "outputs": [
    {
     "name": "stdout",
     "output_type": "stream",
     "text": [
      "Cycle Description: Crimes are most common during [specify high-crime months] and least common during [specify low-crime months].\n"
     ]
    }
   ],
   "source": [
    "# Describe the cycle\n",
    "cycle_description = \"Crimes are most common during [specify high-crime months] and least common during [specify low-crime months].\"\n",
    "print(f\"Cycle Description: {cycle_description}\")\n",
    "\n"
   ]
  },
  {
   "cell_type": "code",
   "execution_count": 42,
   "id": "8febe0e1",
   "metadata": {},
   "outputs": [
    {
     "name": "stdout",
     "output_type": "stream",
     "text": [
      "Counts Variation: Highest Peak : 4.583333333333332, Lowest Peak : -0.4166666666666665\n"
     ]
    }
   ],
   "source": [
    "# Counts variation\n",
    "max_variation = decomposition.seasonal.max()\n",
    "min_variation = decomposition.seasonal.min()\n",
    "print(f\"Counts Variation: Highest Peak : {max_variation}, Lowest Peak : {min_variation}\")"
   ]
  },
  {
   "cell_type": "markdown",
   "id": "fa638393",
   "metadata": {},
   "source": [
    "#### Daily"
   ]
  },
  {
   "cell_type": "code",
   "execution_count": 43,
   "id": "1da47e8b",
   "metadata": {},
   "outputs": [
    {
     "data": {
      "text/plain": [
       "Date\n",
       "2001-01-01    5\n",
       "2001-01-02    0\n",
       "2001-01-03    0\n",
       "2001-01-04    0\n",
       "2001-01-05    0\n",
       "             ..\n",
       "2022-12-28    0\n",
       "2022-12-29    0\n",
       "2022-12-30    0\n",
       "2022-12-31    0\n",
       "2023-01-01    5\n",
       "Freq: D, Length: 8036, dtype: int64"
      ]
     },
     "execution_count": 43,
     "metadata": {},
     "output_type": "execute_result"
    }
   ],
   "source": [
    "daily_data = df2.resample('D').size()\n",
    "\n",
    "daily_data"
   ]
  },
  {
   "cell_type": "code",
   "execution_count": 44,
   "id": "29b492eb",
   "metadata": {},
   "outputs": [],
   "source": [
    "# Decompose daily data\n",
    "daily_decomposition = seasonal_decompose(daily_data)"
   ]
  },
  {
   "cell_type": "code",
   "execution_count": 45,
   "id": "540782e2",
   "metadata": {},
   "outputs": [
    {
     "data": {
      "image/png": "[encoded data removed]",
      "text/plain": [
       "<Figure size 1200x1000 with 4 Axes>"
      ]
     },
     "metadata": {},
     "output_type": "display_data"
    }
   ],
   "source": [
    "# Create subplots with a larger figure size\n",
    "fig, (ax1, ax2, ax3, ax4) = plt.subplots(4, 1, figsize=(12, 10))\n",
    "\n",
    "# Plot original data\n",
    "ax1.plot(daily_data, label='Original')\n",
    "ax1.legend()\n",
    "\n",
    "# Plot trend component\n",
    "ax2.plot(daily_decomposition.trend, label='Trend')\n",
    "ax2.legend()\n",
    "\n",
    "# Plot seasonal component\n",
    "ax3.plot(daily_decomposition.seasonal, label='Seasonal')\n",
    "ax3.legend()\n",
    "\n",
    "# Plot residual component\n",
    "ax4.plot(daily_decomposition.resid, label='Residual')\n",
    "ax4.legend()\n",
    "\n",
    "plt.suptitle('daily Seasonal Decomposition')\n",
    "plt.show()"
   ]
  },
  {
   "cell_type": "code",
   "execution_count": 46,
   "id": "665ac5f2",
   "metadata": {
    "scrolled": false
   },
   "outputs": [
    {
     "name": "stdout",
     "output_type": "stream",
     "text": [
      "Daily Seasonal Period: January 02, 2001\n"
     ]
    }
   ],
   "source": [
    "# Seasonal period\n",
    "daily_seasonal_period_index = daily_decomposition.seasonal.idxmax()\n",
    "daily_seasonal_period = daily_seasonal_period_index.strftime(\"%B %d, %Y\")\n",
    "print(f\"Daily Seasonal Period: {daily_seasonal_period}\")\n"
   ]
  },
  {
   "cell_type": "code",
   "execution_count": 47,
   "id": "bc84d49b",
   "metadata": {},
   "outputs": [
    {
     "name": "stdout",
     "output_type": "stream",
     "text": [
      "Daily Cycle Description: Crimes are most common during [specify high-crime days] and least common during [specify low-crime days].\n"
     ]
    }
   ],
   "source": [
    "# Describe the cycle\n",
    "daily_cycle_description = \"Crimes are most common during [specify high-crime days] and least common during [specify low-crime days].\"\n",
    "print(f\"Daily Cycle Description: {daily_cycle_description}\")\n"
   ]
  },
  {
   "cell_type": "code",
   "execution_count": 48,
   "id": "2a665ba8",
   "metadata": {},
   "outputs": [
    {
     "name": "stdout",
     "output_type": "stream",
     "text": [
      "Daily Counts Variation: Highest Peak : 0.004536969364599865, Lowest Peak : -0.004181426450570142\n"
     ]
    }
   ],
   "source": [
    "# Counts variation\n",
    "daily_max_variation = daily_decomposition.seasonal.max()\n",
    "daily_min_variation = daily_decomposition.seasonal.min()\n",
    "print(f\"Daily Counts Variation: Highest Peak : {daily_max_variation}, Lowest Peak : {daily_min_variation}\")\n"
   ]
  },
  {
   "cell_type": "markdown",
   "id": "e5d367a5",
   "metadata": {},
   "source": [
    "#### hourly"
   ]
  },
  {
   "cell_type": "code",
   "execution_count": 49,
   "id": "eeed8e8a",
   "metadata": {
    "scrolled": true
   },
   "outputs": [
    {
     "data": {
      "text/plain": [
       "Date\n",
       "2001-01-01 01:00:00    3\n",
       "2001-01-01 02:00:00    0\n",
       "2001-01-01 03:00:00    0\n",
       "2001-01-01 04:00:00    0\n",
       "2001-01-01 05:00:00    0\n",
       "                      ..\n",
       "2023-01-01 09:00:00    0\n",
       "2023-01-01 10:00:00    0\n",
       "2023-01-01 11:00:00    0\n",
       "2023-01-01 12:00:00    0\n",
       "2023-01-01 13:00:00    1\n",
       "Freq: H, Length: 192853, dtype: int64"
      ]
     },
     "execution_count": 49,
     "metadata": {},
     "output_type": "execute_result"
    }
   ],
   "source": [
    "hourly_data = df2.resample('H').size()\n",
    "hourly_data"
   ]
  },
  {
   "cell_type": "code",
   "execution_count": 50,
   "id": "8008e847",
   "metadata": {},
   "outputs": [
    {
     "data": {
      "text/plain": [
       "<statsmodels.tsa.seasonal.DecomposeResult at 0x2e66f09b610>"
      ]
     },
     "execution_count": 50,
     "metadata": {},
     "output_type": "execute_result"
    }
   ],
   "source": [
    "# Decompose hourly data\n",
    "hourly_decomposition = seasonal_decompose(hourly_data)\n",
    "hourly_decomposition"
   ]
  },
  {
   "cell_type": "code",
   "execution_count": 51,
   "id": "046a3308",
   "metadata": {
    "scrolled": true
   },
   "outputs": [
    {
     "data": {
      "image/png": "[encoded data removed]",
      "text/plain": [
       "<Figure size 1200x2200 with 4 Axes>"
      ]
     },
     "metadata": {},
     "output_type": "display_data"
    }
   ],
   "source": [
    "# Create subplots with a larger figure size\n",
    "fig, (ax1, ax2, ax3, ax4) = plt.subplots(4, 1, figsize=(12, 22))\n",
    "\n",
    "# Plot original data\n",
    "ax1.plot(hourly_data, label='Original')\n",
    "ax1.legend()\n",
    "\n",
    "# Plot trend component\n",
    "ax2.plot(hourly_decomposition.trend, label='Trend')\n",
    "ax2.legend()\n",
    "\n",
    "# Plot seasonal component\n",
    "ax3.plot(hourly_decomposition.seasonal, label='Seasonal')\n",
    "ax3.legend()\n",
    "\n",
    "# Plot residual component\n",
    "ax4.plot(hourly_decomposition.resid, label='Residual')\n",
    "ax4.legend()\n",
    "\n",
    "plt.suptitle('hourly Seasonal Decomposition')\n",
    "plt.show()"
   ]
  },
  {
   "cell_type": "code",
   "execution_count": 52,
   "id": "f58decc1",
   "metadata": {
    "scrolled": true
   },
   "outputs": [
    {
     "name": "stdout",
     "output_type": "stream",
     "text": [
      "Hourly Seasonal Period: 01:00\n"
     ]
    }
   ],
   "source": [
    "# Seasonal period\n",
    "hourly_seasonal_period_index = hourly_decomposition.seasonal.idxmax()\n",
    "hourly_seasonal_period = hourly_seasonal_period_index.strftime(\"%H:%M\")\n",
    "print(f\"Hourly Seasonal Period: {hourly_seasonal_period}\")\n"
   ]
  },
  {
   "cell_type": "code",
   "execution_count": 53,
   "id": "da2a77c3",
   "metadata": {},
   "outputs": [
    {
     "name": "stdout",
     "output_type": "stream",
     "text": [
      "Hourly Cycle Description: Crimes are most common during [specify high-crime hours] and least common during [specify low-crime hours].\n"
     ]
    }
   ],
   "source": [
    "# Describe the cycle\n",
    "hourly_cycle_description = \"Crimes are most common during [specify high-crime hours] and least common during [specify low-crime hours].\"\n",
    "print(f\"Hourly Cycle Description: {hourly_cycle_description}\")"
   ]
  },
  {
   "cell_type": "code",
   "execution_count": 54,
   "id": "27228570",
   "metadata": {},
   "outputs": [
    {
     "name": "stdout",
     "output_type": "stream",
     "text": [
      "Hourly Counts Variation: Highest Peak : 0.008248881577992764, Lowest Peak : -0.0005900522531625987\n"
     ]
    }
   ],
   "source": [
    "# Counts variation\n",
    "hourly_max_variation = hourly_decomposition.seasonal.max()\n",
    "hourly_min_variation = hourly_decomposition.seasonal.min()\n",
    "print(f\"Hourly Counts Variation: Highest Peak : {hourly_max_variation}, Lowest Peak : {hourly_min_variation}\")"
   ]
  },
  {
   "cell_type": "markdown",
   "id": "02c90f14",
   "metadata": {},
   "source": [
    "# PART 2"
   ]
  },
  {
   "cell_type": "code",
   "execution_count": 55,
   "id": "c0c12dc6",
   "metadata": {
    "scrolled": true
   },
   "outputs": [
    {
     "data": {
      "text/html": [
       "<div>\n",
       "<style scoped>\n",
       "    .dataframe tbody tr th:only-of-type {\n",
       "        vertical-align: middle;\n",
       "    }\n",
       "\n",
       "    .dataframe tbody tr th {\n",
       "        vertical-align: top;\n",
       "    }\n",
       "\n",
       "    .dataframe thead th {\n",
       "        text-align: right;\n",
       "    }\n",
       "</style>\n",
       "<table border=\"1\" class=\"dataframe\">\n",
       "  <thead>\n",
       "    <tr style=\"text-align: right;\">\n",
       "      <th></th>\n",
       "      <th>ID</th>\n",
       "      <th>Date</th>\n",
       "      <th>Primary Type</th>\n",
       "      <th>Description</th>\n",
       "      <th>Location Description</th>\n",
       "      <th>Arrest</th>\n",
       "      <th>Domestic</th>\n",
       "      <th>Beat</th>\n",
       "      <th>District</th>\n",
       "      <th>Ward</th>\n",
       "      <th>Latitude</th>\n",
       "      <th>Longitude</th>\n",
       "    </tr>\n",
       "  </thead>\n",
       "  <tbody>\n",
       "    <tr>\n",
       "      <th>0</th>\n",
       "      <td>1319931</td>\n",
       "      <td>2001-01-01 13:00:00</td>\n",
       "      <td>BATTERY</td>\n",
       "      <td>SIMPLE</td>\n",
       "      <td>RESIDENCE</td>\n",
       "      <td>False</td>\n",
       "      <td>True</td>\n",
       "      <td>825</td>\n",
       "      <td>8.0</td>\n",
       "      <td>NaN</td>\n",
       "      <td>41.783892</td>\n",
       "      <td>-87.684841</td>\n",
       "    </tr>\n",
       "    <tr>\n",
       "      <th>1</th>\n",
       "      <td>1326041</td>\n",
       "      <td>2001-01-01 01:00:00</td>\n",
       "      <td>BATTERY</td>\n",
       "      <td>SIMPLE</td>\n",
       "      <td>RESIDENCE</td>\n",
       "      <td>False</td>\n",
       "      <td>False</td>\n",
       "      <td>1624</td>\n",
       "      <td>16.0</td>\n",
       "      <td>NaN</td>\n",
       "      <td>41.957850</td>\n",
       "      <td>-87.749185</td>\n",
       "    </tr>\n",
       "    <tr>\n",
       "      <th>2</th>\n",
       "      <td>1310717</td>\n",
       "      <td>2001-01-01 01:00:00</td>\n",
       "      <td>CRIMINAL DAMAGE</td>\n",
       "      <td>TO VEHICLE</td>\n",
       "      <td>STREET</td>\n",
       "      <td>False</td>\n",
       "      <td>False</td>\n",
       "      <td>2424</td>\n",
       "      <td>24.0</td>\n",
       "      <td>NaN</td>\n",
       "      <td>42.012391</td>\n",
       "      <td>-87.678032</td>\n",
       "    </tr>\n",
       "    <tr>\n",
       "      <th>3</th>\n",
       "      <td>1427622</td>\n",
       "      <td>2001-01-01 13:00:00</td>\n",
       "      <td>OTHER OFFENSE</td>\n",
       "      <td>HARASSMENT BY TELEPHONE</td>\n",
       "      <td>RESIDENCE</td>\n",
       "      <td>False</td>\n",
       "      <td>False</td>\n",
       "      <td>2521</td>\n",
       "      <td>25.0</td>\n",
       "      <td>NaN</td>\n",
       "      <td>41.929707</td>\n",
       "      <td>-87.739828</td>\n",
       "    </tr>\n",
       "    <tr>\n",
       "      <th>4</th>\n",
       "      <td>1323691</td>\n",
       "      <td>2001-01-01 01:00:00</td>\n",
       "      <td>WEAPONS VIOLATION</td>\n",
       "      <td>UNLAWFUL POSS OF HANDGUN</td>\n",
       "      <td>STREET</td>\n",
       "      <td>False</td>\n",
       "      <td>False</td>\n",
       "      <td>1135</td>\n",
       "      <td>11.0</td>\n",
       "      <td>NaN</td>\n",
       "      <td>41.866694</td>\n",
       "      <td>-87.688513</td>\n",
       "    </tr>\n",
       "    <tr>\n",
       "      <th>...</th>\n",
       "      <td>...</td>\n",
       "      <td>...</td>\n",
       "      <td>...</td>\n",
       "      <td>...</td>\n",
       "      <td>...</td>\n",
       "      <td>...</td>\n",
       "      <td>...</td>\n",
       "      <td>...</td>\n",
       "      <td>...</td>\n",
       "      <td>...</td>\n",
       "      <td>...</td>\n",
       "      <td>...</td>\n",
       "    </tr>\n",
       "    <tr>\n",
       "      <th>0</th>\n",
       "      <td>12940500</td>\n",
       "      <td>2023-01-01 13:00:00</td>\n",
       "      <td>MOTOR VEHICLE THEFT</td>\n",
       "      <td>AUTOMOBILE</td>\n",
       "      <td>STREET</td>\n",
       "      <td>False</td>\n",
       "      <td>False</td>\n",
       "      <td>821</td>\n",
       "      <td>8.0</td>\n",
       "      <td>14.0</td>\n",
       "      <td>41.810540</td>\n",
       "      <td>-87.708698</td>\n",
       "    </tr>\n",
       "    <tr>\n",
       "      <th>1</th>\n",
       "      <td>12939417</td>\n",
       "      <td>2023-01-01 01:00:00</td>\n",
       "      <td>CRIMINAL DAMAGE</td>\n",
       "      <td>TO VEHICLE</td>\n",
       "      <td>STREET</td>\n",
       "      <td>False</td>\n",
       "      <td>False</td>\n",
       "      <td>734</td>\n",
       "      <td>7.0</td>\n",
       "      <td>17.0</td>\n",
       "      <td>41.760449</td>\n",
       "      <td>-87.657918</td>\n",
       "    </tr>\n",
       "    <tr>\n",
       "      <th>2</th>\n",
       "      <td>12938695</td>\n",
       "      <td>2023-01-01 01:00:00</td>\n",
       "      <td>BATTERY</td>\n",
       "      <td>SIMPLE</td>\n",
       "      <td>STREET</td>\n",
       "      <td>False</td>\n",
       "      <td>False</td>\n",
       "      <td>122</td>\n",
       "      <td>1.0</td>\n",
       "      <td>42.0</td>\n",
       "      <td>41.880688</td>\n",
       "      <td>-87.631561</td>\n",
       "    </tr>\n",
       "    <tr>\n",
       "      <th>3</th>\n",
       "      <td>12940477</td>\n",
       "      <td>2023-01-01 01:00:00</td>\n",
       "      <td>ROBBERY</td>\n",
       "      <td>ARMED - KNIFE / CUTTING INSTRUMENT</td>\n",
       "      <td>STREET</td>\n",
       "      <td>False</td>\n",
       "      <td>False</td>\n",
       "      <td>922</td>\n",
       "      <td>9.0</td>\n",
       "      <td>15.0</td>\n",
       "      <td>41.810238</td>\n",
       "      <td>-87.685881</td>\n",
       "    </tr>\n",
       "    <tr>\n",
       "      <th>4</th>\n",
       "      <td>12938564</td>\n",
       "      <td>2023-01-01 01:00:00</td>\n",
       "      <td>CRIMINAL DAMAGE</td>\n",
       "      <td>TO VEHICLE</td>\n",
       "      <td>STREET</td>\n",
       "      <td>False</td>\n",
       "      <td>False</td>\n",
       "      <td>835</td>\n",
       "      <td>8.0</td>\n",
       "      <td>18.0</td>\n",
       "      <td>41.750153</td>\n",
       "      <td>-87.679372</td>\n",
       "    </tr>\n",
       "  </tbody>\n",
       "</table>\n",
       "<p>115 rows × 12 columns</p>\n",
       "</div>"
      ],
      "text/plain": [
       "          ID                Date         Primary Type  \\\n",
       "0    1319931 2001-01-01 13:00:00              BATTERY   \n",
       "1    1326041 2001-01-01 01:00:00              BATTERY   \n",
       "2    1310717 2001-01-01 01:00:00      CRIMINAL DAMAGE   \n",
       "3    1427622 2001-01-01 13:00:00        OTHER OFFENSE   \n",
       "4    1323691 2001-01-01 01:00:00    WEAPONS VIOLATION   \n",
       "..       ...                 ...                  ...   \n",
       "0   12940500 2023-01-01 13:00:00  MOTOR VEHICLE THEFT   \n",
       "1   12939417 2023-01-01 01:00:00      CRIMINAL DAMAGE   \n",
       "2   12938695 2023-01-01 01:00:00              BATTERY   \n",
       "3   12940477 2023-01-01 01:00:00              ROBBERY   \n",
       "4   12938564 2023-01-01 01:00:00      CRIMINAL DAMAGE   \n",
       "\n",
       "                           Description Location Description  Arrest  Domestic  \\\n",
       "0                               SIMPLE            RESIDENCE   False      True   \n",
       "1                               SIMPLE            RESIDENCE   False     False   \n",
       "2                           TO VEHICLE               STREET   False     False   \n",
       "3              HARASSMENT BY TELEPHONE            RESIDENCE   False     False   \n",
       "4             UNLAWFUL POSS OF HANDGUN               STREET   False     False   \n",
       "..                                 ...                  ...     ...       ...   \n",
       "0                           AUTOMOBILE               STREET   False     False   \n",
       "1                           TO VEHICLE               STREET   False     False   \n",
       "2                               SIMPLE               STREET   False     False   \n",
       "3   ARMED - KNIFE / CUTTING INSTRUMENT               STREET   False     False   \n",
       "4                           TO VEHICLE               STREET   False     False   \n",
       "\n",
       "    Beat  District  Ward   Latitude  Longitude  \n",
       "0    825       8.0   NaN  41.783892 -87.684841  \n",
       "1   1624      16.0   NaN  41.957850 -87.749185  \n",
       "2   2424      24.0   NaN  42.012391 -87.678032  \n",
       "3   2521      25.0   NaN  41.929707 -87.739828  \n",
       "4   1135      11.0   NaN  41.866694 -87.688513  \n",
       "..   ...       ...   ...        ...        ...  \n",
       "0    821       8.0  14.0  41.810540 -87.708698  \n",
       "1    734       7.0  17.0  41.760449 -87.657918  \n",
       "2    122       1.0  42.0  41.880688 -87.631561  \n",
       "3    922       9.0  15.0  41.810238 -87.685881  \n",
       "4    835       8.0  18.0  41.750153 -87.679372  \n",
       "\n",
       "[115 rows x 12 columns]"
      ]
     },
     "execution_count": 55,
     "metadata": {},
     "output_type": "execute_result"
    }
   ],
   "source": [
    "df"
   ]
  },
  {
   "cell_type": "code",
   "execution_count": 57,
   "id": "e94fa67e",
   "metadata": {},
   "outputs": [],
   "source": [
    "df['Date'] = pd.to_datetime(df['Date'])\n",
    "df = df.set_index('Date')"
   ]
  },
  {
   "cell_type": "code",
   "execution_count": 58,
   "id": "9cce12a5",
   "metadata": {},
   "outputs": [
    {
     "data": {
      "text/html": [
       "<div>\n",
       "<style scoped>\n",
       "    .dataframe tbody tr th:only-of-type {\n",
       "        vertical-align: middle;\n",
       "    }\n",
       "\n",
       "    .dataframe tbody tr th {\n",
       "        vertical-align: top;\n",
       "    }\n",
       "\n",
       "    .dataframe thead th {\n",
       "        text-align: right;\n",
       "    }\n",
       "</style>\n",
       "<table border=\"1\" class=\"dataframe\">\n",
       "  <thead>\n",
       "    <tr style=\"text-align: right;\">\n",
       "      <th></th>\n",
       "      <th>ID</th>\n",
       "      <th>Primary Type</th>\n",
       "      <th>Description</th>\n",
       "      <th>Location Description</th>\n",
       "      <th>Arrest</th>\n",
       "      <th>Domestic</th>\n",
       "      <th>Beat</th>\n",
       "      <th>District</th>\n",
       "      <th>Ward</th>\n",
       "      <th>Latitude</th>\n",
       "      <th>Longitude</th>\n",
       "    </tr>\n",
       "    <tr>\n",
       "      <th>Date</th>\n",
       "      <th></th>\n",
       "      <th></th>\n",
       "      <th></th>\n",
       "      <th></th>\n",
       "      <th></th>\n",
       "      <th></th>\n",
       "      <th></th>\n",
       "      <th></th>\n",
       "      <th></th>\n",
       "      <th></th>\n",
       "      <th></th>\n",
       "    </tr>\n",
       "  </thead>\n",
       "  <tbody>\n",
       "    <tr>\n",
       "      <th>2001-01-01 13:00:00</th>\n",
       "      <td>1319931</td>\n",
       "      <td>BATTERY</td>\n",
       "      <td>SIMPLE</td>\n",
       "      <td>RESIDENCE</td>\n",
       "      <td>False</td>\n",
       "      <td>True</td>\n",
       "      <td>825</td>\n",
       "      <td>8.0</td>\n",
       "      <td>NaN</td>\n",
       "      <td>41.783892</td>\n",
       "      <td>-87.684841</td>\n",
       "    </tr>\n",
       "    <tr>\n",
       "      <th>2001-01-01 01:00:00</th>\n",
       "      <td>1326041</td>\n",
       "      <td>BATTERY</td>\n",
       "      <td>SIMPLE</td>\n",
       "      <td>RESIDENCE</td>\n",
       "      <td>False</td>\n",
       "      <td>False</td>\n",
       "      <td>1624</td>\n",
       "      <td>16.0</td>\n",
       "      <td>NaN</td>\n",
       "      <td>41.957850</td>\n",
       "      <td>-87.749185</td>\n",
       "    </tr>\n",
       "    <tr>\n",
       "      <th>2001-01-01 01:00:00</th>\n",
       "      <td>1310717</td>\n",
       "      <td>CRIMINAL DAMAGE</td>\n",
       "      <td>TO VEHICLE</td>\n",
       "      <td>STREET</td>\n",
       "      <td>False</td>\n",
       "      <td>False</td>\n",
       "      <td>2424</td>\n",
       "      <td>24.0</td>\n",
       "      <td>NaN</td>\n",
       "      <td>42.012391</td>\n",
       "      <td>-87.678032</td>\n",
       "    </tr>\n",
       "    <tr>\n",
       "      <th>2001-01-01 13:00:00</th>\n",
       "      <td>1427622</td>\n",
       "      <td>OTHER OFFENSE</td>\n",
       "      <td>HARASSMENT BY TELEPHONE</td>\n",
       "      <td>RESIDENCE</td>\n",
       "      <td>False</td>\n",
       "      <td>False</td>\n",
       "      <td>2521</td>\n",
       "      <td>25.0</td>\n",
       "      <td>NaN</td>\n",
       "      <td>41.929707</td>\n",
       "      <td>-87.739828</td>\n",
       "    </tr>\n",
       "    <tr>\n",
       "      <th>2001-01-01 01:00:00</th>\n",
       "      <td>1323691</td>\n",
       "      <td>WEAPONS VIOLATION</td>\n",
       "      <td>UNLAWFUL POSS OF HANDGUN</td>\n",
       "      <td>STREET</td>\n",
       "      <td>False</td>\n",
       "      <td>False</td>\n",
       "      <td>1135</td>\n",
       "      <td>11.0</td>\n",
       "      <td>NaN</td>\n",
       "      <td>41.866694</td>\n",
       "      <td>-87.688513</td>\n",
       "    </tr>\n",
       "    <tr>\n",
       "      <th>...</th>\n",
       "      <td>...</td>\n",
       "      <td>...</td>\n",
       "      <td>...</td>\n",
       "      <td>...</td>\n",
       "      <td>...</td>\n",
       "      <td>...</td>\n",
       "      <td>...</td>\n",
       "      <td>...</td>\n",
       "      <td>...</td>\n",
       "      <td>...</td>\n",
       "      <td>...</td>\n",
       "    </tr>\n",
       "    <tr>\n",
       "      <th>2023-01-01 13:00:00</th>\n",
       "      <td>12940500</td>\n",
       "      <td>MOTOR VEHICLE THEFT</td>\n",
       "      <td>AUTOMOBILE</td>\n",
       "      <td>STREET</td>\n",
       "      <td>False</td>\n",
       "      <td>False</td>\n",
       "      <td>821</td>\n",
       "      <td>8.0</td>\n",
       "      <td>14.0</td>\n",
       "      <td>41.810540</td>\n",
       "      <td>-87.708698</td>\n",
       "    </tr>\n",
       "    <tr>\n",
       "      <th>2023-01-01 01:00:00</th>\n",
       "      <td>12939417</td>\n",
       "      <td>CRIMINAL DAMAGE</td>\n",
       "      <td>TO VEHICLE</td>\n",
       "      <td>STREET</td>\n",
       "      <td>False</td>\n",
       "      <td>False</td>\n",
       "      <td>734</td>\n",
       "      <td>7.0</td>\n",
       "      <td>17.0</td>\n",
       "      <td>41.760449</td>\n",
       "      <td>-87.657918</td>\n",
       "    </tr>\n",
       "    <tr>\n",
       "      <th>2023-01-01 01:00:00</th>\n",
       "      <td>12938695</td>\n",
       "      <td>BATTERY</td>\n",
       "      <td>SIMPLE</td>\n",
       "      <td>STREET</td>\n",
       "      <td>False</td>\n",
       "      <td>False</td>\n",
       "      <td>122</td>\n",
       "      <td>1.0</td>\n",
       "      <td>42.0</td>\n",
       "      <td>41.880688</td>\n",
       "      <td>-87.631561</td>\n",
       "    </tr>\n",
       "    <tr>\n",
       "      <th>2023-01-01 01:00:00</th>\n",
       "      <td>12940477</td>\n",
       "      <td>ROBBERY</td>\n",
       "      <td>ARMED - KNIFE / CUTTING INSTRUMENT</td>\n",
       "      <td>STREET</td>\n",
       "      <td>False</td>\n",
       "      <td>False</td>\n",
       "      <td>922</td>\n",
       "      <td>9.0</td>\n",
       "      <td>15.0</td>\n",
       "      <td>41.810238</td>\n",
       "      <td>-87.685881</td>\n",
       "    </tr>\n",
       "    <tr>\n",
       "      <th>2023-01-01 01:00:00</th>\n",
       "      <td>12938564</td>\n",
       "      <td>CRIMINAL DAMAGE</td>\n",
       "      <td>TO VEHICLE</td>\n",
       "      <td>STREET</td>\n",
       "      <td>False</td>\n",
       "      <td>False</td>\n",
       "      <td>835</td>\n",
       "      <td>8.0</td>\n",
       "      <td>18.0</td>\n",
       "      <td>41.750153</td>\n",
       "      <td>-87.679372</td>\n",
       "    </tr>\n",
       "  </tbody>\n",
       "</table>\n",
       "<p>115 rows × 11 columns</p>\n",
       "</div>"
      ],
      "text/plain": [
       "                           ID         Primary Type  \\\n",
       "Date                                                 \n",
       "2001-01-01 13:00:00   1319931              BATTERY   \n",
       "2001-01-01 01:00:00   1326041              BATTERY   \n",
       "2001-01-01 01:00:00   1310717      CRIMINAL DAMAGE   \n",
       "2001-01-01 13:00:00   1427622        OTHER OFFENSE   \n",
       "2001-01-01 01:00:00   1323691    WEAPONS VIOLATION   \n",
       "...                       ...                  ...   \n",
       "2023-01-01 13:00:00  12940500  MOTOR VEHICLE THEFT   \n",
       "2023-01-01 01:00:00  12939417      CRIMINAL DAMAGE   \n",
       "2023-01-01 01:00:00  12938695              BATTERY   \n",
       "2023-01-01 01:00:00  12940477              ROBBERY   \n",
       "2023-01-01 01:00:00  12938564      CRIMINAL DAMAGE   \n",
       "\n",
       "                                            Description Location Description  \\\n",
       "Date                                                                           \n",
       "2001-01-01 13:00:00                              SIMPLE            RESIDENCE   \n",
       "2001-01-01 01:00:00                              SIMPLE            RESIDENCE   \n",
       "2001-01-01 01:00:00                          TO VEHICLE               STREET   \n",
       "2001-01-01 13:00:00             HARASSMENT BY TELEPHONE            RESIDENCE   \n",
       "2001-01-01 01:00:00            UNLAWFUL POSS OF HANDGUN               STREET   \n",
       "...                                                 ...                  ...   \n",
       "2023-01-01 13:00:00                          AUTOMOBILE               STREET   \n",
       "2023-01-01 01:00:00                          TO VEHICLE               STREET   \n",
       "2023-01-01 01:00:00                              SIMPLE               STREET   \n",
       "2023-01-01 01:00:00  ARMED - KNIFE / CUTTING INSTRUMENT               STREET   \n",
       "2023-01-01 01:00:00                          TO VEHICLE               STREET   \n",
       "\n",
       "                     Arrest  Domestic  Beat  District  Ward   Latitude  \\\n",
       "Date                                                                     \n",
       "2001-01-01 13:00:00   False      True   825       8.0   NaN  41.783892   \n",
       "2001-01-01 01:00:00   False     False  1624      16.0   NaN  41.957850   \n",
       "2001-01-01 01:00:00   False     False  2424      24.0   NaN  42.012391   \n",
       "2001-01-01 13:00:00   False     False  2521      25.0   NaN  41.929707   \n",
       "2001-01-01 01:00:00   False     False  1135      11.0   NaN  41.866694   \n",
       "...                     ...       ...   ...       ...   ...        ...   \n",
       "2023-01-01 13:00:00   False     False   821       8.0  14.0  41.810540   \n",
       "2023-01-01 01:00:00   False     False   734       7.0  17.0  41.760449   \n",
       "2023-01-01 01:00:00   False     False   122       1.0  42.0  41.880688   \n",
       "2023-01-01 01:00:00   False     False   922       9.0  15.0  41.810238   \n",
       "2023-01-01 01:00:00   False     False   835       8.0  18.0  41.750153   \n",
       "\n",
       "                     Longitude  \n",
       "Date                            \n",
       "2001-01-01 13:00:00 -87.684841  \n",
       "2001-01-01 01:00:00 -87.749185  \n",
       "2001-01-01 01:00:00 -87.678032  \n",
       "2001-01-01 13:00:00 -87.739828  \n",
       "2001-01-01 01:00:00 -87.688513  \n",
       "...                        ...  \n",
       "2023-01-01 13:00:00 -87.708698  \n",
       "2023-01-01 01:00:00 -87.657918  \n",
       "2023-01-01 01:00:00 -87.631561  \n",
       "2023-01-01 01:00:00 -87.685881  \n",
       "2023-01-01 01:00:00 -87.679372  \n",
       "\n",
       "[115 rows x 11 columns]"
      ]
     },
     "execution_count": 58,
     "metadata": {},
     "output_type": "execute_result"
    }
   ],
   "source": [
    "df"
   ]
  },
  {
   "cell_type": "markdown",
   "id": "76db4716",
   "metadata": {},
   "source": [
    "### THEFT"
   ]
  },
  {
   "cell_type": "code",
   "execution_count": 62,
   "id": "5cb9de75",
   "metadata": {},
   "outputs": [],
   "source": [
    "# perform resampling\n",
    "theft_data = df[df['Primary Type'] == 'THEFT'].resample('M').size()"
   ]
  },
  {
   "cell_type": "code",
   "execution_count": 64,
   "id": "4e032aa0",
   "metadata": {},
   "outputs": [
    {
     "data": {
      "text/plain": [
       "Date\n",
       "2002-01-31    1\n",
       "2002-02-28    0\n",
       "2002-03-31    0\n",
       "2002-04-30    0\n",
       "2002-05-31    0\n",
       "             ..\n",
       "2021-09-30    0\n",
       "2021-10-31    0\n",
       "2021-11-30    0\n",
       "2021-12-31    0\n",
       "2022-01-31    1\n",
       "Freq: M, Length: 241, dtype: int64"
      ]
     },
     "execution_count": 64,
     "metadata": {},
     "output_type": "execute_result"
    }
   ],
   "source": [
    "theft_data"
   ]
  },
  {
   "cell_type": "code",
   "execution_count": 65,
   "id": "290a4c9a",
   "metadata": {},
   "outputs": [
    {
     "name": "stdout",
     "output_type": "stream",
     "text": [
      "0\n"
     ]
    }
   ],
   "source": [
    "# Check for null values\n",
    "print(theft_data.isnull().sum())\n",
    "\n",
    "# If null values exist, fill or interpolate them\n",
    "theft_data = theft_data.fillna(method='ffill')"
   ]
  },
  {
   "cell_type": "code",
   "execution_count": 67,
   "id": "ba10a95e",
   "metadata": {},
   "outputs": [
    {
     "data": {
      "text/plain": [
       "<statsmodels.tsa.seasonal.DecomposeResult at 0x2e6736a5690>"
      ]
     },
     "execution_count": 67,
     "metadata": {},
     "output_type": "execute_result"
    }
   ],
   "source": [
    "from statsmodels.tsa.seasonal import seasonal_decompose\n",
    "\n",
    "# Decompose time series\n",
    "theft_decomposition = seasonal_decompose(theft_data)\n",
    "theft_decomposition"
   ]
  },
  {
   "cell_type": "code",
   "execution_count": 69,
   "id": "28cfd3b9",
   "metadata": {},
   "outputs": [],
   "source": [
    "# plot_acf and plot_pacf are from statsmodels.graphics.tsaplots\n",
    "from statsmodels.graphics.tsaplots import plot_acf, plot_pacf"
   ]
  },
  {
   "cell_type": "code",
   "execution_count": 70,
   "id": "3607cbbf",
   "metadata": {},
   "outputs": [
    {
     "data": {
      "image/png": "[encoded data removed]",
      "text/plain": [
       "<Figure size 640x480 with 1 Axes>"
      ]
     },
     "metadata": {},
     "output_type": "display_data"
    },
    {
     "data": {
      "image/png": "[encoded data removed]",
      "text/plain": [
       "<Figure size 640x480 with 1 Axes>"
      ]
     },
     "metadata": {},
     "output_type": "display_data"
    }
   ],
   "source": [
    "# Plot ACF and PACF\n",
    "plot_acf(theft_data.diff().dropna())\n",
    "plot_pacf(theft_data.diff().dropna())\n",
    "plt.show()"
   ]
  },
  {
   "cell_type": "code",
   "execution_count": 77,
   "id": "d5980d4d",
   "metadata": {},
   "outputs": [
    {
     "data": {
      "text/plain": [
       "Date\n",
       "2002-01-31    1\n",
       "2002-02-28    0\n",
       "2002-03-31    0\n",
       "2002-04-30    0\n",
       "2002-05-31    0\n",
       "             ..\n",
       "2021-03-31    0\n",
       "2021-04-30    0\n",
       "2021-05-31    0\n",
       "2021-06-30    0\n",
       "2021-07-31    0\n",
       "Freq: M, Length: 235, dtype: int64"
      ]
     },
     "execution_count": 77,
     "metadata": {},
     "output_type": "execute_result"
    }
   ],
   "source": [
    "train_theft = theft_data.iloc[:-6]\n",
    "train_theft"
   ]
  },
  {
   "cell_type": "code",
   "execution_count": 78,
   "id": "6ad41cec",
   "metadata": {},
   "outputs": [
    {
     "data": {
      "text/plain": [
       "Date\n",
       "2021-08-31    0\n",
       "2021-09-30    0\n",
       "2021-10-31    0\n",
       "2021-11-30    0\n",
       "2021-12-31    0\n",
       "2022-01-31    1\n",
       "Freq: M, dtype: int64"
      ]
     },
     "execution_count": 78,
     "metadata": {},
     "output_type": "execute_result"
    }
   ],
   "source": [
    "test_theft = theft_data.iloc[-6:]\n",
    "test_theft"
   ]
  },
  {
   "cell_type": "markdown",
   "id": "bb546762",
   "metadata": {},
   "source": [
    "### BATTERY"
   ]
  },
  {
   "cell_type": "code",
   "execution_count": 72,
   "id": "78a74424",
   "metadata": {},
   "outputs": [
    {
     "data": {
      "text/plain": [
       "Date\n",
       "2001-01-31    2\n",
       "2001-02-28    0\n",
       "2001-03-31    0\n",
       "2001-04-30    0\n",
       "2001-05-31    0\n",
       "             ..\n",
       "2022-09-30    0\n",
       "2022-10-31    0\n",
       "2022-11-30    0\n",
       "2022-12-31    0\n",
       "2023-01-31    1\n",
       "Freq: M, Length: 265, dtype: int64"
      ]
     },
     "execution_count": 72,
     "metadata": {},
     "output_type": "execute_result"
    }
   ],
   "source": [
    "battery_data =df[df['Primary Type'] == 'BATTERY'].resample('M').size()\n",
    "battery_data"
   ]
  },
  {
   "cell_type": "code",
   "execution_count": 73,
   "id": "8adf8e68",
   "metadata": {},
   "outputs": [
    {
     "name": "stdout",
     "output_type": "stream",
     "text": [
      "0\n"
     ]
    }
   ],
   "source": [
    "# Check for null values\n",
    "print(battery_data.isnull().sum())\n",
    "\n",
    "# If null values exist, fill or interpolate them\n",
    "battery_data = battery_data.fillna(method='ffill')"
   ]
  },
  {
   "cell_type": "code",
   "execution_count": 74,
   "id": "2361bb4d",
   "metadata": {},
   "outputs": [
    {
     "data": {
      "text/plain": [
       "<statsmodels.tsa.seasonal.DecomposeResult at 0x2e6736a5690>"
      ]
     },
     "execution_count": 74,
     "metadata": {},
     "output_type": "execute_result"
    }
   ],
   "source": [
    "from statsmodels.tsa.seasonal import seasonal_decompose\n",
    "\n",
    "# Decompose time series\n",
    "battery_decomposition = seasonal_decompose(battery_data)\n",
    "theft_decomposition"
   ]
  },
  {
   "cell_type": "code",
   "execution_count": 75,
   "id": "b1047a62",
   "metadata": {},
   "outputs": [
    {
     "data": {
      "image/png": "[encoded data removed]",
      "text/plain": [
       "<Figure size 640x480 with 1 Axes>"
      ]
     },
     "metadata": {},
     "output_type": "display_data"
    },
    {
     "data": {
      "image/png": "[encoded data removed]",
      "text/plain": [
       "<Figure size 640x480 with 1 Axes>"
      ]
     },
     "metadata": {},
     "output_type": "display_data"
    }
   ],
   "source": [
    "# Plot ACF and PACF\n",
    "plot_acf(battery_data.diff().dropna())\n",
    "plot_pacf(battery_data.diff().dropna())\n",
    "plt.show()"
   ]
  },
  {
   "cell_type": "code",
   "execution_count": 79,
   "id": "61a34b75",
   "metadata": {},
   "outputs": [
    {
     "data": {
      "text/plain": [
       "Date\n",
       "2001-01-31    2\n",
       "2001-02-28    0\n",
       "2001-03-31    0\n",
       "2001-04-30    0\n",
       "2001-05-31    0\n",
       "             ..\n",
       "2022-03-31    0\n",
       "2022-04-30    0\n",
       "2022-05-31    0\n",
       "2022-06-30    0\n",
       "2022-07-31    0\n",
       "Freq: M, Length: 259, dtype: int64"
      ]
     },
     "execution_count": 79,
     "metadata": {},
     "output_type": "execute_result"
    }
   ],
   "source": [
    "train_battery = battery_data.iloc[:-6]\n",
    "train_battery"
   ]
  },
  {
   "cell_type": "code",
   "execution_count": 80,
   "id": "a14815c8",
   "metadata": {
    "scrolled": true
   },
   "outputs": [
    {
     "data": {
      "text/plain": [
       "Date\n",
       "2022-08-31    0\n",
       "2022-09-30    0\n",
       "2022-10-31    0\n",
       "2022-11-30    0\n",
       "2022-12-31    0\n",
       "2023-01-31    1\n",
       "Freq: M, dtype: int64"
      ]
     },
     "execution_count": 80,
     "metadata": {},
     "output_type": "execute_result"
    }
   ],
   "source": [
    "test_battery = battery_data.iloc[-6:]\n",
    "test_battery"
   ]
  },
  {
   "cell_type": "markdown",
   "id": "fa6cc473",
   "metadata": {},
   "source": [
    "## Fit a Manual ARIMA Model"
   ]
  },
  {
   "cell_type": "code",
   "execution_count": 94,
   "id": "031dff80",
   "metadata": {},
   "outputs": [],
   "source": [
    "import pmdarima as pm\n",
    "from pmdarima.arima.utils import ndiffs, nsdiffs\n",
    "from statsmodels.tsa.arima.model import ARIMA"
   ]
  },
  {
   "cell_type": "code",
   "execution_count": 114,
   "id": "795dec48",
   "metadata": {},
   "outputs": [
    {
     "data": {
      "text/html": [
       "<table class=\"simpletable\">\n",
       "<caption>SARIMAX Results</caption>\n",
       "<tr>\n",
       "  <th>Dep. Variable:</th>           <td>y</td>        <th>  No. Observations:  </th>    <td>235</td>  \n",
       "</tr>\n",
       "<tr>\n",
       "  <th>Model:</th>            <td>ARIMA(1, 1, 1)</td>  <th>  Log Likelihood     </th> <td>-154.599</td>\n",
       "</tr>\n",
       "<tr>\n",
       "  <th>Date:</th>            <td>Fri, 01 Dec 2023</td> <th>  AIC                </th>  <td>315.199</td>\n",
       "</tr>\n",
       "<tr>\n",
       "  <th>Time:</th>                <td>00:13:49</td>     <th>  BIC                </th>  <td>325.565</td>\n",
       "</tr>\n",
       "<tr>\n",
       "  <th>Sample:</th>             <td>01-31-2002</td>    <th>  HQIC               </th>  <td>319.378</td>\n",
       "</tr>\n",
       "<tr>\n",
       "  <th></th>                   <td>- 07-31-2021</td>   <th>                     </th>     <td> </td>   \n",
       "</tr>\n",
       "<tr>\n",
       "  <th>Covariance Type:</th>        <td>opg</td>       <th>                     </th>     <td> </td>   \n",
       "</tr>\n",
       "</table>\n",
       "<table class=\"simpletable\">\n",
       "<tr>\n",
       "     <td></td>       <th>coef</th>     <th>std err</th>      <th>z</th>      <th>P>|z|</th>  <th>[0.025</th>    <th>0.975]</th>  \n",
       "</tr>\n",
       "<tr>\n",
       "  <th>ar.L1</th>  <td>   -0.0514</td> <td>    0.312</td> <td>   -0.165</td> <td> 0.869</td> <td>   -0.664</td> <td>    0.561</td>\n",
       "</tr>\n",
       "<tr>\n",
       "  <th>ma.L1</th>  <td>   -0.9899</td> <td>    0.035</td> <td>  -28.617</td> <td> 0.000</td> <td>   -1.058</td> <td>   -0.922</td>\n",
       "</tr>\n",
       "<tr>\n",
       "  <th>sigma2</th> <td>    0.2158</td> <td>    0.009</td> <td>   22.952</td> <td> 0.000</td> <td>    0.197</td> <td>    0.234</td>\n",
       "</tr>\n",
       "</table>\n",
       "<table class=\"simpletable\">\n",
       "<tr>\n",
       "  <th>Ljung-Box (L1) (Q):</th>     <td>0.00</td> <th>  Jarque-Bera (JB):  </th> <td>10512.99</td>\n",
       "</tr>\n",
       "<tr>\n",
       "  <th>Prob(Q):</th>                <td>0.98</td> <th>  Prob(JB):          </th>   <td>0.00</td>  \n",
       "</tr>\n",
       "<tr>\n",
       "  <th>Heteroskedasticity (H):</th> <td>0.19</td> <th>  Skew:              </th>   <td>5.22</td>  \n",
       "</tr>\n",
       "<tr>\n",
       "  <th>Prob(H) (two-sided):</th>    <td>0.00</td> <th>  Kurtosis:          </th>   <td>34.13</td> \n",
       "</tr>\n",
       "</table><br/><br/>Warnings:<br/>[1] Covariance matrix calculated using the outer product of gradients (complex-step)."
      ],
      "text/latex": [
       "\\begin{center}\n",
       "\\begin{tabular}{lclc}\n",
       "\\toprule\n",
       "\\textbf{Dep. Variable:}          &        y         & \\textbf{  No. Observations:  } &    235      \\\\\n",
       "\\textbf{Model:}                  &  ARIMA(1, 1, 1)  & \\textbf{  Log Likelihood     } &  -154.599   \\\\\n",
       "\\textbf{Date:}                   & Fri, 01 Dec 2023 & \\textbf{  AIC                } &  315.199    \\\\\n",
       "\\textbf{Time:}                   &     00:13:49     & \\textbf{  BIC                } &  325.565    \\\\\n",
       "\\textbf{Sample:}                 &    01-31-2002    & \\textbf{  HQIC               } &  319.378    \\\\\n",
       "\\textbf{}                        &   - 07-31-2021   & \\textbf{                     } &             \\\\\n",
       "\\textbf{Covariance Type:}        &       opg        & \\textbf{                     } &             \\\\\n",
       "\\bottomrule\n",
       "\\end{tabular}\n",
       "\\begin{tabular}{lcccccc}\n",
       "                & \\textbf{coef} & \\textbf{std err} & \\textbf{z} & \\textbf{P$> |$z$|$} & \\textbf{[0.025} & \\textbf{0.975]}  \\\\\n",
       "\\midrule\n",
       "\\textbf{ar.L1}  &      -0.0514  &        0.312     &    -0.165  &         0.869        &       -0.664    &        0.561     \\\\\n",
       "\\textbf{ma.L1}  &      -0.9899  &        0.035     &   -28.617  &         0.000        &       -1.058    &       -0.922     \\\\\n",
       "\\textbf{sigma2} &       0.2158  &        0.009     &    22.952  &         0.000        &        0.197    &        0.234     \\\\\n",
       "\\bottomrule\n",
       "\\end{tabular}\n",
       "\\begin{tabular}{lclc}\n",
       "\\textbf{Ljung-Box (L1) (Q):}     & 0.00 & \\textbf{  Jarque-Bera (JB):  } & 10512.99  \\\\\n",
       "\\textbf{Prob(Q):}                & 0.98 & \\textbf{  Prob(JB):          } &   0.00    \\\\\n",
       "\\textbf{Heteroskedasticity (H):} & 0.19 & \\textbf{  Skew:              } &   5.22    \\\\\n",
       "\\textbf{Prob(H) (two-sided):}    & 0.00 & \\textbf{  Kurtosis:          } &  34.13    \\\\\n",
       "\\bottomrule\n",
       "\\end{tabular}\n",
       "%\\caption{SARIMAX Results}\n",
       "\\end{center}\n",
       "\n",
       "Warnings: \\newline\n",
       " [1] Covariance matrix calculated using the outer product of gradients (complex-step)."
      ],
      "text/plain": [
       "<class 'statsmodels.iolib.summary.Summary'>\n",
       "\"\"\"\n",
       "                               SARIMAX Results                                \n",
       "==============================================================================\n",
       "Dep. Variable:                      y   No. Observations:                  235\n",
       "Model:                 ARIMA(1, 1, 1)   Log Likelihood                -154.599\n",
       "Date:                Fri, 01 Dec 2023   AIC                            315.199\n",
       "Time:                        00:13:49   BIC                            325.565\n",
       "Sample:                    01-31-2002   HQIC                           319.378\n",
       "                         - 07-31-2021                                         \n",
       "Covariance Type:                  opg                                         \n",
       "==============================================================================\n",
       "                 coef    std err          z      P>|z|      [0.025      0.975]\n",
       "------------------------------------------------------------------------------\n",
       "ar.L1         -0.0514      0.312     -0.165      0.869      -0.664       0.561\n",
       "ma.L1         -0.9899      0.035    -28.617      0.000      -1.058      -0.922\n",
       "sigma2         0.2158      0.009     22.952      0.000       0.197       0.234\n",
       "===================================================================================\n",
       "Ljung-Box (L1) (Q):                   0.00   Jarque-Bera (JB):             10512.99\n",
       "Prob(Q):                              0.98   Prob(JB):                         0.00\n",
       "Heteroskedasticity (H):               0.19   Skew:                             5.22\n",
       "Prob(H) (two-sided):                  0.00   Kurtosis:                        34.13\n",
       "===================================================================================\n",
       "\n",
       "Warnings:\n",
       "[1] Covariance matrix calculated using the outer product of gradients (complex-step).\n",
       "\"\"\""
      ]
     },
     "execution_count": 114,
     "metadata": {},
     "output_type": "execute_result"
    }
   ],
   "source": [
    "model_theft = ARIMA(train_theft, order=(1, 1, 1)) \n",
    "fit_theft = model_theft.fit()\n",
    "fit_theft.summary()"
   ]
  },
  {
   "cell_type": "code",
   "execution_count": 113,
   "id": "fd585598",
   "metadata": {},
   "outputs": [
    {
     "data": {
      "text/html": [
       "<table class=\"simpletable\">\n",
       "<caption>SARIMAX Results</caption>\n",
       "<tr>\n",
       "  <th>Dep. Variable:</th>           <td>y</td>        <th>  No. Observations:  </th>    <td>259</td>  \n",
       "</tr>\n",
       "<tr>\n",
       "  <th>Model:</th>            <td>ARIMA(1, 1, 1)</td>  <th>  Log Likelihood     </th> <td>-119.175</td>\n",
       "</tr>\n",
       "<tr>\n",
       "  <th>Date:</th>            <td>Fri, 01 Dec 2023</td> <th>  AIC                </th>  <td>244.349</td>\n",
       "</tr>\n",
       "<tr>\n",
       "  <th>Time:</th>                <td>00:13:42</td>     <th>  BIC                </th>  <td>255.008</td>\n",
       "</tr>\n",
       "<tr>\n",
       "  <th>Sample:</th>             <td>01-31-2001</td>    <th>  HQIC               </th>  <td>248.635</td>\n",
       "</tr>\n",
       "<tr>\n",
       "  <th></th>                   <td>- 07-31-2022</td>   <th>                     </th>     <td> </td>   \n",
       "</tr>\n",
       "<tr>\n",
       "  <th>Covariance Type:</th>        <td>opg</td>       <th>                     </th>     <td> </td>   \n",
       "</tr>\n",
       "</table>\n",
       "<table class=\"simpletable\">\n",
       "<tr>\n",
       "     <td></td>       <th>coef</th>     <th>std err</th>      <th>z</th>      <th>P>|z|</th>  <th>[0.025</th>    <th>0.975]</th>  \n",
       "</tr>\n",
       "<tr>\n",
       "  <th>ar.L1</th>  <td>   -0.0417</td> <td>    0.120</td> <td>   -0.348</td> <td> 0.728</td> <td>   -0.277</td> <td>    0.193</td>\n",
       "</tr>\n",
       "<tr>\n",
       "  <th>ma.L1</th>  <td>   -0.9989</td> <td>    0.191</td> <td>   -5.238</td> <td> 0.000</td> <td>   -1.373</td> <td>   -0.625</td>\n",
       "</tr>\n",
       "<tr>\n",
       "  <th>sigma2</th> <td>    0.1444</td> <td>    0.025</td> <td>    5.668</td> <td> 0.000</td> <td>    0.094</td> <td>    0.194</td>\n",
       "</tr>\n",
       "</table>\n",
       "<table class=\"simpletable\">\n",
       "<tr>\n",
       "  <th>Ljung-Box (L1) (Q):</th>     <td>0.94</td> <th>  Jarque-Bera (JB):  </th> <td>12457.10</td>\n",
       "</tr>\n",
       "<tr>\n",
       "  <th>Prob(Q):</th>                <td>0.33</td> <th>  Prob(JB):          </th>   <td>0.00</td>  \n",
       "</tr>\n",
       "<tr>\n",
       "  <th>Heteroskedasticity (H):</th> <td>1.38</td> <th>  Skew:              </th>   <td>4.93</td>  \n",
       "</tr>\n",
       "<tr>\n",
       "  <th>Prob(H) (two-sided):</th>    <td>0.13</td> <th>  Kurtosis:          </th>   <td>35.58</td> \n",
       "</tr>\n",
       "</table><br/><br/>Warnings:<br/>[1] Covariance matrix calculated using the outer product of gradients (complex-step)."
      ],
      "text/latex": [
       "\\begin{center}\n",
       "\\begin{tabular}{lclc}\n",
       "\\toprule\n",
       "\\textbf{Dep. Variable:}          &        y         & \\textbf{  No. Observations:  } &    259      \\\\\n",
       "\\textbf{Model:}                  &  ARIMA(1, 1, 1)  & \\textbf{  Log Likelihood     } &  -119.175   \\\\\n",
       "\\textbf{Date:}                   & Fri, 01 Dec 2023 & \\textbf{  AIC                } &  244.349    \\\\\n",
       "\\textbf{Time:}                   &     00:13:42     & \\textbf{  BIC                } &  255.008    \\\\\n",
       "\\textbf{Sample:}                 &    01-31-2001    & \\textbf{  HQIC               } &  248.635    \\\\\n",
       "\\textbf{}                        &   - 07-31-2022   & \\textbf{                     } &             \\\\\n",
       "\\textbf{Covariance Type:}        &       opg        & \\textbf{                     } &             \\\\\n",
       "\\bottomrule\n",
       "\\end{tabular}\n",
       "\\begin{tabular}{lcccccc}\n",
       "                & \\textbf{coef} & \\textbf{std err} & \\textbf{z} & \\textbf{P$> |$z$|$} & \\textbf{[0.025} & \\textbf{0.975]}  \\\\\n",
       "\\midrule\n",
       "\\textbf{ar.L1}  &      -0.0417  &        0.120     &    -0.348  &         0.728        &       -0.277    &        0.193     \\\\\n",
       "\\textbf{ma.L1}  &      -0.9989  &        0.191     &    -5.238  &         0.000        &       -1.373    &       -0.625     \\\\\n",
       "\\textbf{sigma2} &       0.1444  &        0.025     &     5.668  &         0.000        &        0.094    &        0.194     \\\\\n",
       "\\bottomrule\n",
       "\\end{tabular}\n",
       "\\begin{tabular}{lclc}\n",
       "\\textbf{Ljung-Box (L1) (Q):}     & 0.94 & \\textbf{  Jarque-Bera (JB):  } & 12457.10  \\\\\n",
       "\\textbf{Prob(Q):}                & 0.33 & \\textbf{  Prob(JB):          } &   0.00    \\\\\n",
       "\\textbf{Heteroskedasticity (H):} & 1.38 & \\textbf{  Skew:              } &   4.93    \\\\\n",
       "\\textbf{Prob(H) (two-sided):}    & 0.13 & \\textbf{  Kurtosis:          } &  35.58    \\\\\n",
       "\\bottomrule\n",
       "\\end{tabular}\n",
       "%\\caption{SARIMAX Results}\n",
       "\\end{center}\n",
       "\n",
       "Warnings: \\newline\n",
       " [1] Covariance matrix calculated using the outer product of gradients (complex-step)."
      ],
      "text/plain": [
       "<class 'statsmodels.iolib.summary.Summary'>\n",
       "\"\"\"\n",
       "                               SARIMAX Results                                \n",
       "==============================================================================\n",
       "Dep. Variable:                      y   No. Observations:                  259\n",
       "Model:                 ARIMA(1, 1, 1)   Log Likelihood                -119.175\n",
       "Date:                Fri, 01 Dec 2023   AIC                            244.349\n",
       "Time:                        00:13:42   BIC                            255.008\n",
       "Sample:                    01-31-2001   HQIC                           248.635\n",
       "                         - 07-31-2022                                         \n",
       "Covariance Type:                  opg                                         \n",
       "==============================================================================\n",
       "                 coef    std err          z      P>|z|      [0.025      0.975]\n",
       "------------------------------------------------------------------------------\n",
       "ar.L1         -0.0417      0.120     -0.348      0.728      -0.277       0.193\n",
       "ma.L1         -0.9989      0.191     -5.238      0.000      -1.373      -0.625\n",
       "sigma2         0.1444      0.025      5.668      0.000       0.094       0.194\n",
       "===================================================================================\n",
       "Ljung-Box (L1) (Q):                   0.94   Jarque-Bera (JB):             12457.10\n",
       "Prob(Q):                              0.33   Prob(JB):                         0.00\n",
       "Heteroskedasticity (H):               1.38   Skew:                             4.93\n",
       "Prob(H) (two-sided):                  0.13   Kurtosis:                        35.58\n",
       "===================================================================================\n",
       "\n",
       "Warnings:\n",
       "[1] Covariance matrix calculated using the outer product of gradients (complex-step).\n",
       "\"\"\""
      ]
     },
     "execution_count": 113,
     "metadata": {},
     "output_type": "execute_result"
    }
   ],
   "source": [
    "model_battery = ARIMA(train_battery, order=(1, 1, 1)) \n",
    "fit_battery = model_battery.fit()\n",
    "fit_battery.summary()"
   ]
  },
  {
   "cell_type": "code",
   "execution_count": 99,
   "id": "ed3ef554",
   "metadata": {},
   "outputs": [
    {
     "data": {
      "text/plain": [
       "2021-08-31    0.085991\n",
       "2021-09-30    0.081570\n",
       "2021-10-31    0.081797\n",
       "2021-11-30    0.081786\n",
       "2021-12-31    0.081786\n",
       "2022-01-31    0.081786\n",
       "Freq: M, Name: predicted_mean, dtype: float64"
      ]
     },
     "execution_count": 99,
     "metadata": {},
     "output_type": "execute_result"
    }
   ],
   "source": [
    "forecast_theft = fit_theft.forecast(steps=6)  # Forecasting for 6 months\n",
    "\n",
    "\n",
    "forecast_theft"
   ]
  },
  {
   "cell_type": "code",
   "execution_count": 100,
   "id": "9e650615",
   "metadata": {},
   "outputs": [
    {
     "data": {
      "text/plain": [
       "2022-08-31    0.084109\n",
       "2022-09-30    0.080600\n",
       "2022-10-31    0.080747\n",
       "2022-11-30    0.080741\n",
       "2022-12-31    0.080741\n",
       "2023-01-31    0.080741\n",
       "Freq: M, Name: predicted_mean, dtype: float64"
      ]
     },
     "execution_count": 100,
     "metadata": {},
     "output_type": "execute_result"
    }
   ],
   "source": [
    "forecast_battery = fit_battery.forecast(steps=6)  # Forecasting for 6 months\n",
    "forecast_battery"
   ]
  },
  {
   "cell_type": "markdown",
   "id": "10831ff3",
   "metadata": {},
   "source": [
    "### Step 8: Plot Forecasts versus Test Data"
   ]
  },
  {
   "cell_type": "code",
   "execution_count": 102,
   "id": "40f2415f",
   "metadata": {},
   "outputs": [
    {
     "data": {
      "image/png": "[encoded data removed]",
      "text/plain": [
       "<Figure size 640x480 with 1 Axes>"
      ]
     },
     "metadata": {},
     "output_type": "display_data"
    }
   ],
   "source": [
    "plt.plot(train_theft.index, train_theft, label='Train')\n",
    "plt.plot(test_theft.index, test_theft, label='Test')\n",
    "plt.plot(test_theft.index, forecast_theft, label='Forecast')\n",
    "plt.legend()\n",
    "plt.title('Theft Data - Manual ARIMA Forecast')\n",
    "plt.show()"
   ]
  },
  {
   "cell_type": "code",
   "execution_count": 103,
   "id": "a8a4120b",
   "metadata": {},
   "outputs": [
    {
     "data": {
      "image/png": "[encoded data removed]",
      "text/plain": [
       "<Figure size 640x480 with 1 Axes>"
      ]
     },
     "metadata": {},
     "output_type": "display_data"
    }
   ],
   "source": [
    "plt.plot(train_battery.index, train_battery, label='Train')\n",
    "plt.plot(test_battery.index, test_battery, label='Test')\n",
    "plt.plot(test_battery.index, forecast_battery, label='Forecast')\n",
    "plt.legend()\n",
    "plt.title('battery Data - Manual ARIMA Forecast')\n",
    "plt.show()"
   ]
  },
  {
   "cell_type": "markdown",
   "id": "41f4a9e3",
   "metadata": {},
   "source": [
    "### Obtain Metrics for Evaluation"
   ]
  },
  {
   "cell_type": "code",
   "execution_count": 104,
   "id": "80802230",
   "metadata": {},
   "outputs": [
    {
     "data": {
      "text/plain": [
       "0.14620553918027837"
      ]
     },
     "execution_count": 104,
     "metadata": {},
     "output_type": "execute_result"
    }
   ],
   "source": [
    "# 'theft'  data\n",
    "mse_theft = mean_squared_error(test_theft, forecast_theft)\n",
    "mse_theft"
   ]
  },
  {
   "cell_type": "code",
   "execution_count": 105,
   "id": "89371b39",
   "metadata": {},
   "outputs": [
    {
     "data": {
      "text/plain": [
       "0.14636103670869943"
      ]
     },
     "execution_count": 105,
     "metadata": {},
     "output_type": "execute_result"
    }
   ],
   "source": [
    "#'Battery' data\n",
    "mse_battery = mean_squared_error(test_battery, forecast_battery)\n",
    "mse_battery"
   ]
  },
  {
   "cell_type": "markdown",
   "id": "f62006fd",
   "metadata": {},
   "source": [
    "### Tune with pmdarima's auto_arima"
   ]
  },
  {
   "cell_type": "code",
   "execution_count": 107,
   "id": "0e911e31",
   "metadata": {},
   "outputs": [],
   "source": [
    "from pmdarima import auto_arima"
   ]
  },
  {
   "cell_type": "code",
   "execution_count": 108,
   "id": "d1df133e",
   "metadata": {},
   "outputs": [
    {
     "data": {
      "text/html": [
       "<style>#sk-container-id-1 {color: black;}#sk-container-id-1 pre{padding: 0;}#sk-container-id-1 div.sk-toggleable {background-color: white;}#sk-container-id-1 label.sk-toggleable__label {cursor: pointer;display: block;width: 100%;margin-bottom: 0;padding: 0.3em;box-sizing: border-box;text-align: center;}#sk-container-id-1 label.sk-toggleable__label-arrow:before {content: \"▸\";float: left;margin-right: 0.25em;color: #696969;}#sk-container-id-1 label.sk-toggleable__label-arrow:hover:before {color: black;}#sk-container-id-1 div.sk-estimator:hover label.sk-toggleable__label-arrow:before {color: black;}#sk-container-id-1 div.sk-toggleable__content {max-height: 0;max-width: 0;overflow: hidden;text-align: left;background-color: #f0f8ff;}#sk-container-id-1 div.sk-toggleable__content pre {margin: 0.2em;color: black;border-radius: 0.25em;background-color: #f0f8ff;}#sk-container-id-1 input.sk-toggleable__control:checked~div.sk-toggleable__content {max-height: 200px;max-width: 100%;overflow: auto;}#sk-container-id-1 input.sk-toggleable__control:checked~label.sk-toggleable__label-arrow:before {content: \"▾\";}#sk-container-id-1 div.sk-estimator input.sk-toggleable__control:checked~label.sk-toggleable__label {background-color: #d4ebff;}#sk-container-id-1 div.sk-label input.sk-toggleable__control:checked~label.sk-toggleable__label {background-color: #d4ebff;}#sk-container-id-1 input.sk-hidden--visually {border: 0;clip: rect(1px 1px 1px 1px);clip: rect(1px, 1px, 1px, 1px);height: 1px;margin: -1px;overflow: hidden;padding: 0;position: absolute;width: 1px;}#sk-container-id-1 div.sk-estimator {font-family: monospace;background-color: #f0f8ff;border: 1px dotted black;border-radius: 0.25em;box-sizing: border-box;margin-bottom: 0.5em;}#sk-container-id-1 div.sk-estimator:hover {background-color: #d4ebff;}#sk-container-id-1 div.sk-parallel-item::after {content: \"\";width: 100%;border-bottom: 1px solid gray;flex-grow: 1;}#sk-container-id-1 div.sk-label:hover label.sk-toggleable__label {background-color: #d4ebff;}#sk-container-id-1 div.sk-serial::before {content: \"\";position: absolute;border-left: 1px solid gray;box-sizing: border-box;top: 0;bottom: 0;left: 50%;z-index: 0;}#sk-container-id-1 div.sk-serial {display: flex;flex-direction: column;align-items: center;background-color: white;padding-right: 0.2em;padding-left: 0.2em;position: relative;}#sk-container-id-1 div.sk-item {position: relative;z-index: 1;}#sk-container-id-1 div.sk-parallel {display: flex;align-items: stretch;justify-content: center;background-color: white;position: relative;}#sk-container-id-1 div.sk-item::before, #sk-container-id-1 div.sk-parallel-item::before {content: \"\";position: absolute;border-left: 1px solid gray;box-sizing: border-box;top: 0;bottom: 0;left: 50%;z-index: -1;}#sk-container-id-1 div.sk-parallel-item {display: flex;flex-direction: column;z-index: 1;position: relative;background-color: white;}#sk-container-id-1 div.sk-parallel-item:first-child::after {align-self: flex-end;width: 50%;}#sk-container-id-1 div.sk-parallel-item:last-child::after {align-self: flex-start;width: 50%;}#sk-container-id-1 div.sk-parallel-item:only-child::after {width: 0;}#sk-container-id-1 div.sk-dashed-wrapped {border: 1px dashed gray;margin: 0 0.4em 0.5em 0.4em;box-sizing: border-box;padding-bottom: 0.4em;background-color: white;}#sk-container-id-1 div.sk-label label {font-family: monospace;font-weight: bold;display: inline-block;line-height: 1.2em;}#sk-container-id-1 div.sk-label-container {text-align: center;}#sk-container-id-1 div.sk-container {/* jupyter's `normalize.less` sets `[hidden] { display: none; }` but bootstrap.min.css set `[hidden] { display: none !important; }` so we also need the `!important` here to be able to override the default hidden behavior on the sphinx rendered scikit-learn.org. See: https://github.com/scikit-learn/scikit-learn/issues/21755 */display: inline-block !important;position: relative;}#sk-container-id-1 div.sk-text-repr-fallback {display: none;}</style><div id=\"sk-container-id-1\" class=\"sk-top-container\"><div class=\"sk-text-repr-fallback\"><pre> ARIMA(0,0,0)(1,0,2)[12]          </pre><b>In a Jupyter environment, please rerun this cell to show the HTML representation or trust the notebook. <br />On GitHub, the HTML representation is unable to render, please try loading this page with nbviewer.org.</b></div><div class=\"sk-container\" hidden><div class=\"sk-item\"><div class=\"sk-estimator sk-toggleable\"><input class=\"sk-toggleable__control sk-hidden--visually\" id=\"sk-estimator-id-1\" type=\"checkbox\" checked><label for=\"sk-estimator-id-1\" class=\"sk-toggleable__label sk-toggleable__label-arrow\">ARIMA</label><div class=\"sk-toggleable__content\"><pre> ARIMA(0,0,0)(1,0,2)[12]          </pre></div></div></div></div></div>"
      ],
      "text/plain": [
       "ARIMA(order=(0, 0, 0), scoring_args={}, seasonal_order=(1, 0, 2, 12),\n",
       "      suppress_warnings=True, with_intercept=False)"
      ]
     },
     "execution_count": 108,
     "metadata": {},
     "output_type": "execute_result"
    }
   ],
   "source": [
    "#  for theft_data\n",
    "auto_model_theft = auto_arima(train_theft, seasonal=True, m=12)\n",
    "auto_model_theft"
   ]
  },
  {
   "cell_type": "code",
   "execution_count": 109,
   "id": "77075f39",
   "metadata": {},
   "outputs": [
    {
     "data": {
      "text/html": [
       "<style>#sk-container-id-2 {color: black;}#sk-container-id-2 pre{padding: 0;}#sk-container-id-2 div.sk-toggleable {background-color: white;}#sk-container-id-2 label.sk-toggleable__label {cursor: pointer;display: block;width: 100%;margin-bottom: 0;padding: 0.3em;box-sizing: border-box;text-align: center;}#sk-container-id-2 label.sk-toggleable__label-arrow:before {content: \"▸\";float: left;margin-right: 0.25em;color: #696969;}#sk-container-id-2 label.sk-toggleable__label-arrow:hover:before {color: black;}#sk-container-id-2 div.sk-estimator:hover label.sk-toggleable__label-arrow:before {color: black;}#sk-container-id-2 div.sk-toggleable__content {max-height: 0;max-width: 0;overflow: hidden;text-align: left;background-color: #f0f8ff;}#sk-container-id-2 div.sk-toggleable__content pre {margin: 0.2em;color: black;border-radius: 0.25em;background-color: #f0f8ff;}#sk-container-id-2 input.sk-toggleable__control:checked~div.sk-toggleable__content {max-height: 200px;max-width: 100%;overflow: auto;}#sk-container-id-2 input.sk-toggleable__control:checked~label.sk-toggleable__label-arrow:before {content: \"▾\";}#sk-container-id-2 div.sk-estimator input.sk-toggleable__control:checked~label.sk-toggleable__label {background-color: #d4ebff;}#sk-container-id-2 div.sk-label input.sk-toggleable__control:checked~label.sk-toggleable__label {background-color: #d4ebff;}#sk-container-id-2 input.sk-hidden--visually {border: 0;clip: rect(1px 1px 1px 1px);clip: rect(1px, 1px, 1px, 1px);height: 1px;margin: -1px;overflow: hidden;padding: 0;position: absolute;width: 1px;}#sk-container-id-2 div.sk-estimator {font-family: monospace;background-color: #f0f8ff;border: 1px dotted black;border-radius: 0.25em;box-sizing: border-box;margin-bottom: 0.5em;}#sk-container-id-2 div.sk-estimator:hover {background-color: #d4ebff;}#sk-container-id-2 div.sk-parallel-item::after {content: \"\";width: 100%;border-bottom: 1px solid gray;flex-grow: 1;}#sk-container-id-2 div.sk-label:hover label.sk-toggleable__label {background-color: #d4ebff;}#sk-container-id-2 div.sk-serial::before {content: \"\";position: absolute;border-left: 1px solid gray;box-sizing: border-box;top: 0;bottom: 0;left: 50%;z-index: 0;}#sk-container-id-2 div.sk-serial {display: flex;flex-direction: column;align-items: center;background-color: white;padding-right: 0.2em;padding-left: 0.2em;position: relative;}#sk-container-id-2 div.sk-item {position: relative;z-index: 1;}#sk-container-id-2 div.sk-parallel {display: flex;align-items: stretch;justify-content: center;background-color: white;position: relative;}#sk-container-id-2 div.sk-item::before, #sk-container-id-2 div.sk-parallel-item::before {content: \"\";position: absolute;border-left: 1px solid gray;box-sizing: border-box;top: 0;bottom: 0;left: 50%;z-index: -1;}#sk-container-id-2 div.sk-parallel-item {display: flex;flex-direction: column;z-index: 1;position: relative;background-color: white;}#sk-container-id-2 div.sk-parallel-item:first-child::after {align-self: flex-end;width: 50%;}#sk-container-id-2 div.sk-parallel-item:last-child::after {align-self: flex-start;width: 50%;}#sk-container-id-2 div.sk-parallel-item:only-child::after {width: 0;}#sk-container-id-2 div.sk-dashed-wrapped {border: 1px dashed gray;margin: 0 0.4em 0.5em 0.4em;box-sizing: border-box;padding-bottom: 0.4em;background-color: white;}#sk-container-id-2 div.sk-label label {font-family: monospace;font-weight: bold;display: inline-block;line-height: 1.2em;}#sk-container-id-2 div.sk-label-container {text-align: center;}#sk-container-id-2 div.sk-container {/* jupyter's `normalize.less` sets `[hidden] { display: none; }` but bootstrap.min.css set `[hidden] { display: none !important; }` so we also need the `!important` here to be able to override the default hidden behavior on the sphinx rendered scikit-learn.org. See: https://github.com/scikit-learn/scikit-learn/issues/21755 */display: inline-block !important;position: relative;}#sk-container-id-2 div.sk-text-repr-fallback {display: none;}</style><div id=\"sk-container-id-2\" class=\"sk-top-container\"><div class=\"sk-text-repr-fallback\"><pre> ARIMA(0,0,0)(1,0,2)[12]          </pre><b>In a Jupyter environment, please rerun this cell to show the HTML representation or trust the notebook. <br />On GitHub, the HTML representation is unable to render, please try loading this page with nbviewer.org.</b></div><div class=\"sk-container\" hidden><div class=\"sk-item\"><div class=\"sk-estimator sk-toggleable\"><input class=\"sk-toggleable__control sk-hidden--visually\" id=\"sk-estimator-id-2\" type=\"checkbox\" checked><label for=\"sk-estimator-id-2\" class=\"sk-toggleable__label sk-toggleable__label-arrow\">ARIMA</label><div class=\"sk-toggleable__content\"><pre> ARIMA(0,0,0)(1,0,2)[12]          </pre></div></div></div></div></div>"
      ],
      "text/plain": [
       "ARIMA(order=(0, 0, 0), scoring_args={}, seasonal_order=(1, 0, 2, 12),\n",
       "      suppress_warnings=True, with_intercept=False)"
      ]
     },
     "execution_count": 109,
     "metadata": {},
     "output_type": "execute_result"
    }
   ],
   "source": [
    "# for 'Battery' data\n",
    "auto_model_battery = auto_arima(train_battery, seasonal=True, m=12)\n",
    "auto_model_battery "
   ]
  },
  {
   "cell_type": "markdown",
   "id": "95aa61f3",
   "metadata": {},
   "source": [
    "### Fit Model with Best Parameters from auto_arima"
   ]
  },
  {
   "cell_type": "code",
   "execution_count": 115,
   "id": "3d88dc34",
   "metadata": {},
   "outputs": [
    {
     "data": {
      "text/html": [
       "<style>#sk-container-id-3 {color: black;}#sk-container-id-3 pre{padding: 0;}#sk-container-id-3 div.sk-toggleable {background-color: white;}#sk-container-id-3 label.sk-toggleable__label {cursor: pointer;display: block;width: 100%;margin-bottom: 0;padding: 0.3em;box-sizing: border-box;text-align: center;}#sk-container-id-3 label.sk-toggleable__label-arrow:before {content: \"▸\";float: left;margin-right: 0.25em;color: #696969;}#sk-container-id-3 label.sk-toggleable__label-arrow:hover:before {color: black;}#sk-container-id-3 div.sk-estimator:hover label.sk-toggleable__label-arrow:before {color: black;}#sk-container-id-3 div.sk-toggleable__content {max-height: 0;max-width: 0;overflow: hidden;text-align: left;background-color: #f0f8ff;}#sk-container-id-3 div.sk-toggleable__content pre {margin: 0.2em;color: black;border-radius: 0.25em;background-color: #f0f8ff;}#sk-container-id-3 input.sk-toggleable__control:checked~div.sk-toggleable__content {max-height: 200px;max-width: 100%;overflow: auto;}#sk-container-id-3 input.sk-toggleable__control:checked~label.sk-toggleable__label-arrow:before {content: \"▾\";}#sk-container-id-3 div.sk-estimator input.sk-toggleable__control:checked~label.sk-toggleable__label {background-color: #d4ebff;}#sk-container-id-3 div.sk-label input.sk-toggleable__control:checked~label.sk-toggleable__label {background-color: #d4ebff;}#sk-container-id-3 input.sk-hidden--visually {border: 0;clip: rect(1px 1px 1px 1px);clip: rect(1px, 1px, 1px, 1px);height: 1px;margin: -1px;overflow: hidden;padding: 0;position: absolute;width: 1px;}#sk-container-id-3 div.sk-estimator {font-family: monospace;background-color: #f0f8ff;border: 1px dotted black;border-radius: 0.25em;box-sizing: border-box;margin-bottom: 0.5em;}#sk-container-id-3 div.sk-estimator:hover {background-color: #d4ebff;}#sk-container-id-3 div.sk-parallel-item::after {content: \"\";width: 100%;border-bottom: 1px solid gray;flex-grow: 1;}#sk-container-id-3 div.sk-label:hover label.sk-toggleable__label {background-color: #d4ebff;}#sk-container-id-3 div.sk-serial::before {content: \"\";position: absolute;border-left: 1px solid gray;box-sizing: border-box;top: 0;bottom: 0;left: 50%;z-index: 0;}#sk-container-id-3 div.sk-serial {display: flex;flex-direction: column;align-items: center;background-color: white;padding-right: 0.2em;padding-left: 0.2em;position: relative;}#sk-container-id-3 div.sk-item {position: relative;z-index: 1;}#sk-container-id-3 div.sk-parallel {display: flex;align-items: stretch;justify-content: center;background-color: white;position: relative;}#sk-container-id-3 div.sk-item::before, #sk-container-id-3 div.sk-parallel-item::before {content: \"\";position: absolute;border-left: 1px solid gray;box-sizing: border-box;top: 0;bottom: 0;left: 50%;z-index: -1;}#sk-container-id-3 div.sk-parallel-item {display: flex;flex-direction: column;z-index: 1;position: relative;background-color: white;}#sk-container-id-3 div.sk-parallel-item:first-child::after {align-self: flex-end;width: 50%;}#sk-container-id-3 div.sk-parallel-item:last-child::after {align-self: flex-start;width: 50%;}#sk-container-id-3 div.sk-parallel-item:only-child::after {width: 0;}#sk-container-id-3 div.sk-dashed-wrapped {border: 1px dashed gray;margin: 0 0.4em 0.5em 0.4em;box-sizing: border-box;padding-bottom: 0.4em;background-color: white;}#sk-container-id-3 div.sk-label label {font-family: monospace;font-weight: bold;display: inline-block;line-height: 1.2em;}#sk-container-id-3 div.sk-label-container {text-align: center;}#sk-container-id-3 div.sk-container {/* jupyter's `normalize.less` sets `[hidden] { display: none; }` but bootstrap.min.css set `[hidden] { display: none !important; }` so we also need the `!important` here to be able to override the default hidden behavior on the sphinx rendered scikit-learn.org. See: https://github.com/scikit-learn/scikit-learn/issues/21755 */display: inline-block !important;position: relative;}#sk-container-id-3 div.sk-text-repr-fallback {display: none;}</style><div id=\"sk-container-id-3\" class=\"sk-top-container\"><div class=\"sk-text-repr-fallback\"><pre> ARIMA(0,0,0)(1,0,2)[12]          </pre><b>In a Jupyter environment, please rerun this cell to show the HTML representation or trust the notebook. <br />On GitHub, the HTML representation is unable to render, please try loading this page with nbviewer.org.</b></div><div class=\"sk-container\" hidden><div class=\"sk-item\"><div class=\"sk-estimator sk-toggleable\"><input class=\"sk-toggleable__control sk-hidden--visually\" id=\"sk-estimator-id-3\" type=\"checkbox\" checked><label for=\"sk-estimator-id-3\" class=\"sk-toggleable__label sk-toggleable__label-arrow\">ARIMA</label><div class=\"sk-toggleable__content\"><pre> ARIMA(0,0,0)(1,0,2)[12]          </pre></div></div></div></div></div>"
      ],
      "text/plain": [
       "ARIMA(order=(0, 0, 0), scoring_args={}, seasonal_order=(1, 0, 2, 12),\n",
       "      suppress_warnings=True, with_intercept=False)"
      ]
     },
     "execution_count": 115,
     "metadata": {},
     "output_type": "execute_result"
    }
   ],
   "source": [
    "#  for theft_data\n",
    "auto_fit_theft = auto_model_theft.fit(train_theft)\n",
    "auto_fit_theft\n"
   ]
  },
  {
   "cell_type": "code",
   "execution_count": 116,
   "id": "5fa92cd9",
   "metadata": {},
   "outputs": [
    {
     "data": {
      "text/html": [
       "<style>#sk-container-id-4 {color: black;}#sk-container-id-4 pre{padding: 0;}#sk-container-id-4 div.sk-toggleable {background-color: white;}#sk-container-id-4 label.sk-toggleable__label {cursor: pointer;display: block;width: 100%;margin-bottom: 0;padding: 0.3em;box-sizing: border-box;text-align: center;}#sk-container-id-4 label.sk-toggleable__label-arrow:before {content: \"▸\";float: left;margin-right: 0.25em;color: #696969;}#sk-container-id-4 label.sk-toggleable__label-arrow:hover:before {color: black;}#sk-container-id-4 div.sk-estimator:hover label.sk-toggleable__label-arrow:before {color: black;}#sk-container-id-4 div.sk-toggleable__content {max-height: 0;max-width: 0;overflow: hidden;text-align: left;background-color: #f0f8ff;}#sk-container-id-4 div.sk-toggleable__content pre {margin: 0.2em;color: black;border-radius: 0.25em;background-color: #f0f8ff;}#sk-container-id-4 input.sk-toggleable__control:checked~div.sk-toggleable__content {max-height: 200px;max-width: 100%;overflow: auto;}#sk-container-id-4 input.sk-toggleable__control:checked~label.sk-toggleable__label-arrow:before {content: \"▾\";}#sk-container-id-4 div.sk-estimator input.sk-toggleable__control:checked~label.sk-toggleable__label {background-color: #d4ebff;}#sk-container-id-4 div.sk-label input.sk-toggleable__control:checked~label.sk-toggleable__label {background-color: #d4ebff;}#sk-container-id-4 input.sk-hidden--visually {border: 0;clip: rect(1px 1px 1px 1px);clip: rect(1px, 1px, 1px, 1px);height: 1px;margin: -1px;overflow: hidden;padding: 0;position: absolute;width: 1px;}#sk-container-id-4 div.sk-estimator {font-family: monospace;background-color: #f0f8ff;border: 1px dotted black;border-radius: 0.25em;box-sizing: border-box;margin-bottom: 0.5em;}#sk-container-id-4 div.sk-estimator:hover {background-color: #d4ebff;}#sk-container-id-4 div.sk-parallel-item::after {content: \"\";width: 100%;border-bottom: 1px solid gray;flex-grow: 1;}#sk-container-id-4 div.sk-label:hover label.sk-toggleable__label {background-color: #d4ebff;}#sk-container-id-4 div.sk-serial::before {content: \"\";position: absolute;border-left: 1px solid gray;box-sizing: border-box;top: 0;bottom: 0;left: 50%;z-index: 0;}#sk-container-id-4 div.sk-serial {display: flex;flex-direction: column;align-items: center;background-color: white;padding-right: 0.2em;padding-left: 0.2em;position: relative;}#sk-container-id-4 div.sk-item {position: relative;z-index: 1;}#sk-container-id-4 div.sk-parallel {display: flex;align-items: stretch;justify-content: center;background-color: white;position: relative;}#sk-container-id-4 div.sk-item::before, #sk-container-id-4 div.sk-parallel-item::before {content: \"\";position: absolute;border-left: 1px solid gray;box-sizing: border-box;top: 0;bottom: 0;left: 50%;z-index: -1;}#sk-container-id-4 div.sk-parallel-item {display: flex;flex-direction: column;z-index: 1;position: relative;background-color: white;}#sk-container-id-4 div.sk-parallel-item:first-child::after {align-self: flex-end;width: 50%;}#sk-container-id-4 div.sk-parallel-item:last-child::after {align-self: flex-start;width: 50%;}#sk-container-id-4 div.sk-parallel-item:only-child::after {width: 0;}#sk-container-id-4 div.sk-dashed-wrapped {border: 1px dashed gray;margin: 0 0.4em 0.5em 0.4em;box-sizing: border-box;padding-bottom: 0.4em;background-color: white;}#sk-container-id-4 div.sk-label label {font-family: monospace;font-weight: bold;display: inline-block;line-height: 1.2em;}#sk-container-id-4 div.sk-label-container {text-align: center;}#sk-container-id-4 div.sk-container {/* jupyter's `normalize.less` sets `[hidden] { display: none; }` but bootstrap.min.css set `[hidden] { display: none !important; }` so we also need the `!important` here to be able to override the default hidden behavior on the sphinx rendered scikit-learn.org. See: https://github.com/scikit-learn/scikit-learn/issues/21755 */display: inline-block !important;position: relative;}#sk-container-id-4 div.sk-text-repr-fallback {display: none;}</style><div id=\"sk-container-id-4\" class=\"sk-top-container\"><div class=\"sk-text-repr-fallback\"><pre> ARIMA(0,0,0)(1,0,2)[12]          </pre><b>In a Jupyter environment, please rerun this cell to show the HTML representation or trust the notebook. <br />On GitHub, the HTML representation is unable to render, please try loading this page with nbviewer.org.</b></div><div class=\"sk-container\" hidden><div class=\"sk-item\"><div class=\"sk-estimator sk-toggleable\"><input class=\"sk-toggleable__control sk-hidden--visually\" id=\"sk-estimator-id-4\" type=\"checkbox\" checked><label for=\"sk-estimator-id-4\" class=\"sk-toggleable__label sk-toggleable__label-arrow\">ARIMA</label><div class=\"sk-toggleable__content\"><pre> ARIMA(0,0,0)(1,0,2)[12]          </pre></div></div></div></div></div>"
      ],
      "text/plain": [
       "ARIMA(order=(0, 0, 0), scoring_args={}, seasonal_order=(1, 0, 2, 12),\n",
       "      suppress_warnings=True, with_intercept=False)"
      ]
     },
     "execution_count": 116,
     "metadata": {},
     "output_type": "execute_result"
    }
   ],
   "source": [
    "#  for 'Battery' data\n",
    "auto_fit_battery = auto_model_battery.fit(train_battery)\n",
    "auto_fit_battery"
   ]
  },
  {
   "cell_type": "markdown",
   "id": "d9c36822",
   "metadata": {},
   "source": [
    "### Make Forecasts with auto_arima Model"
   ]
  },
  {
   "cell_type": "code",
   "execution_count": 117,
   "id": "cdeb0bdf",
   "metadata": {},
   "outputs": [
    {
     "data": {
      "text/plain": [
       "2021-08-31   -1.385647e-17\n",
       "2021-09-30   -1.130823e-17\n",
       "2021-10-31   -1.097898e-17\n",
       "2021-11-30   -2.100316e-17\n",
       "2021-12-31   -3.363929e-17\n",
       "2022-01-31    3.764233e-01\n",
       "Freq: M, dtype: float64"
      ]
     },
     "execution_count": 117,
     "metadata": {},
     "output_type": "execute_result"
    }
   ],
   "source": [
    "forecast_auto_theft = auto_fit_theft.predict(n_periods=6)  # Forecasting for 6 months\n",
    "forecast_auto_theft"
   ]
  },
  {
   "cell_type": "code",
   "execution_count": 118,
   "id": "0ca3ba5b",
   "metadata": {
    "scrolled": true
   },
   "outputs": [
    {
     "data": {
      "text/plain": [
       "2022-08-31    5.890319e-19\n",
       "2022-09-30    1.128163e-18\n",
       "2022-10-31   -2.512576e-19\n",
       "2022-11-30   -5.647041e-19\n",
       "2022-12-31    3.535275e-18\n",
       "2023-01-31    3.262167e-01\n",
       "Freq: M, dtype: float64"
      ]
     },
     "execution_count": 118,
     "metadata": {},
     "output_type": "execute_result"
    }
   ],
   "source": [
    "#  for 'Battery' data\n",
    "forecast_auto_battery = auto_fit_battery.predict(n_periods=6)  # Forecasting for 6 months\n",
    "forecast_auto_battery"
   ]
  },
  {
   "cell_type": "markdown",
   "id": "391fc50d",
   "metadata": {},
   "source": [
    "### Plot Forecasts versus Test Data for auto_arima"
   ]
  },
  {
   "cell_type": "code",
   "execution_count": 119,
   "id": "e5586b96",
   "metadata": {},
   "outputs": [
    {
     "data": {
      "image/png": "[encoded data removed]",
      "text/plain": [
       "<Figure size 640x480 with 1 Axes>"
      ]
     },
     "metadata": {},
     "output_type": "display_data"
    }
   ],
   "source": [
    "plt.plot(train_theft.index, train_theft, label='Train')\n",
    "plt.plot(test_theft.index, test_theft, label='Test')\n",
    "plt.plot(test_theft.index, forecast_auto_theft, label='Auto ARIMA Forecast')\n",
    "plt.legend()\n",
    "plt.title('Theft Data - Auto ARIMA Forecast')\n",
    "plt.show()"
   ]
  },
  {
   "cell_type": "code",
   "execution_count": 120,
   "id": "40be9194",
   "metadata": {
    "scrolled": true
   },
   "outputs": [
    {
     "data": {
      "image/png": "[encoded data removed]",
      "text/plain": [
       "<Figure size 640x480 with 1 Axes>"
      ]
     },
     "metadata": {},
     "output_type": "display_data"
    }
   ],
   "source": [
    "plt.plot(train_battery.index, train_battery, label='Train')\n",
    "plt.plot(test_battery.index, test_battery, label='Test')\n",
    "plt.plot(test_battery.index, forecast_auto_battery, label='Auto ARIMA Forecast')\n",
    "plt.legend()\n",
    "plt.title('Theft Data - Auto ARIMA Forecast')\n",
    "plt.show()"
   ]
  },
  {
   "cell_type": "markdown",
   "id": "cbefdd4d",
   "metadata": {},
   "source": [
    "### Answering Questions in Markdown"
   ]
  },
  {
   "cell_type": "markdown",
   "id": "f4902819",
   "metadata": {},
   "source": [
    "#### theft"
   ]
  },
  {
   "cell_type": "code",
   "execution_count": 121,
   "id": "2bafc449",
   "metadata": {},
   "outputs": [
    {
     "data": {
      "text/plain": [
       "0.3764233345455098"
      ]
     },
     "execution_count": 121,
     "metadata": {},
     "output_type": "execute_result"
    }
   ],
   "source": [
    "# Calculate net change\n",
    "net_change_theft = forecast_auto_theft[-1] - forecast_auto_theft[0]\n",
    "net_change_theft"
   ]
  },
  {
   "cell_type": "code",
   "execution_count": 126,
   "id": "7cfdf580",
   "metadata": {},
   "outputs": [
    {
     "data": {
      "text/plain": [
       "-2.7165887239015327e+18"
      ]
     },
     "execution_count": 126,
     "metadata": {},
     "output_type": "execute_result"
    }
   ],
   "source": [
    "# Calculate percent change\n",
    "percent_change_theft = (net_change_theft / forecast_auto_theft[0]) * 100\n",
    "percent_change_theft"
   ]
  },
  {
   "cell_type": "markdown",
   "id": "f416791f",
   "metadata": {},
   "source": [
    "#### battery"
   ]
  },
  {
   "cell_type": "code",
   "execution_count": 124,
   "id": "577269bd",
   "metadata": {},
   "outputs": [
    {
     "data": {
      "text/plain": [
       "0.3262167085314014"
      ]
     },
     "execution_count": 124,
     "metadata": {},
     "output_type": "execute_result"
    }
   ],
   "source": [
    "# Calculate net change\n",
    "net_change_battery = forecast_auto_battery[-1] - forecast_auto_battery[0]\n",
    "net_change_battery"
   ]
  },
  {
   "cell_type": "code",
   "execution_count": 125,
   "id": "1a284575",
   "metadata": {},
   "outputs": [
    {
     "data": {
      "text/plain": [
       "5.5381838380041126e+19"
      ]
     },
     "execution_count": 125,
     "metadata": {},
     "output_type": "execute_result"
    }
   ],
   "source": [
    "# Calculate percent change\n",
    "percent_change_battery = (net_change_battery / forecast_auto_battery[0]) * 100\n",
    "percent_change_battery"
   ]
  },
  {
   "cell_type": "markdown",
   "id": "ded4372d",
   "metadata": {},
   "source": [
    "#### For Theft:\n",
    "- Calculate the predicted net change in the number (raw counts) of theft from the beginning of the forecast to the end:  \n",
    "\n",
    "0.3764233345455098\n",
    "- Convert the raw delta into a percent change:\n",
    "\n",
    "-2.7165887239015327e+18%\n",
    "\n",
    "#### For Battery:\n",
    "- Calculate the predicted net change in the number (raw counts) of battery from the beginning of the forecast to the end:\n",
    "\n",
    "0.3262167085314014\n",
    "\n",
    "- Convert the raw delta into a percent change.\n",
    "\n",
    "5.5381838380041126e+19%\n"
   ]
  },
  {
   "cell_type": "markdown",
   "id": "28a41e61",
   "metadata": {},
   "source": [
    "### Final Evaluation and Recommendations"
   ]
  },
  {
   "cell_type": "markdown",
   "id": "76090a90",
   "metadata": {},
   "source": [
    "#### evaluation "
   ]
  },
  {
   "cell_type": "code",
   "execution_count": 127,
   "id": "0d92af14",
   "metadata": {},
   "outputs": [
    {
     "data": {
      "text/plain": [
       "0.3764233345455098"
      ]
     },
     "execution_count": 127,
     "metadata": {},
     "output_type": "execute_result"
    }
   ],
   "source": [
    "# Check the forecasted counts at the end\n",
    "final_count_theft = forecast_auto_theft[-1]\n",
    "final_count_theft "
   ]
  },
  {
   "cell_type": "code",
   "execution_count": 129,
   "id": "a67bcf44",
   "metadata": {},
   "outputs": [
    {
     "data": {
      "text/plain": [
       "0.3262167085314014"
      ]
     },
     "execution_count": 129,
     "metadata": {},
     "output_type": "execute_result"
    }
   ],
   "source": [
    "final_count_battery = forecast_auto_battery[-1]\n",
    "\n",
    "final_count_battery"
   ]
  },
  {
   "cell_type": "code",
   "execution_count": 131,
   "id": "3a40eff6",
   "metadata": {},
   "outputs": [
    {
     "data": {
      "text/plain": [
       "'Theft'"
      ]
     },
     "execution_count": 131,
     "metadata": {},
     "output_type": "execute_result"
    }
   ],
   "source": [
    "# Compare and determine which has the highest count\n",
    "highest_count_crime = 'Theft' if final_count_theft > final_count_battery else 'Battery'\n",
    "highest_count_crime"
   ]
  },
  {
   "cell_type": "code",
   "execution_count": 132,
   "id": "72a87d07",
   "metadata": {},
   "outputs": [
    {
     "data": {
      "text/plain": [
       "'Theft'"
      ]
     },
     "execution_count": 132,
     "metadata": {},
     "output_type": "execute_result"
    }
   ],
   "source": [
    "# Compare and determine which has the highest net change\n",
    "highest_net_change_crime = 'Theft' if net_change_theft > net_change_battery else 'Battery'\n",
    "highest_net_change_crime\n"
   ]
  },
  {
   "cell_type": "code",
   "execution_count": 134,
   "id": "d0f21215",
   "metadata": {},
   "outputs": [
    {
     "data": {
      "text/plain": [
       "'Battery'"
      ]
     },
     "execution_count": 134,
     "metadata": {},
     "output_type": "execute_result"
    }
   ],
   "source": [
    "# Compare and determine which has the highest percent change\n",
    "highest_percent_change_crime = 'Theft' if percent_change_theft > percent_change_battery else 'Battery'\n",
    "highest_percent_change_crime"
   ]
  },
  {
   "cell_type": "markdown",
   "id": "836b6e1c",
   "metadata": {},
   "source": [
    "#### Evaluation:\n",
    "- Of the two crimes, which is forecasted to have the highest monthly count of crimes at the end of the forecast? : theft\n",
    "- Of the two crimes, which is forecasted to have the highest net change by the end of the forecast?: theft\n",
    "- Of the two crimes, which is forecasted to have the highest percent change by the end of the forecast?: battery\n",
    "\n",
    "#### Recommendations:\n",
    "\n",
    "\n",
    "- Allocate additional resources and attention to areas and initiatives related to preventing and addressing Theft,\n",
    "\n",
    "- Keep a close eye on areas and factors contributing to the increase in Battery crimes. Explore and implement targeted strategies to address the specific challenges associated with this crime type."
   ]
  },
  {
   "cell_type": "code",
   "execution_count": null,
   "id": "96259011",
   "metadata": {},
   "outputs": [],
   "source": []
  }
 ],
 "metadata": {
  "kernelspec": {
   "display_name": "Python (dojo-env)",
   "language": "python",
   "name": "dojo-env"
  },
  "language_info": {
   "codemirror_mode": {
    "name": "ipython",
    "version": 3
   },
   "file_extension": ".py",
   "mimetype": "text/x-python",
   "name": "python",
   "nbconvert_exporter": "python",
   "pygments_lexer": "ipython3",
   "version": "3.11.4"
  },
  "toc": {
   "base_numbering": 1,
   "nav_menu": {},
   "number_sections": false,
   "sideBar": true,
   "skip_h1_title": false,
   "title_cell": "Table of Contents",
   "title_sidebar": "Contents",
   "toc_cell": false,
   "toc_position": {
    "height": "calc(100% - 180px)",
    "left": "10px",
    "top": "150px",
    "width": "262.387px"
   },
   "toc_section_display": true,
   "toc_window_display": false
  }
 },
 "nbformat": 4,
 "nbformat_minor": 5
}
